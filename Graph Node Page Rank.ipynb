{
 "cells": [
  {
   "cell_type": "markdown",
   "id": "151f05e1",
   "metadata": {},
   "source": [
    "# Exercise B: Write a program to compute the pagerank of a graph."
   ]
  },
  {
   "cell_type": "code",
   "execution_count": 436,
   "id": "bcb16977",
   "metadata": {},
   "outputs": [],
   "source": [
    "import numpy as np\n",
    "import pandas as pd"
   ]
  },
  {
   "cell_type": "code",
   "execution_count": 344,
   "id": "b330f404",
   "metadata": {},
   "outputs": [],
   "source": [
    "# The input for the program will be the adjacency matrix M of the graph.\n",
    "# We will iterate the equation r=(1-d)/N +dMr, where r is the column of page ranks, d=0.85 is the damping factor, \n",
    "# and N is the number of rows/columns of M, until the change in each component of r is < epsilon=.01."
   ]
  },
  {
   "cell_type": "code",
   "execution_count": 437,
   "id": "81796e3b",
   "metadata": {},
   "outputs": [],
   "source": [
    "# Initialize adjacency matrix M of the graph.\n",
    "M=np.matrix([[0,0,0,1,0],\n",
    "             [1,0,0.5,0,0],\n",
    "             [0,0.5,0,0,0],\n",
    "             [0,0.5,0,0,0],\n",
    "             [0,0,0.5,0,0]])\n",
    "# Initialize d=0.85.\n",
    "d=0.85\n",
    "# Initialize all pageranks as 1.\n",
    "N=np.shape(M)[0]\n",
    "P=np.array([1,1,1,1,1])"
   ]
  },
  {
   "cell_type": "code",
   "execution_count": 447,
   "id": "758bb54f",
   "metadata": {},
   "outputs": [],
   "source": [
    "P=np.matrix([1,1,1,1,1])\n",
    "def PageRank(M,T):\n",
    "    P=np.matrix([1,1,1,1,1])\n",
    "    thresh=1\n",
    "    while thresh>T:\n",
    "        Q=(1-d)/N+d*(np.inner(M,P))\n",
    "        rows,cols = P.shape\n",
    "        thresh=max(abs(P[0,0]-Q[0]),abs(P[0,1]-Q[1]),abs(P[0,2]-Q[2]),abs(P[0,3]-Q[3]),abs(P[0,4]-Q[4]))\n",
    "        S=np.matrix([float(Q[0]),float(Q[1]),float(Q[2]),float(Q[3]),float(Q[4])])\n",
    "        P=pd.DataFrame(P)\n",
    "        S=pd.DataFrame(S)\n",
    "        for r in range(rows):\n",
    "            for c in range(cols):\n",
    "                P[c][r]=S[c][r]\n",
    "        P=np.matrix(P)\n",
    "        S=np.matrix(S)\n",
    "        print(S,thresh)"
   ]
  },
  {
   "cell_type": "code",
   "execution_count": 448,
   "id": "a242afaf",
   "metadata": {},
   "outputs": [
    {
     "name": "stdout",
     "output_type": "stream",
     "text": [
      "[[0.88  1.305 0.455 0.455 0.455]] [[0.545]]\n",
      "[[0.41675  0.971375 0.584625 0.584625 0.223375]] [[0.46325]]\n",
      "[[0.52693125 0.63270312 0.44283438 0.44283438 0.27846562]] [[0.33867188]]\n",
      "[[0.40640922 0.66609617 0.29889883 0.29889883 0.21820461]] [[0.14393555]]\n",
      "[[0.284064   0.50247984 0.31309087 0.31309087 0.157032  ]] [[0.16361633]]\n",
      "[[0.29612724 0.40451802 0.24355393 0.24355393 0.16306362]] [[0.09796181]]\n",
      "[[0.23702084 0.38521858 0.20192016 0.20192016 0.13351042]] [[0.0591064]]\n",
      "[[0.20163214 0.31728378 0.1937179  0.1937179  0.11581607]] [[0.06793479]]\n",
      "[[0.19466021 0.28371742 0.16484561 0.16484561 0.11233011]] [[0.03356636]]\n",
      "[[0.17011877 0.26552056 0.1505799  0.1505799  0.10005938]] [[0.02454144]]\n",
      "[[0.15799292 0.23859741 0.14284624 0.14284624 0.09399646]] [[0.02692315]]\n",
      "[[0.1514193  0.22500363 0.1314039  0.1314039  0.09070965]] [[0.01359378]]\n",
      "[[0.14169331 0.21455307 0.12562654 0.12562654 0.08584666]] [[0.01045057]]\n",
      "[[0.13678256 0.2038306  0.12118505 0.12118505 0.08339128]] [[0.01072247]]\n",
      "[[0.13300729 0.19776883 0.116628   0.116628   0.08150365]] [[0.00606177]]\n"
     ]
    },
    {
     "name": "stderr",
     "output_type": "stream",
     "text": [
      "C:\\Users\\Kenny\\AppData\\Local\\Temp\\ipykernel_13120\\421010696.py:14: SettingWithCopyWarning: \n",
      "A value is trying to be set on a copy of a slice from a DataFrame\n",
      "\n",
      "See the caveats in the documentation: https://pandas.pydata.org/pandas-docs/stable/user_guide/indexing.html#returning-a-view-versus-a-copy\n",
      "  P[c][r]=S[c][r]\n"
     ]
    }
   ],
   "source": [
    "PageRank(M,.01)"
   ]
  },
  {
   "cell_type": "markdown",
   "id": "2def60c8",
   "metadata": {},
   "source": [
    "# 15 iterations to get epsilon <.01"
   ]
  },
  {
   "cell_type": "code",
   "execution_count": 192,
   "id": "3c5c12cb",
   "metadata": {},
   "outputs": [],
   "source": [
    "M=np.matrix([[0,0,0,1,0],\n",
    "             [1,0,1,0,0],\n",
    "             [0,1,0,0,0],\n",
    "             [0,1,0,0,0],\n",
    "             [0,0,0,1,0]])\n",
    "P=np.matrix([1,1,1,1,1])"
   ]
  },
  {
   "cell_type": "code",
   "execution_count": 193,
   "id": "d4479555",
   "metadata": {},
   "outputs": [
    {
     "data": {
      "text/plain": [
       "matrix([[1],\n",
       "        [2],\n",
       "        [1],\n",
       "        [1],\n",
       "        [1]])"
      ]
     },
     "execution_count": 193,
     "metadata": {},
     "output_type": "execute_result"
    }
   ],
   "source": [
    "np.inner(M,P)"
   ]
  },
  {
   "cell_type": "code",
   "execution_count": 195,
   "id": "608d5335",
   "metadata": {},
   "outputs": [
    {
     "data": {
      "text/plain": [
       "matrix([[0.88],\n",
       "        [1.73],\n",
       "        [0.88],\n",
       "        [0.88],\n",
       "        [0.88]])"
      ]
     },
     "execution_count": 195,
     "metadata": {},
     "output_type": "execute_result"
    }
   ],
   "source": [
    "Q=(1-d)/N+d*(np.inner(M,P))\n",
    "Q"
   ]
  },
  {
   "cell_type": "code",
   "execution_count": 65,
   "id": "76d117fe",
   "metadata": {},
   "outputs": [],
   "source": [
    "Q=(1-d)/N+d*(np.inner(M,P))"
   ]
  },
  {
   "cell_type": "code",
   "execution_count": 67,
   "id": "13dd32bb",
   "metadata": {},
   "outputs": [
    {
     "data": {
      "text/plain": [
       "matrix([[0.88, 1.73, 0.88, 0.88, 0.88]])"
      ]
     },
     "execution_count": 67,
     "metadata": {},
     "output_type": "execute_result"
    }
   ],
   "source": [
    "Q"
   ]
  },
  {
   "cell_type": "code",
   "execution_count": 202,
   "id": "e41af466",
   "metadata": {},
   "outputs": [
    {
     "data": {
      "text/plain": [
       "1"
      ]
     },
     "execution_count": 202,
     "metadata": {},
     "output_type": "execute_result"
    }
   ],
   "source": [
    "P[0,0]"
   ]
  },
  {
   "cell_type": "code",
   "execution_count": 99,
   "id": "25a85433",
   "metadata": {},
   "outputs": [
    {
     "data": {
      "text/plain": [
       "0.030000000000000006"
      ]
     },
     "execution_count": 99,
     "metadata": {},
     "output_type": "execute_result"
    }
   ],
   "source": [
    "(1-d)/N"
   ]
  },
  {
   "cell_type": "code",
   "execution_count": 110,
   "id": "c976c906",
   "metadata": {},
   "outputs": [
    {
     "data": {
      "text/plain": [
       "(5, 5)"
      ]
     },
     "execution_count": 110,
     "metadata": {},
     "output_type": "execute_result"
    }
   ],
   "source": [
    "np.shape(M)"
   ]
  },
  {
   "cell_type": "code",
   "execution_count": 121,
   "id": "61761bc1",
   "metadata": {},
   "outputs": [
    {
     "data": {
      "text/plain": [
       "(5, 1)"
      ]
     },
     "execution_count": 121,
     "metadata": {},
     "output_type": "execute_result"
    }
   ],
   "source": [
    "np.shape(P)"
   ]
  },
  {
   "cell_type": "code",
   "execution_count": 196,
   "id": "42833a0b",
   "metadata": {},
   "outputs": [
    {
     "data": {
      "text/plain": [
       "matrix([[1, 1, 1, 1, 1]])"
      ]
     },
     "execution_count": 196,
     "metadata": {},
     "output_type": "execute_result"
    }
   ],
   "source": [
    "P"
   ]
  },
  {
   "cell_type": "code",
   "execution_count": 136,
   "id": "ef947ea6",
   "metadata": {},
   "outputs": [
    {
     "data": {
      "text/plain": [
       "1"
      ]
     },
     "execution_count": 136,
     "metadata": {},
     "output_type": "execute_result"
    }
   ],
   "source": [
    "P[0]"
   ]
  },
  {
   "cell_type": "code",
   "execution_count": 172,
   "id": "171bf3e3",
   "metadata": {},
   "outputs": [
    {
     "data": {
      "text/plain": [
       "(1, 5)"
      ]
     },
     "execution_count": 172,
     "metadata": {},
     "output_type": "execute_result"
    }
   ],
   "source": [
    "np.shape(Q)"
   ]
  },
  {
   "cell_type": "code",
   "execution_count": 257,
   "id": "2d31bf70",
   "metadata": {},
   "outputs": [
    {
     "data": {
      "text/plain": [
       "matrix([[0, 0, 0, 1, 0],\n",
       "        [1, 0, 1, 0, 0],\n",
       "        [0, 1, 0, 0, 0],\n",
       "        [0, 1, 0, 0, 0],\n",
       "        [0, 0, 0, 1, 0]])"
      ]
     },
     "execution_count": 257,
     "metadata": {},
     "output_type": "execute_result"
    }
   ],
   "source": [
    "M=np.matrix([[0,0,0,1,0],\n",
    "             [1,0,1,0,0],\n",
    "             [0,1,0,0,0],\n",
    "             [0,1,0,0,0],\n",
    "             [0,0,0,1,0]])\n",
    "M"
   ]
  },
  {
   "cell_type": "code",
   "execution_count": 258,
   "id": "56929f2f",
   "metadata": {},
   "outputs": [
    {
     "data": {
      "text/plain": [
       "matrix([[1, 1, 1, 1, 1]])"
      ]
     },
     "execution_count": 258,
     "metadata": {},
     "output_type": "execute_result"
    }
   ],
   "source": [
    "P=np.matrix([1,1,1,1,1])\n",
    "P"
   ]
  },
  {
   "cell_type": "code",
   "execution_count": 260,
   "id": "ea24dece",
   "metadata": {},
   "outputs": [
    {
     "name": "stdout",
     "output_type": "stream",
     "text": [
      "[[1 1 5 1 1]]\n"
     ]
    },
    {
     "data": {
      "text/plain": [
       "matrix([[    0,     0,     0,     1,     0],\n",
       "        [    1,     0, 41324,     0,     0],\n",
       "        [    0,     1,     0,     0,     0],\n",
       "        [    0,     1,     0,     0,     0],\n",
       "        [    0,     0,     0,     1,     0]])"
      ]
     },
     "execution_count": 260,
     "metadata": {},
     "output_type": "execute_result"
    }
   ],
   "source": [
    "P[0,2]=5\n",
    "print(P)\n",
    "M[1,2]=41324\n",
    "M"
   ]
  },
  {
   "cell_type": "code",
   "execution_count": 261,
   "id": "f27f84c1",
   "metadata": {},
   "outputs": [
    {
     "name": "stdout",
     "output_type": "stream",
     "text": [
      "[[0.88]\n",
      " [1.73]\n",
      " [0.88]\n",
      " [0.88]\n",
      " [0.88]]\n"
     ]
    },
    {
     "data": {
      "text/plain": [
       "0.88"
      ]
     },
     "execution_count": 261,
     "metadata": {},
     "output_type": "execute_result"
    }
   ],
   "source": [
    "print(Q)\n",
    "float(Q[2])"
   ]
  },
  {
   "cell_type": "code",
   "execution_count": 262,
   "id": "8109c34d",
   "metadata": {},
   "outputs": [
    {
     "data": {
      "text/plain": [
       "matrix([[1, 0, 5, 1, 1]])"
      ]
     },
     "execution_count": 262,
     "metadata": {},
     "output_type": "execute_result"
    }
   ],
   "source": [
    "P[0,1]=float(Q[2])\n",
    "P"
   ]
  },
  {
   "cell_type": "code",
   "execution_count": 267,
   "id": "16b2b249",
   "metadata": {},
   "outputs": [
    {
     "name": "stdout",
     "output_type": "stream",
     "text": [
      "[[0.  ]\n",
      " [1.73]\n",
      " [0.88]\n",
      " [0.88]\n",
      " [0.88]]\n",
      "[[1 0 5 1 1]]\n"
     ]
    }
   ],
   "source": [
    "Q[0]=P[0,1]\n",
    "print(Q)\n",
    "print(P)"
   ]
  },
  {
   "cell_type": "code",
   "execution_count": 434,
   "id": "5fc40516",
   "metadata": {},
   "outputs": [
    {
     "name": "stdout",
     "output_type": "stream",
     "text": [
      "0.88 1.305 0.455 0.455 0.455 0.5449999999999999\n",
      "0.41675 0.971375 0.584625 0.584625 0.223375 0.46325\n",
      "0.52693125 0.6327031249999999 0.442834375 0.442834375 0.278465625 0.33867187500000007\n",
      "0.40640921875 0.666096171875 0.29889882812499996 0.29889882812499996 0.218204609375 0.14393554687500004\n",
      "0.28406400390625 0.502479837890625 0.31309087304687505 0.31309087304687505 0.15703200195312497 0.16361633398437503\n",
      "0.2961272420898438 0.40451802436523443 0.24355393110351561 0.24355393110351561 0.1630636210449219 0.09796181352539057\n",
      "0.23702084143798827 0.3852185764953614 0.20192016035522461 0.20192016035522461 0.13351042071899413 0.059106400651855545\n",
      "0.2016321363019409 0.3172837833732605 0.19371789501052858 0.19371789501052858 0.11581606815097045 0.06793479312210088\n",
      "0.1946602107589493 0.2837174212361244 0.16484560793363573 0.16484560793363573 0.11233010537947466 0.033566362137136097\n",
      "0.17011876674359036 0.2655205625169021 0.15057990402535287 0.15057990402535287 0.10005938337179518 0.024541444015358932\n",
      "0.15799291842154994 0.23859741094282677 0.14284623906968338 0.14284623906968338 0.09399645921077499 0.02692315157407532\n",
      "0.1514193032092309 0.2250036322629329 0.13140389965070137 0.13140389965070137 0.09070965160461544 0.013593778679893864\n",
      "0.14169331470309618 0.21455306507939434 0.1256265437117465 0.1256265437117465 0.08584665735154809 0.010450567183538567\n",
      "0.13678256215498452 0.203830598575124 0.1211850526587426 0.1211850526587426 0.08339128107749227 0.010722466504270334\n",
      "0.13300729475993123 0.19776882521170244 0.11662800439442769 0.11662800439442769 0.08150364737996561 0.006061773363421563\n"
     ]
    }
   ],
   "source": [
    "# Set damping factor d=0.85.\n",
    "d=0.85\n",
    "# Initialize PageRanks to 1.\n",
    "A=B=C=D=E=1\n",
    "# Initialize threshold\n",
    "T=1\n",
    "while T>.01:\n",
    "    A_new=(1-d)/5+d*D\n",
    "    B_new=(1-d)/5+d*(A+C/2)\n",
    "    C_new=(1-d)/5+d*(B/2)\n",
    "    D_new=(1-d)/5+d*(B/2)\n",
    "    E_new=(1-d)/5+d*(C/2)\n",
    "    T=max(abs(A-A_new),abs(B-B_new),abs(C-C_new),abs(D-D_new),abs(E-E_new))\n",
    "    print(A_new,B_new,C_new,D_new,E_new,T)\n",
    "    A=A_new\n",
    "    B=B_new\n",
    "    C=C_new\n",
    "    D=D_new\n",
    "    E=E_new"
   ]
  },
  {
   "cell_type": "code",
   "execution_count": 449,
   "id": "2e502ba9",
   "metadata": {},
   "outputs": [
    {
     "name": "stdout",
     "output_type": "stream",
     "text": [
      "0.88 1.305 0.455 0.455 0.455 0.5449999999999999\n",
      "0.41675 0.971375 0.584625 0.584625 0.223375 0.46325\n",
      "0.52693125 0.6327031249999999 0.442834375 0.442834375 0.278465625 0.33867187500000007\n",
      "0.40640921875 0.666096171875 0.29889882812499996 0.29889882812499996 0.218204609375 0.14393554687500004\n",
      "0.28406400390625 0.502479837890625 0.31309087304687505 0.31309087304687505 0.15703200195312497 0.16361633398437503\n",
      "0.2961272420898438 0.40451802436523443 0.24355393110351561 0.24355393110351561 0.1630636210449219 0.09796181352539057\n",
      "0.23702084143798827 0.3852185764953614 0.20192016035522461 0.20192016035522461 0.13351042071899413 0.059106400651855545\n",
      "0.2016321363019409 0.3172837833732605 0.19371789501052858 0.19371789501052858 0.11581606815097045 0.06793479312210088\n",
      "0.1946602107589493 0.2837174212361244 0.16484560793363573 0.16484560793363573 0.11233010537947466 0.033566362137136097\n",
      "0.17011876674359036 0.2655205625169021 0.15057990402535287 0.15057990402535287 0.10005938337179518 0.024541444015358932\n",
      "0.15799291842154994 0.23859741094282677 0.14284623906968338 0.14284623906968338 0.09399645921077499 0.02692315157407532\n",
      "0.1514193032092309 0.2250036322629329 0.13140389965070137 0.13140389965070137 0.09070965160461544 0.013593778679893864\n",
      "0.14169331470309618 0.21455306507939434 0.1256265437117465 0.1256265437117465 0.08584665735154809 0.010450567183538567\n",
      "0.13678256215498452 0.203830598575124 0.1211850526587426 0.1211850526587426 0.08339128107749227 0.010722466504270334\n",
      "0.13300729475993123 0.19776882521170244 0.11662800439442769 0.11662800439442769 0.08150364737996561 0.006061773363421563\n"
     ]
    }
   ],
   "source": [
    "# Set damping factor d=0.85.\n",
    "d=0.85\n",
    "# Initialize PageRanks to 1.\n",
    "A=B=C=D=E=1\n",
    "# Initialize threshold\n",
    "T=1\n",
    "while T>.01:\n",
    "    A_new=(1-d)/5+d*D\n",
    "    B_new=(1-d)/5+d*(A+C/2)\n",
    "    C_new=(1-d)/5+d*(B/2)\n",
    "    D_new=(1-d)/5+d*(B/2)\n",
    "    E_new=(1-d)/5+d*(C/2)\n",
    "    T=max(abs(A-A_new),abs(B-B_new),abs(C-C_new),abs(D-D_new),abs(E-E_new))\n",
    "    print(A_new,B_new,C_new,D_new,E_new,T)\n",
    "    A=A_new\n",
    "    B=B_new\n",
    "    C=C_new\n",
    "    D=D_new\n",
    "    E=E_new"
   ]
  },
  {
   "cell_type": "code",
   "execution_count": null,
   "id": "5f7882e3",
   "metadata": {},
   "outputs": [],
   "source": []
  }
 ],
 "metadata": {
  "kernelspec": {
   "display_name": "Python 3 (ipykernel)",
   "language": "python",
   "name": "python3"
  },
  "language_info": {
   "codemirror_mode": {
    "name": "ipython",
    "version": 3
   },
   "file_extension": ".py",
   "mimetype": "text/x-python",
   "name": "python",
   "nbconvert_exporter": "python",
   "pygments_lexer": "ipython3",
   "version": "3.11.1"
  }
 },
 "nbformat": 4,
 "nbformat_minor": 5
}
