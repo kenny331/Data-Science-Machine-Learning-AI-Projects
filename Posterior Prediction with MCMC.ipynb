{
 "cells": [
  {
   "cell_type": "markdown",
   "id": "e935c93a",
   "metadata": {},
   "source": [
    "### Kenny Courser Fall 2022"
   ]
  },
  {
   "cell_type": "code",
   "execution_count": 577,
   "id": "a252854d",
   "metadata": {},
   "outputs": [],
   "source": [
    "# 1a)\n",
    "import numpy as np\n",
    "A=list(range(1,53,1))\n",
    "B=[39,46,41,42,31,44,33,42,31,28,36,40,33,45,42,28,34,42,45,37,39,35,28,30,24,40,22,46,37,37,38,36,41,38,42,43,30,45,46,51,55,36,42,44,36,44,41,38,38,56,39,40]\n",
    "C=list(zip(A,B))\n",
    "N1=np.linspace(25,50)\n",
    "N2=np.linspace(25,50)\n",
    "N=np.array(C)\n",
    "M = [[x,y] for x in N1 for y in N2]\n",
    "N3=np.linspace(1,52,num=52)\n",
    "#M=[[x,y,z] for x in N1 for y in N2 for z in N3]\n",
    "#M=np.array(M)\n",
    "\n",
    "L=[0]*53\n",
    "for i in range (0,2500):\n",
    "    k=0\n",
    "    while k<53:\n",
    "        prob=1\n",
    "        for j in range(0,52):\n",
    "            if j<k:\n",
    "                prob=prob*(M[i][0]**N[j][1]*np.exp(-M[i][0])/np.math.factorial(N[j][1]))\n",
    "            if j>=k:\n",
    "                prob=prob*(M[i][1]**N[j][1]*np.exp(-M[i][1])/np.math.factorial(N[j][1]))\n",
    "        print(prob,k,i)\n",
    "#        if prob>2.35\n",
    "        L[k]=L[k]+prob\n",
    "        k=k+1\n",
    "#print(L)"
   ]
  },
  {
   "cell_type": "markdown",
   "id": "da6594cc",
   "metadata": {},
   "source": [
    "# Each value above represents a (unnormalized) value P($\\theta$) in the space of possible triples $(\\lambda_1,\\lambda_2,W_s)$."
   ]
  },
  {
   "cell_type": "code",
   "execution_count": 203,
   "id": "cceb8c0d",
   "metadata": {},
   "outputs": [],
   "source": [
    "import random\n",
    "def reasonable_function(l1,l2,n):\n",
    "    for i in range (1,n):\n",
    "        l1=(l1+random.randrange(-1,2,1))%50\n",
    "        l2=(l2+random.randrange(-1,2,1))%50\n",
    "        print(l1,l2)"
   ]
  },
  {
   "cell_type": "code",
   "execution_count": 204,
   "id": "3a0931fe",
   "metadata": {
    "scrolled": true
   },
   "outputs": [],
   "source": [
    "reasonable_function(20,20,1000)"
   ]
  },
  {
   "cell_type": "code",
   "execution_count": 525,
   "id": "928d8ca6",
   "metadata": {
    "scrolled": true
   },
   "outputs": [],
   "source": [
    "L=[0]*2500\n",
    "for i in range (0,2500):\n",
    "#    prob=1\n",
    "    k=0\n",
    "    while k<53:\n",
    "        prob=1\n",
    "        for j in range(0,52):\n",
    "            if j<k:\n",
    "                prob=prob*(M[i][0]**N[j][1]*np.exp(-M[i][0])/np.math.factorial(N[j][1]))\n",
    "            if j>=k:\n",
    "                prob=prob*(M[i][1]**N[j][1]*np.exp(-M[i][1])/np.math.factorial(N[j][1]))\n",
    "        L[i]=L[i]+prob\n",
    "        print(prob,k,i)\n",
    "        k=k+1\n",
    "#    L[i]=prob\n",
    "print(L)"
   ]
  },
  {
   "cell_type": "code",
   "execution_count": null,
   "id": "3798d0ab",
   "metadata": {
    "scrolled": true
   },
   "outputs": [],
   "source": [
    "L"
   ]
  },
  {
   "cell_type": "markdown",
   "id": "489f422d",
   "metadata": {},
   "source": [
    "# Each value above represents the (unnormalized) probability of a particular lambda pair ($\\lambda_1,\\lambda_2$) occurring at any point during the year."
   ]
  },
  {
   "cell_type": "code",
   "execution_count": 671,
   "id": "62a603fe",
   "metadata": {},
   "outputs": [],
   "source": [
    "import random\n",
    "S=[]\n",
    "def reasonable_function(i,l,n): \n",
    "#    F=10**(-200)\n",
    "    for a in range (1,n):\n",
    "        k=0\n",
    "        L=0\n",
    "        while k<53:\n",
    "            prob=1\n",
    "            for j in range(0,52):\n",
    "                if j<k:\n",
    "                    prob=prob*(N1[i]**N[j][1]*np.exp(-N1[i])/np.math.factorial(N[j][1]))\n",
    "                if j>=k:\n",
    "                    prob=prob*(N2[l]**N[j][1]*np.exp(-N2[l])/np.math.factorial(N[j][1]))\n",
    "            L=L+prob\n",
    "#            print(prob,k,i,L)\n",
    "            k=k+1\n",
    "#        print(prob,i,L)\n",
    "        I=(i+random.randrange(-1,2,1))%50\n",
    "        J=(l+random.randrange(-1,2,1))%50\n",
    "        k=0\n",
    "        F=0\n",
    "        while k<53:\n",
    "            prob=1\n",
    "            for j in range(0,52):\n",
    "                if j<k:\n",
    "                    prob=prob*(N1[I]**N[j][1]*np.exp(-N1[I])/np.math.factorial(N[j][1]))\n",
    "                if j>=k:\n",
    "                    prob=prob*(N2[J]**N[j][1]*np.exp(-N2[J])/np.math.factorial(N[j][1]))\n",
    "            F=F+prob\n",
    "#            print(prob,k,i,L)\n",
    "            k=k+1\n",
    "        r=random.uniform(0,1)\n",
    "#        I=(i+random.randrange(-1,2,1))%50\n",
    "#        J=(l+random.randrange(-1,2,1))%50\n",
    "        print(L,F,r)\n",
    "        if F/L>r:\n",
    "#            F=L\n",
    "            print(L,N1[i],N2[l],F,N1[I],N2[J])\n",
    "            S.append([N1[i],N2[l]])\n",
    "            i=I\n",
    "            l=J\n",
    "#        else:\n",
    "#            i=(i+random.randrange(-1,2,1))%50\n",
    "#            l=(l+random.randrange(-1,2,1))%50\n",
    "#            S.append([N1[i],N2[l]]"
   ]
  },
  {
   "cell_type": "code",
   "execution_count": 683,
   "id": "d00dcdc9",
   "metadata": {
    "scrolled": true
   },
   "outputs": [],
   "source": [
    "reasonable_function(10,10,2000)"
   ]
  },
  {
   "cell_type": "code",
   "execution_count": null,
   "id": "1e494b22",
   "metadata": {
    "scrolled": true
   },
   "outputs": [],
   "source": [
    "S,len(S)"
   ]
  },
  {
   "cell_type": "markdown",
   "id": "b83f4e28",
   "metadata": {},
   "source": [
    "# Above values are converging to the most likely lambda pair."
   ]
  },
  {
   "cell_type": "code",
   "execution_count": 685,
   "id": "bfed67a3",
   "metadata": {},
   "outputs": [
    {
     "data": {
      "image/png": "[encoded data removed]",
      "text/plain": [
       "<Figure size 800x600 with 1 Axes>"
      ]
     },
     "metadata": {
      "needs_background": "light"
     },
     "output_type": "display_data"
    }
   ],
   "source": [
    "Q=[0]*len(S)\n",
    "V=[0]*len(S)\n",
    "for i in range (0,len(S)):\n",
    "    Q[i]=S[i][0]\n",
    "    V[i]=S[i][1]\n",
    "x = Q\n",
    "y = V\n",
    "plt.rcParams.update({'figure.figsize':(8,6), 'figure.dpi':100})\n",
    "plt.plot(x, y, linestyle=\"-\", marker=\"o\")\n",
    "plt.title('($\\lambda_1,\\lambda_2$)')\n",
    "plt.xlabel('$\\lambda_1$')\n",
    "plt.ylabel('$\\lambda_2$')\n",
    "\n",
    "plt.show()"
   ]
  },
  {
   "cell_type": "markdown",
   "id": "8eef1705",
   "metadata": {},
   "source": [
    "# A higher number of iterations causes a higher buildup around ~(37.5,43)ish. Changes in the initial values of $\\lambda_1$ and $\\lambda_2$ cause a bit more time before getting to the large cluster but not too much time, relatively speaking for a large number of iterations."
   ]
  },
  {
   "cell_type": "code",
   "execution_count": 572,
   "id": "8ad1e834",
   "metadata": {},
   "outputs": [
    {
     "data": {
      "image/png": "[encoded data removed]",
      "text/plain": [
       "<Figure size 1000x600 with 1 Axes>"
      ]
     },
     "metadata": {
      "needs_background": "light"
     },
     "output_type": "display_data"
    }
   ],
   "source": [
    "week=[]\n",
    "for i in range(0,53):\n",
    "    week.append(i)\n",
    "probability = []\n",
    "for i in range(0,53):\n",
    "    probability.append(L[i])\n",
    "\n",
    "import matplotlib.pyplot as plt\n",
    "fig = plt.figure()\n",
    "ax = fig.add_axes([0,0,1,1])\n",
    "\n",
    "ax.bar(week,probability)\n",
    "#ax.bar(week,probabilityR)\n",
    "ax.set_xlabel('Week')\n",
    "ax.set_ylabel('Probability of a change in lambda')\n",
    "ax.set_title('Posterior for $W_s$')\n",
    "#plt.title(\"Posterior for $W_s$\")\n",
    "plt.xticks(np.arange(0.0, 53.0, 4.0))\n",
    "plt.yticks(np.arange(0.0, .225, .025))\n",
    "\n",
    "#plt.bar(week, probabilityR, bottom=probabilityR, color='b')\n",
    "#plt.bar(week, probability, color='r')\n",
    "#y_avg = [weekly_average] * 52\n",
    "#ax.plot(weeks, y_avg, color='red', lw=2, ls='--', label=\"average plot\")\n",
    "\n",
    "\n",
    "plt.show()"
   ]
  },
  {
   "cell_type": "code",
   "execution_count": 612,
   "id": "7e355a46",
   "metadata": {
    "scrolled": true
   },
   "outputs": [],
   "source": [
    "L=[0]*50\n",
    "for i in range (0,2500):\n",
    "#    prob=1\n",
    "    k=0\n",
    "    while k<53:\n",
    "        prob=1\n",
    "        for j in range(0,52):\n",
    "            if j<k:\n",
    "                prob=prob*(M[i][0]**N[j][1]*np.exp(-M[i][0])/np.math.factorial(N[j][1]))\n",
    "            if j>=k:\n",
    "                prob=prob*(M[i][1]**N[j][1]*np.exp(-M[i][1])/np.math.factorial(N[j][1]))\n",
    "        I=i//50\n",
    "        L[I]=L[I]+prob\n",
    "        print(prob,k,i,I)\n",
    "        k=k+1\n",
    "#    L[i]=prob\n",
    "print(L)"
   ]
  },
  {
   "cell_type": "code",
   "execution_count": null,
   "id": "cceffb36",
   "metadata": {},
   "outputs": [],
   "source": [
    "L"
   ]
  },
  {
   "cell_type": "code",
   "execution_count": null,
   "id": "46a083e0",
   "metadata": {},
   "outputs": [],
   "source": [
    "sumL=0\n",
    "for i in range (0,50):\n",
    "    sumL=sumL+L[i]\n",
    "print(sumL)\n",
    "for i in range (0,50):\n",
    "    L[i]=L[i]/sumL\n",
    "L"
   ]
  },
  {
   "cell_type": "code",
   "execution_count": 616,
   "id": "4018d9b1",
   "metadata": {},
   "outputs": [
    {
     "data": {
      "image/png": "[encoded data removed]",
      "text/plain": [
       "<Figure size 1000x600 with 1 Axes>"
      ]
     },
     "metadata": {
      "needs_background": "light"
     },
     "output_type": "display_data"
    }
   ],
   "source": [
    "import matplotlib.pyplot as plt\n",
    "fig = plt.figure()\n",
    "ax = fig.add_axes([0,0,1,1])\n",
    "\n",
    "ax.bar(A,L)\n",
    "#ax.bar(week,probabilityR)\n",
    "ax.set_xlabel('$\\lambda_2$')\n",
    "ax.set_ylabel('Probability of occurrence')\n",
    "ax.set_title('Posterior for $\\lambda_1$')\n",
    "#plt.title(\"Posterior for $W_s$\")\n",
    "plt.xticks(np.arange(0.0, 53.0, 4.0))\n",
    "plt.yticks(np.arange(0.0, .225, .025))\n",
    "\n",
    "#plt.bar(week, probabilityR, bottom=probabilityR, color='b')\n",
    "#plt.bar(week, probability, color='r')\n",
    "#y_avg = [weekly_average] * 52\n",
    "#ax.plot(weeks, y_avg, color='red', lw=2, ls='--', label=\"average plot\")\n",
    "\n",
    "\n",
    "plt.show()"
   ]
  },
  {
   "cell_type": "code",
   "execution_count": 607,
   "id": "38cf2f45",
   "metadata": {},
   "outputs": [],
   "source": [
    "L=[0]*50\n",
    "for i in range (0,2500):\n",
    "#    prob=1\n",
    "    k=0\n",
    "    while k<53:\n",
    "        prob=1\n",
    "        for j in range(0,52):\n",
    "            if j<k:\n",
    "                prob=prob*(M[i][0]**N[j][1]*np.exp(-M[i][0])/np.math.factorial(N[j][1]))\n",
    "            if j>=k:\n",
    "                prob=prob*(M[i][1]**N[j][1]*np.exp(-M[i][1])/np.math.factorial(N[j][1]))\n",
    "        I=i%50\n",
    "        L[I]=L[I]+prob\n",
    "        print(prob,k,i,I)\n",
    "        k=k+1\n",
    "#    L[i]=prob\n",
    "print(L)"
   ]
  },
  {
   "cell_type": "code",
   "execution_count": null,
   "id": "edc08588",
   "metadata": {},
   "outputs": [],
   "source": [
    "L"
   ]
  },
  {
   "cell_type": "code",
   "execution_count": null,
   "id": "100f36a1",
   "metadata": {
    "scrolled": true
   },
   "outputs": [],
   "source": [
    "sumL=0\n",
    "for i in range (0,50):\n",
    "    sumL=sumL+L[i]\n",
    "print(sumL)\n",
    "for i in range (0,50):\n",
    "    L[i]=L[i]/sumL\n",
    "L"
   ]
  },
  {
   "cell_type": "code",
   "execution_count": null,
   "id": "4a63fbbb",
   "metadata": {
    "scrolled": true
   },
   "outputs": [],
   "source": [
    "A=[]\n",
    "for i in range (0,50):\n",
    "    A.append(25+i/2)\n",
    "A"
   ]
  },
  {
   "cell_type": "code",
   "execution_count": 611,
   "id": "8b1c9ea5",
   "metadata": {
    "scrolled": true
   },
   "outputs": [
    {
     "data": {
      "image/png": "[encoded data removed]",
      "text/plain": [
       "<Figure size 1000x600 with 1 Axes>"
      ]
     },
     "metadata": {
      "needs_background": "light"
     },
     "output_type": "display_data"
    }
   ],
   "source": [
    "import matplotlib.pyplot as plt\n",
    "fig = plt.figure()\n",
    "ax = fig.add_axes([0,0,1,1])\n",
    "\n",
    "ax.bar(A,L)\n",
    "#ax.bar(week,probabilityR)\n",
    "ax.set_xlabel('$\\lambda_2$')\n",
    "ax.set_ylabel('Probability of occurrence')\n",
    "ax.set_title('Posterior for $\\lambda_2$')\n",
    "#plt.title(\"Posterior for $W_s$\")\n",
    "plt.xticks(np.arange(0.0, 53.0, 4.0))\n",
    "plt.yticks(np.arange(0.0, .225, .025))\n",
    "\n",
    "#plt.bar(week, probabilityR, bottom=probabilityR, color='b')\n",
    "#plt.bar(week, probability, color='r')\n",
    "#y_avg = [weekly_average] * 52\n",
    "#ax.plot(weeks, y_avg, color='red', lw=2, ls='--', label=\"average plot\")\n",
    "\n",
    "\n",
    "plt.show()"
   ]
  },
  {
   "cell_type": "code",
   "execution_count": 578,
   "id": "d0fad6d4",
   "metadata": {},
   "outputs": [],
   "source": [
    "# 1c)\n",
    "\n",
    "R=[0]*53\n",
    "for i in range (0,2500):\n",
    "    k=0\n",
    "    while k<53:\n",
    "        prob=1\n",
    "        for j in range(0,52):\n",
    "            if j<k:\n",
    "                prob=prob*(M[i][0]**N[j][1]*np.exp(-M[i][0])/np.math.factorial(N[j][1]))\n",
    "            if j>=k:\n",
    "                prob=prob*(M[i][1]**N[j][1]*np.exp(-M[i][1])/np.math.factorial(N[j][1]))\n",
    "        print(prob,k,i)\n",
    "        if (M[i][1]-M[i][0])>5:\n",
    "            R[k]=R[k]+prob\n",
    "        k=k+1"
   ]
  },
  {
   "cell_type": "code",
   "execution_count": null,
   "id": "baebd8cd",
   "metadata": {},
   "outputs": [],
   "source": [
    "R"
   ]
  },
  {
   "cell_type": "code",
   "execution_count": 580,
   "id": "14fa0483",
   "metadata": {},
   "outputs": [
    {
     "name": "stdout",
     "output_type": "stream",
     "text": [
      "6.149845101540514e-72\n",
      "9.476299539814625e-72\n",
      "0.648971159649605\n"
     ]
    }
   ],
   "source": [
    "sumL=0\n",
    "for i in range (0,53):\n",
    "    sumL=sumL+L[i]\n",
    "    \n",
    "sumR=0\n",
    "for i in range (0,53):\n",
    "    sumR=sumR+R[i]\n",
    "print(sumR)\n",
    "print(sumL)\n",
    "print(sumR/sumL)"
   ]
  },
  {
   "cell_type": "markdown",
   "id": "ebaa6791",
   "metadata": {},
   "source": [
    "# P($(\\lambda_2-\\lambda_1)>5$)~.6489"
   ]
  },
  {
   "cell_type": "code",
   "execution_count": 1,
   "id": "609788ad",
   "metadata": {},
   "outputs": [],
   "source": [
    "# 2a)\n",
    "\n",
    "# Suppose we are in 2-dimensional Euclidean space. We start with k centers, which I will assume comes in the form of a kx2\n",
    "# (k rows, 2 columns) array K with each row representing a center.\n",
    "\n",
    "# Next suppose we are given a collection of n data points in an nx2 array called D. This is the data that we want to cluster\n",
    "# around the k centers (points of K).\n",
    "\n",
    "# Given a point d=(x,y) of D, to find which element of K we associate it with, we simply calculate the distance to each point\n",
    "# in K and take the smallest.\n",
    "\n",
    "## for i in D:\n",
    "##     for j in K:\n",
    "##         calculate dist(d_i,k_j)\n",
    "##         store above value in a list\n",
    "##     print list\n",
    "##     take smallest value in list\n",
    "##     append point d_i to a list associated with the points that are closest to center k_j\n",
    "\n",
    "# This partitions the data D into subsets D1,...,Dm where m<=k. Some of the k centers may not be the nearest of any data points.\n",
    "\n",
    "# For each partiton Ds, calculate the centroid cs. This gives us new centers in an mX2 array K'.\n",
    "\n",
    "# Repeat from second step until centers converge."
   ]
  },
  {
   "cell_type": "code",
   "execution_count": 3,
   "id": "ff968729",
   "metadata": {},
   "outputs": [
    {
     "data": {
      "text/plain": [
       "<matplotlib.collections.PathCollection at 0x25754f0c760>"
      ]
     },
     "execution_count": 3,
     "metadata": {},
     "output_type": "execute_result"
    },
    {
     "data": {
      "image/png": "[encoded data removed]",
      "text/plain": [
       "<Figure size 432x288 with 1 Axes>"
      ]
     },
     "metadata": {
      "needs_background": "light"
     },
     "output_type": "display_data"
    }
   ],
   "source": [
    "import numpy as np\n",
    "from sklearn.datasets import make_blobs\n",
    "X,Y = make_blobs(n_samples=500, cluster_std=0.8, centers=3, n_features=3, random_state=0)\n",
    "import matplotlib.pylab as plt\n",
    "plt.scatter(X[:,0],X[:,1])"
   ]
  },
  {
   "cell_type": "code",
   "execution_count": 11,
   "id": "033969e9",
   "metadata": {},
   "outputs": [
    {
     "data": {
      "text/plain": [
       "(array([[ 0.02913978, -2.54171761,  2.29810053],\n",
       "        [-1.85231334,  8.58471243,  9.80638983],\n",
       "        [ 0.96381813, -0.70884929,  1.73464089],\n",
       "        ...,\n",
       "        [-1.45306004,  8.26962677,  9.54176377],\n",
       "        [-0.01124477, -3.19260781,  1.5956487 ],\n",
       "        [ 1.02972821, -1.04955379,  3.52650834]]),\n",
       " array([1, 2, 1, 2, 1, 2, 0, 1, 1, 1, 1, 2, 2, 1, 2, 0, 1, 1, 2, 0, 0, 0,\n",
       "        2, 1, 0, 1, 0, 0, 2, 0, 2, 1, 1, 1, 2, 2, 2, 0, 0, 0, 0, 2, 2, 2,\n",
       "        2, 0, 0, 0, 2, 1, 0, 1, 2, 2, 0, 2, 1, 1, 1, 0, 0, 0, 2, 2, 2, 2,\n",
       "        1, 0, 2, 1, 2, 0, 0, 0, 2, 0, 2, 2, 0, 1, 1, 2, 1, 2, 2, 2, 0, 2,\n",
       "        1, 1, 2, 2, 2, 0, 1, 1, 0, 0, 2, 0, 1, 1, 2, 0, 2, 0, 1, 0, 1, 0,\n",
       "        0, 2, 0, 1, 1, 2, 0, 2, 0, 1, 1, 1, 2, 0, 0, 1, 2, 2, 1, 0, 1, 2,\n",
       "        1, 0, 2, 2, 2, 0, 1, 1, 1, 1, 0, 0, 2, 0, 0, 1, 2, 0, 2, 1, 2, 2,\n",
       "        0, 2, 1, 0, 2, 2, 2, 2, 0, 2, 0, 1, 1, 0, 1, 1, 2, 1, 2, 1, 2, 1,\n",
       "        1, 0, 0, 0, 1, 2, 1, 1, 2, 1, 0, 0, 1, 0, 0, 2, 0, 2, 0, 2, 0, 0,\n",
       "        0, 1, 0, 2, 1, 1, 1, 2, 0, 2, 1, 0, 1, 2, 2, 1, 1, 2, 2, 2, 1, 0,\n",
       "        0, 0, 0, 0, 1, 1, 1, 0, 0, 1, 0, 1, 1, 1, 2, 1, 2, 0, 2, 0, 0, 0,\n",
       "        1, 1, 2, 2, 0, 1, 0, 1, 2, 0, 1, 0, 2, 1, 2, 1, 0, 2, 1, 1, 2, 0,\n",
       "        1, 1, 2, 1, 2, 2, 0, 1, 2, 2, 0, 1, 0, 0, 0, 1, 2, 2, 0, 0, 1, 1,\n",
       "        0, 1, 0, 2, 1, 2, 2, 1, 1, 2, 0, 2, 2, 1, 1, 0, 1, 0, 2, 0, 1, 2,\n",
       "        1, 0, 1, 0, 2, 0, 2, 0, 1, 0, 2, 2, 2, 1, 0, 0, 0, 2, 1, 2, 2, 1,\n",
       "        0, 1, 1, 1, 1, 2, 1, 1, 0, 0, 1, 0, 0, 0, 2, 2, 1, 1, 0, 1, 2, 1,\n",
       "        0, 0, 0, 2, 2, 1, 2, 0, 2, 2, 1, 0, 0, 0, 2, 0, 1, 2, 1, 2, 2, 1,\n",
       "        0, 1, 1, 1, 2, 2, 1, 0, 2, 2, 2, 0, 2, 2, 2, 2, 1, 0, 1, 1, 1, 0,\n",
       "        0, 1, 0, 2, 2, 1, 0, 1, 0, 1, 2, 2, 1, 2, 0, 1, 0, 0, 2, 0, 1, 0,\n",
       "        2, 2, 1, 0, 2, 2, 0, 2, 0, 2, 0, 1, 0, 0, 0, 1, 1, 2, 2, 2, 2, 1,\n",
       "        0, 1, 1, 0, 0, 1, 2, 0, 0, 1, 0, 0, 2, 0, 2, 1, 1, 0, 1, 2, 0, 1,\n",
       "        0, 2, 0, 0, 2, 2, 2, 0, 2, 2, 1, 1, 2, 1, 1, 0, 1, 2, 0, 1, 2, 2,\n",
       "        0, 0, 1, 1, 1, 0, 2, 0, 1, 2, 0, 1, 0, 2, 1, 1]))"
      ]
     },
     "execution_count": 11,
     "metadata": {},
     "output_type": "execute_result"
    }
   ],
   "source": [
    "# 2b)\n",
    "X,Y"
   ]
  },
  {
   "cell_type": "code",
   "execution_count": 49,
   "id": "071e6f2e",
   "metadata": {},
   "outputs": [
    {
     "name": "stdout",
     "output_type": "stream",
     "text": [
      "[[-1, 8], [1, 4], [1, -2]]\n"
     ]
    }
   ],
   "source": [
    "#K=[]\n",
    "#for i in range (-4,5):\n",
    "#    for j in range (-4,11):\n",
    "#        K.append([i,j])\n",
    "#print(K)\n",
    "#K=[[-2,0],[0,0],[2,0],[-2,4],[0,4],[2,4],[-2,8],[0,8],[2,8]]\n",
    "K=[[-1,8],[1,4],[1,-2]]\n",
    "print(K)"
   ]
  },
  {
   "cell_type": "markdown",
   "id": "9bac959c",
   "metadata": {},
   "source": [
    "# These^ will be our candidates for centers."
   ]
  },
  {
   "cell_type": "code",
   "execution_count": 50,
   "id": "47490e39",
   "metadata": {
    "collapsed": true,
    "jupyter": {
     "outputs_hidden": true
    }
   },
   "outputs": [
    {
     "name": "stdout",
     "output_type": "stream",
     "text": [
      "[[0.029139778741392508, -2.5417176059965123], [-1.8523133416141135, 8.584712430350038], [0.9638181313739699, -0.7088492899260834], [-0.6876698678100607, 8.488246269129005], [1.8670224270373126, -2.120719443358572], [-1.9060080667781325, 7.334179516213951], [1.0394527206587045, 4.948653192933849], [-1.0422133891865741, -1.3247157164992853], [0.8400780296984054, -1.4719816305853015], [0.04857519824665102, -0.9867973703271653], [1.5737173023144244, -1.994256390093037], [-1.7422598196777865, 8.032639169797454], [-1.343444218182398, 7.083408922525125], [0.6757893006562523, -1.9046130276254576], [-0.5262240274558954, 6.806908464944278], [-0.4771480543388824, 4.153375408200422], [0.9968726822702539, -0.7985873501657862], [0.300806706809032, -2.633583511375905], [0.12951838862587373, 8.204299590198517], [0.18414196453823206, 5.801702590269129], [0.1076296021659926, 4.815576123396768], [0.2337427308903246, 5.496364861015609], [-1.766173595558087, 7.974844296172645], [0.972955144928021, -1.221273356968207], [0.8294677753447701, 4.6176337719730896], [0.21564300417907112, -1.217520089355102], [1.7836657032781402, 4.8744989838640205], [-0.16209469518579378, 3.642618430909646], [-1.1043100143348332, 7.23885826479725], [0.3393214072146965, 3.1833543135687385], [-1.4714588212986452, 9.800923259339974], [1.18738490771021, -1.8577008708132416], [1.6475675785553743, -1.0295113304342745], [0.436153961148317, -0.6207110366803774], [-1.3582404282842198, 8.307996382931245], [-2.187422912176418, 8.762788184118188], [-0.3863519664242264, 6.886742906846151], [2.4092048475144274, 4.440587677981026], [1.728187663184898, 4.788898528041819], [0.7955183539933519, 2.980130714238608], [1.1047969108249927, 3.6165990709443565], [-0.49290125046276256, 6.990799129155682], [-1.2895667728019686, 9.05566889230712], [-0.7370168040908446, 7.653091020360724], [-1.855005743414298, 8.174082749774707], [2.368472847296843, 4.012517906823207], [1.639926953462009, 4.137932929710106], [1.3187348393920764, 3.471957044605252], [-0.740351033971486, 8.163619355316087], [0.153420661993526, -0.8157199236182517], [1.6628603068303005, 4.379254759429344], [0.9717364384810777, -2.5478062670544435], [1.081037341309072, 8.555115860546154], [-0.7862949670794537, 7.458855947777732], [0.751048998101175, 4.752082793209494], [-1.3253253468147783, 7.534673117168301], [0.707059783354627, -1.2616974928509244], [0.14753425286217148, -1.9775520439196148], [-0.22077089911557257, -2.3405416761998055], [1.7199455412610514, 3.4535513908239666], [2.3862682948333642, 3.2779957541985665], [3.457494545823816, 4.990790649841925], [-0.5338125667666209, 7.8223985275988985], [0.4945720657021373, 6.355000047775352], [0.24074600419133274, 8.072308577717067], [-2.0571645698975223, 8.012748368270369], [0.6982466391084929, -2.4540130716140576], [1.2779985674330878, 4.247341544101491], [-0.6444650946777042, 6.222558932500267], [-0.5021065597551351, -1.0243398097000955], [-1.5679856575994555, 7.984529394885225], [1.2993173017025788, 3.4717644045875553], [1.994178986344987, 3.6613915338584184], [-0.13668441369876216, 4.3327951208032625], [-1.2035354009215584, 6.541148743379002], [1.755149048371413, 4.469613545396201], [-1.9786329959856084, 8.176851886040096], [-0.6591518152649452, 8.426468916087554], [1.135155288991157, 4.18714152537374], [0.6017308008832636, -0.7672078392623294], [1.7106198204073462, -1.6850251261251519], [-0.6765884254001792, 9.183687706964815], [1.4044448984874207, -3.1423085867318363], [-0.34263304092619185, 7.588453170747006], [0.3736365718558521, 8.102942839067717], [-1.3043309855817906, 7.596704569943201], [0.7453715032103763, 5.142173107203086], [-0.07997501778505844, 9.029877192033153], [0.7494764948376784, -1.6278065498562448], [1.529635510690901, -1.3674325102441198], [-0.877423962563558, 8.026244523546184], [-1.7913496387765324, 7.310953665718732], [-2.2328607383340056, 6.397291600978799], [0.5989866117082341, 5.753671048673559], [1.7344700343928117, -1.4455904278299407], [0.17013110228056139, -1.054179771161664], [1.2646118922377108, 4.630305822885669], [0.5778115964602344, 4.013474436357416], [-0.9888384640157475, 8.872934407835473], [1.0189460041618572, 5.128440085584016], [1.7882223448908738, -1.5313240082026407], [1.1242942027122576, -2.165243712497773], [-1.2570349614137863, 8.696167665978026], [1.6792289552389408, 4.310160346368248], [-2.675451257014659, 6.644350368497795], [1.5341683378540534, 2.9138439373161154], [0.11767888728702347, 0.017497067713191816], [1.1671932698706586, 4.6283012763432145], [2.087751507670929, -1.997507867082432], [1.0483603113335414, 3.5057332963779557], [0.20501939147322923, 2.7111642714481956], [-1.8635053743127932, 8.607848935271852], [0.8843509953242559, 5.698218303503849], [1.4443708881001727, -1.7148437371225604], [0.6880483279057596, -2.808191919841791], [-0.5211416231478153, 9.285110267056506], [0.7098241573934354, 4.34167918128063], [-1.2777680232364443, 8.461132602503412], [-0.02443889429935453, 5.043987928848655], [0.7662601072297599, -1.0015946717246682], [1.5780354224740414, -0.8947350001456307], [1.9265666290365135, -0.8294852208694197], [-2.1699633145920583, 6.995232968432775], [0.8666540746525375, 5.093726923550166], [1.869020841844958, 5.37534974068673], [0.18720635205297897, -1.9629717513113043], [-1.0919911749344535, 6.845800818368367], [-0.7937316332996763, 8.146258474584332], [0.6410397645531696, -2.001035865707892], [-0.008204414797922, 2.7371700398442043], [-0.3262315407053247, -2.0911728174526263], [-1.4275569055625452, 7.532842846050163], [1.6592957226784264, -2.0316619132830382], [1.7811284159717973, 3.474095431828587], [-0.12629922017345074, 7.420802910147112], [0.2306808863063845, 7.246530077379812], [-1.918423489778002, 6.683239829500736], [1.0161888099365732, 3.555362963072106], [0.7232501529988155, -1.1591783192046015], [1.869058519095824, -1.9862761909693356], [0.9094712426332024, -1.8397444764885509], [-0.1329625674870365, -1.5192469809350797], [-0.5441973304481458, 3.39372396982348], [2.0050481274277843, 3.3797337030373344], [-1.242530975496715, 7.111964935228001], [2.067671468330462, 5.183458451837449], [1.0345556648164471, 4.288943931334117], [0.859960107291973, -2.243645656069427], [-0.08614934596002843, 6.450992159112386], [1.9467401633844168, 5.219562369354433], [-1.1572778304889686, 7.331941791627012], [1.552412063053545, -1.2051841607699751], [-1.6625091945028456, 7.6610996875639845], [-1.6539221824188568, 6.333301844436148], [1.6578156603070702, 5.400573059368062], [-1.3816591957716515, 7.909423782257198], [1.0859305949951867, -2.210507910576755], [0.5229119822009292, 4.110067716054307], [-0.9353868451765841, 7.3558687204351205], [-1.9689260027460704, 7.786491388276765], [-1.96138742923371, 7.9004480913303325], [-1.20340892931556, 7.4784635351380855], [0.8199363156809637, 3.2921109768875767], [-0.4170777287152374, 7.799392488563392], [0.3216933094835417, 4.36995527608672], [0.22559673446034156, -2.310880808157333], [0.34900822205552284, -1.351925364002285], [1.440109115363598, 3.220801056182642], [2.3196774080129208, -1.1241207136633422], [1.1728969111259513, -2.414356027247113], [-1.9152536096302808, 7.839870843789568], [1.0963711845453872, -0.4671215806096405], [-0.417607592188723, 7.034192088952391], [-0.3367814870314725, -0.1993357453583382], [-0.9155687200373095, 7.027163908552366], [0.2787942439568991, -2.0837163633023525], [0.20155225912815222, -0.283246421764789], [0.5810746018409498, 4.315496654186343], [-0.09825530569714558, 5.444192228738587], [-0.1320740168341088, 4.659492641597212], [0.9064562725869633, -0.8999403945741697], [-0.8598377320537265, 7.4804133129741714], [2.42478521421524, -0.9781204643855076], [0.48610726160376233, -1.2766743553059523], [-1.0392389631902903, 6.987962842538956], [0.6997316215099085, -0.2532573407094578], [1.6318433652448179, 4.721377511132708], [2.526698063087794, 4.480100376192935], [0.5602989571804537, -3.3277266471803593], [1.4972375552203778, 3.399390167846607], [-0.4175996174449601, 3.449007824163789], [-1.2617991612355772, 7.196531333631542], [0.8744425187043177, 3.6310001187526915], [-1.5424622346949548, 6.799717159076703], [0.4473866930938154, 3.3596345149476567], [-0.2782775920314374, 8.011619465276837], [2.1570619445323125, 4.821211405159419], [1.1964287310075512, 3.5351836380613593], [0.3556601958472335, 5.100356406366036], [1.6708487423765273, -1.6340178008948978], [0.34429917016219336, 3.9271156269663425], [-1.4240829234611942, 8.011245561294194], [1.4266378574603222, -1.0272980300384498], [1.6971260372925534, -1.494769454809494], [1.303227443672775, -1.412358202225589], [-1.0114026357604988, 7.217871072557882], [2.2042933818418415, 4.756939357871844], [-0.32819863917214565, 8.422957441312628], [1.2069049979220867, -1.846386285632303], [1.8143383484807463, 3.9646703405677894], [1.9315316301034302, -2.2779135389162914], [0.3464870977596153, 6.697930272642323], [-2.074558878233736, 9.118902177544005], [-0.024663745794645586, -0.7740793644341545], [0.698866890092454, -1.910490353779711], [0.4760344563817318, 7.363116188210966], [-0.9538018309557146, 7.866711678175708], [-0.3038308403722363, 9.69106713019442], [0.8197196281094574, -1.015805214592981], [1.0681531821821124, 3.835135181512634], [1.2951386600127726, 3.4612478234907247], [1.4820312098748598, 3.8640626067445316], [0.429022676933691, 5.313645076414035], [1.0548194312146948, 5.028179289999999], [1.0136113675664609, -1.2420995375783355], [0.8072109355579797, -1.774578224534596], [-0.5505819162821863, -0.3022425750185036], [0.4179630851837949, 4.213626008631289], [0.7913207108825151, 3.0155925594358317], [1.3509732026289476, -2.9347657889903136], [1.1316353938164319, 3.5297894088572987], [2.9783669977950162, -1.7706931978898317], [0.4677150455059245, -1.2770360971042123], [1.5854599109632994, -1.2338795851061337], [-1.2857594189361448, 7.24088482400111], [0.7668020862411989, -2.0284879397068156], [-1.0743779501193984, 8.538165764049035], [2.0168270957484546, 5.038349588557128], [-1.525617500329083, 7.285407861933159], [1.3158000456091468, 5.175234563532081], [1.1540779999374617, 4.65193370149749], [-0.23574204149424327, 3.588849877558725], [0.8070433063853133, -0.4561455733874349], [1.5857932460927104, -1.5610986714434862], [-0.7597417338009258, 8.388830752457812], [-0.5032005409776299, 6.374563391109282], [0.823745295176382, 4.662697349440821], [2.2365816429163115, 0.05340941417318801], [1.105861690693549, 4.73181798140779], [1.2065441830999273, -1.898920050812151], [-1.9905480746746247, 8.344801226937866], [1.529202111521422, 2.7791175611076824], [1.4982727814933483, -1.3972093831150716], [1.8409196089908515, 4.691237050744922], [-1.4694240050917187, 8.110856958876909], [0.6780716171361714, -0.42939486973233953], [-2.6755397581693696, 8.649167353824566], [1.3328005797167626, -2.4106532129013147], [1.0137936477620348, 3.477992898063664], [-1.1633792231592093, 7.5103001447705635], [3.3435231268401195, -1.2664719886868678], [-0.17162689983316226, -1.8002418347688744], [-1.1381631178340532, 8.602877348749317], [0.5109316808765845, 3.873520164969731], [-0.07602178041688801, -1.3993149769472963], [0.6566178953042904, -1.6045901251559354], [-0.14224885797780717, 8.247378141908884], [1.2843650578402266, -0.7295124420004858], [-0.930340886682758, 8.306798630043373], [-1.6242214705026445, 7.973217056763864], [0.7082532471469709, 2.930210099550793], [2.365904667453809, -2.1988558992869507], [-1.8576237280694352, 8.29534190502988], [-0.8084795295083531, 7.949301924247084], [0.8574485741411189, 3.0441216099916657], [-0.023508856443487214, -1.7534527138311446], [0.11364767648002261, 5.420165143693241], [0.8089671846547944, 4.787445148912457], [2.1956515287591003, 5.794647581678797], [1.1159477907957918, -3.092654571979163], [-1.1085230103108314, 8.747073006539976], [0.43299340636021455, 7.339326817985301], [0.6099321422233728, 4.64410204622411], [0.7701390710370739, 4.344083900399969], [0.2885425946942327, 0.05320625903271292], [1.7377772254833799, -1.5525595229935159], [0.12755739320976145, 4.347366407166066], [1.413709681429144, -2.5686927833951416], [1.4651530464390623, 3.60189667001484], [-3.339933260077503, 8.219544644425852], [0.7901866605268996, -2.132703750440836], [-0.31587008328905875, 8.024081043713366], [-1.4018428860181886, 8.174154102272833], [-0.6338624407904083, -1.4683155578955418], [0.9781087969104666, -0.32637860278979924], [-2.797140086276777, 9.114022844872633], [0.47255655127528495, 3.9259806041086147], [-1.3070627670959059, 7.198750909566152], [-1.2995747361105257, 7.612468651919027], [0.4840894173681989, -2.055571007648415], [0.972431231912164, -2.822617089689575], [1.8623698210064399, 4.4447783293012915], [2.2797170165254066, -1.4868582112313236], [2.513347642835434, 3.935962908491806], [-1.1561762334569796, 8.086932578293984], [1.0629497175570384, 4.513122108958306], [-0.052850198792736225, -1.6464354390137834], [-0.850438997279259, 7.033762823001453], [0.7289078166186485, -2.3067896507645536], [0.7013762735365884, 4.249432501985962], [-0.028242835798801047, -2.014037620925806], [2.1825708110009803, 3.565113970450944], [-0.5143934766001649, 8.278735663711233], [0.6702811078149182, 4.85711686214425], [-1.7407090526504523, 6.1965503124070676], [0.7106457613739312, 4.066907005125555], [1.4832280459778127, -1.9680633573817667], [0.9339230509139009, 4.570191920973222], [-1.6221368008034893, 8.288390237387791], [-3.581363696966386, 8.180790951107895], [-0.6520709028718464, 6.430377373172173], [0.5940120523653718, -1.641482600483908], [1.3670112525085858, 3.6331225550227018], [1.6908911647176772, 4.613196259204905], [0.9326982035214916, 2.854764294713953], [-0.04356675106594521, 8.24639246932093], [0.14581931294513228, -1.081828687339322], [-2.4119747431468266, 9.04717350326204], [-0.6890192930038422, 8.204583283945635], [-0.8159687436771532, -0.5896910004685476], [1.3589939824124284, 4.377177448852661], [0.5455746240163175, -2.250994327582786], [-0.19009397148205798, -3.237317892707967], [1.759989640799149, -1.5445241054703192], [-0.02144795925309273, -0.12659148499349193], [-0.567480238560704, 7.71927325051277], [0.37286831603084847, -0.5332012172167392], [1.7932315897776938, -2.3017676964847325], [1.003021221353398, 4.848241122932486], [0.8728166226511604, 3.5849557972146626], [0.7545296707512766, -1.6897122985624542], [0.654490224831682, 3.0773749174481706], [1.547649134850235, 6.131254011024666], [0.05483162568185962, 4.427933404173401], [-1.0333524827323424, 7.378014843212196], [-1.5331364287194622, 7.387620564560894], [2.2448016264701085, -0.5010060783439161], [1.4631375709510066, -0.8928177854394357], [1.7635639130287055, 3.376422267630119], [-0.018181593447338606, -1.5688709773199871], [-1.2379578963095321, 7.3106615343934624], [-0.13819340674181713, -3.3677493353717765], [0.4362526132965733, 4.197559922552359], [1.1541373976149683, 4.1400701386300085], [0.6949823316860362, 4.775626638475286], [-3.0842091631432664, 9.559025729917341], [-1.0231180350263362, 8.281387112547982], [0.8693184681299054, -1.7758328121256008], [-3.6175760379677167, 9.52369988591964], [1.9260867785780937, 3.5508096454220834], [-0.8101884362737362, 7.630582886435614], [-2.186838314966277, 7.056675361403977], [0.6527837886664924, -0.8053513594367503], [2.451223302568862, 5.524193118378442], [0.23215808266950133, 3.1085285126018833], [1.9891649024327178, 3.8990860956399804], [-1.1219101901462125, 6.621397915262721], [1.3073900598605412, 5.261644911962598], [0.4155047317607259, -1.8305243069816584], [0.45265407284341674, 8.542269421665692], [1.5648305150683064, -2.0408317070356747], [-2.254764906570637, 6.626802821498907], [-1.2239933905211253, 8.076523135088813], [0.7021415899515809, -1.3813175460405556], [0.017720708044782874, 4.917202340709679], [0.9260178776493238, -1.9092248897618502], [0.9665743000952631, -2.9166919549747794], [1.0842787362551576, -1.3103561261472352], [-1.4086520640772617, 7.315252950243827], [-1.5407180697466312, 7.537676528013859], [2.4185047704207356, -2.225558192289835], [0.8822102441597668, 4.60228345603981], [-2.084640403138992, 7.190208184551742], [-0.893915058235105, 7.265944565638097], [-2.6398163160011854, 7.859134463311216], [0.5193884102337802, 2.729444766142103], [-1.2159824232808991, 9.17230950080987], [-0.13747657507635003, 8.454920097734446], [-1.8362494381231418, 7.60676847137227], [-1.329726849796578, 7.89896989399193], [0.3512940702769468, -2.0494052178182973], [1.4998685787332495, 4.6728521647163], [0.9705113925853776, -0.8673949423218698], [0.2042320053366573, -1.9798565527066407], [0.4838145789485672, -1.4823704430511537], [0.8310040203615383, 5.4319510323533615], [1.8276698248986407, 5.224851195134763], [0.9255204679625757, -1.526552201707404], [1.31778689481628, 4.293507814067002], [-0.8427100492504642, 7.793329525399015], [-1.6573674461861314, 9.48497895398321], [1.0095830572844422, -2.6042890521778626], [0.5927342375755831, 4.552878130069822], [-0.6008536261846462, -2.331906431224224], [0.929369282413884, 5.3090444476790335], [1.053999840545834, -0.33619766354551706], [-1.2347989069779208, 7.629695025361233], [-1.1294832237901948, 8.644433581633443], [1.3066391406693185, -2.7095602236217013], [-0.13938270327293045, 7.5999199284172665], [0.9716549550258294, 3.517627583194273], [-1.0779548074340608, -2.446203017419354], [0.8813771845963234, 3.65729448325564], [0.5877291403049529, 4.262429537772739], [-2.0861756188561182, 7.743418129660288], [1.0773130811354021, 4.268884047003459], [1.797468502117896, -1.4372553802485633], [1.729737549086058, 4.078079214165255], [-1.7272570023049658, 8.400194099432587], [-1.1452724996770767, 6.255048021417942], [0.9120144240895117, -3.3552879427612057], [1.8865315710508557, 4.168461526534857], [-0.8089135402313776, 7.902571050170839], [-1.0273809590114766, 8.042789837820264], [1.059418808369179, 3.6401303781390606], [-1.8675658659975574, 6.734333799407525], [1.2687912351139854, 4.244648554930427], [-1.5036344820391372, 7.59705193268452], [0.09451320901397608, 5.166650608619312], [1.0724799665528928, -0.4750927183153357], [1.3539892765597639, 4.959721161889957], [1.1402805487216865, 5.272878133256546], [-0.8538418622195776, 3.862608027294261], [0.7590460829924183, -0.6624230130530323], [1.359050339235095, -2.283648276526224], [-0.4276219151632241, 8.265438865755431], [-1.106581298875982, 8.6804520004582], [-1.8817897831190846, 7.659532130562763], [-2.782322459850377, 7.93145391399167], [0.23559538982831807, -1.9867672474632196], [1.1419305377901814, 4.722557749199815], [0.8712340496458573, -0.5658871308258969], [1.2573537497597422, -2.6301443680167287], [1.6478832449792267, 5.295004110653538], [0.4332481669826703, 4.020885042263685], [1.267895422482223, -1.6413108696891423], [-1.0271634425018843, 7.8296654948572115], [1.0759073942535728, 4.469027205966], [-0.40403849869815556, 4.591186998362094], [1.3158644971584426, -1.3236589529819196], [1.801986061178988, 4.735749273181784], [1.8305369387635744, 4.52106392008836], [-0.6748200253647519, 7.885177404665019], [1.175094580490248, 4.278791059109229], [-2.086069410128297, 8.631549601262348], [1.191292091217526, -1.2606100611436841], [2.4291471632803403, -1.1423525769787637], [2.1321386465609686, 4.458076018016017], [0.9500923077823766, -1.1985277808720087], [-1.2107492759992304, 8.54377638885523], [1.6464458906624373, 3.11169819755637], [1.5162607240179877, -0.31724605302082165], [0.18354745282042817, 5.118091367222218], [-1.4948247252168492, 7.509105195294584], [2.6438234312250675, 5.514568200095462], [-0.3080450432898949, 3.7377748574349656], [0.27199200635632925, 7.612394359059379], [-1.7995521913011294, 7.408205238006773], [-0.7953806242849895, 8.272864930396452], [1.8111737495874296, 3.695029491167336], [-2.0361431997752506, 7.500480537156445], [-1.7518883231628601, 8.735528718788672], [1.1804957452232854, -0.702630228082382], [0.7466461422770232, -3.1180837629706932], [-0.763630421317149, 5.777292687540123], [0.4888568425802143, -3.104193425079746], [1.5342285848799064, -1.8009716366834503], [0.7669324249526159, 4.160283573141777], [1.7337300634153634, -2.8648469204913827], [-0.9529950525811441, 7.685834991645726], [0.5206562674339008, 4.44409655358376], [0.5215458668704334, -0.919045040765523], [-1.113964162496049, 7.093932705910655], [-0.8199290595941279, 7.4353882636033575], [0.7303782302408889, 4.010568174685905], [0.5174349413256412, 3.996845578772826], [-1.0664311077378583, -1.1290533963606193], [1.8172161584456585, -2.6535654478182273], [-0.1848962930615643, -1.5500604358498997], [1.707234724480018, 3.7655594998974835], [-2.3650601020926256, 8.439299627634256], [0.507611778819012, 5.053834401237788], [1.8351795935230673, -1.5356519183159254], [-1.4899772325593301, 8.374461484535296], [-0.05863734472873783, 4.845408776672269], [0.8867616525866137, -1.747857619037946], [1.3352451842326996, 2.4785363890478624], [-1.4530600376664693, 8.269626770552733], [-0.011244769884265149, -3.19260781241585], [1.0297282094770597, -1.0495537902435719]]\n"
     ]
    }
   ],
   "source": [
    "Z=[]\n",
    "for i in range (0,len(X)):\n",
    "    Z.append([X[i][0],X[i][1]])\n",
    "print(Z)"
   ]
  },
  {
   "cell_type": "markdown",
   "id": "3e90bcb0",
   "metadata": {},
   "source": [
    "# This^ is our 2-dimensional data."
   ]
  },
  {
   "cell_type": "code",
   "execution_count": 51,
   "id": "364e9298",
   "metadata": {
    "collapsed": true,
    "jupyter": {
     "outputs_hidden": true
    }
   },
   "outputs": [
    {
     "name": "stdout",
     "output_type": "stream",
     "text": [
      "[[[0.029139778741392508, -2.5417176059965123], [1, -2]], [[-1.8523133416141135, 8.584712430350038], [-1, 8]], [[0.9638181313739699, -0.7088492899260834], [1, -2]], [[-0.6876698678100607, 8.488246269129005], [-1, 8]], [[1.8670224270373126, -2.120719443358572], [1, -2]], [[-1.9060080667781325, 7.334179516213951], [-1, 8]], [[1.0394527206587045, 4.948653192933849], [1, 4]], [[-1.0422133891865741, -1.3247157164992853], [1, -2]], [[0.8400780296984054, -1.4719816305853015], [1, -2]], [[0.04857519824665102, -0.9867973703271653], [1, -2]], [[1.5737173023144244, -1.994256390093037], [1, -2]], [[-1.7422598196777865, 8.032639169797454], [-1, 8]], [[-1.343444218182398, 7.083408922525125], [-1, 8]], [[0.6757893006562523, -1.9046130276254576], [1, -2]], [[-0.5262240274558954, 6.806908464944278], [-1, 8]], [[-0.4771480543388824, 4.153375408200422], [1, 4]], [[0.9968726822702539, -0.7985873501657862], [1, -2]], [[0.300806706809032, -2.633583511375905], [1, -2]], [[0.12951838862587373, 8.204299590198517], [-1, 8]], [[0.18414196453823206, 5.801702590269129], [1, 4]], [[0.1076296021659926, 4.815576123396768], [1, 4]], [[0.2337427308903246, 5.496364861015609], [1, 4]], [[-1.766173595558087, 7.974844296172645], [-1, 8]], [[0.972955144928021, -1.221273356968207], [1, -2]], [[0.8294677753447701, 4.6176337719730896], [1, 4]], [[0.21564300417907112, -1.217520089355102], [1, -2]], [[1.7836657032781402, 4.8744989838640205], [1, 4]], [[-0.16209469518579378, 3.642618430909646], [1, 4]], [[-1.1043100143348332, 7.23885826479725], [-1, 8]], [[0.3393214072146965, 3.1833543135687385], [1, 4]], [[-1.4714588212986452, 9.800923259339974], [-1, 8]], [[1.18738490771021, -1.8577008708132416], [1, -2]], [[1.6475675785553743, -1.0295113304342745], [1, -2]], [[0.436153961148317, -0.6207110366803774], [1, -2]], [[-1.3582404282842198, 8.307996382931245], [-1, 8]], [[-2.187422912176418, 8.762788184118188], [-1, 8]], [[-0.3863519664242264, 6.886742906846151], [-1, 8]], [[2.4092048475144274, 4.440587677981026], [1, 4]], [[1.728187663184898, 4.788898528041819], [1, 4]], [[0.7955183539933519, 2.980130714238608], [1, 4]], [[1.1047969108249927, 3.6165990709443565], [1, 4]], [[-0.49290125046276256, 6.990799129155682], [-1, 8]], [[-1.2895667728019686, 9.05566889230712], [-1, 8]], [[-0.7370168040908446, 7.653091020360724], [-1, 8]], [[-1.855005743414298, 8.174082749774707], [-1, 8]], [[2.368472847296843, 4.012517906823207], [1, 4]], [[1.639926953462009, 4.137932929710106], [1, 4]], [[1.3187348393920764, 3.471957044605252], [1, 4]], [[-0.740351033971486, 8.163619355316087], [-1, 8]], [[0.153420661993526, -0.8157199236182517], [1, -2]], [[1.6628603068303005, 4.379254759429344], [1, 4]], [[0.9717364384810777, -2.5478062670544435], [1, -2]], [[1.081037341309072, 8.555115860546154], [-1, 8]], [[-0.7862949670794537, 7.458855947777732], [-1, 8]], [[0.751048998101175, 4.752082793209494], [1, 4]], [[-1.3253253468147783, 7.534673117168301], [-1, 8]], [[0.707059783354627, -1.2616974928509244], [1, -2]], [[0.14753425286217148, -1.9775520439196148], [1, -2]], [[-0.22077089911557257, -2.3405416761998055], [1, -2]], [[1.7199455412610514, 3.4535513908239666], [1, 4]], [[2.3862682948333642, 3.2779957541985665], [1, 4]], [[3.457494545823816, 4.990790649841925], [1, 4]], [[-0.5338125667666209, 7.8223985275988985], [-1, 8]], [[0.4945720657021373, 6.355000047775352], [-1, 8]], [[0.24074600419133274, 8.072308577717067], [-1, 8]], [[-2.0571645698975223, 8.012748368270369], [-1, 8]], [[0.6982466391084929, -2.4540130716140576], [1, -2]], [[1.2779985674330878, 4.247341544101491], [1, 4]], [[-0.6444650946777042, 6.222558932500267], [-1, 8]], [[-0.5021065597551351, -1.0243398097000955], [1, -2]], [[-1.5679856575994555, 7.984529394885225], [-1, 8]], [[1.2993173017025788, 3.4717644045875553], [1, 4]], [[1.994178986344987, 3.6613915338584184], [1, 4]], [[-0.13668441369876216, 4.3327951208032625], [1, 4]], [[-1.2035354009215584, 6.541148743379002], [-1, 8]], [[1.755149048371413, 4.469613545396201], [1, 4]], [[-1.9786329959856084, 8.176851886040096], [-1, 8]], [[-0.6591518152649452, 8.426468916087554], [-1, 8]], [[1.135155288991157, 4.18714152537374], [1, 4]], [[0.6017308008832636, -0.7672078392623294], [1, -2]], [[1.7106198204073462, -1.6850251261251519], [1, -2]], [[-0.6765884254001792, 9.183687706964815], [-1, 8]], [[1.4044448984874207, -3.1423085867318363], [1, -2]], [[-0.34263304092619185, 7.588453170747006], [-1, 8]], [[0.3736365718558521, 8.102942839067717], [-1, 8]], [[-1.3043309855817906, 7.596704569943201], [-1, 8]], [[0.7453715032103763, 5.142173107203086], [1, 4]], [[-0.07997501778505844, 9.029877192033153], [-1, 8]], [[0.7494764948376784, -1.6278065498562448], [1, -2]], [[1.529635510690901, -1.3674325102441198], [1, -2]], [[-0.877423962563558, 8.026244523546184], [-1, 8]], [[-1.7913496387765324, 7.310953665718732], [-1, 8]], [[-2.2328607383340056, 6.397291600978799], [-1, 8]], [[0.5989866117082341, 5.753671048673559], [1, 4]], [[1.7344700343928117, -1.4455904278299407], [1, -2]], [[0.17013110228056139, -1.054179771161664], [1, -2]], [[1.2646118922377108, 4.630305822885669], [1, 4]], [[0.5778115964602344, 4.013474436357416], [1, 4]], [[-0.9888384640157475, 8.872934407835473], [-1, 8]], [[1.0189460041618572, 5.128440085584016], [1, 4]], [[1.7882223448908738, -1.5313240082026407], [1, -2]], [[1.1242942027122576, -2.165243712497773], [1, -2]], [[-1.2570349614137863, 8.696167665978026], [-1, 8]], [[1.6792289552389408, 4.310160346368248], [1, 4]], [[-2.675451257014659, 6.644350368497795], [-1, 8]], [[1.5341683378540534, 2.9138439373161154], [1, 4]], [[0.11767888728702347, 0.017497067713191816], [1, -2]], [[1.1671932698706586, 4.6283012763432145], [1, 4]], [[2.087751507670929, -1.997507867082432], [1, -2]], [[1.0483603113335414, 3.5057332963779557], [1, 4]], [[0.20501939147322923, 2.7111642714481956], [1, 4]], [[-1.8635053743127932, 8.607848935271852], [-1, 8]], [[0.8843509953242559, 5.698218303503849], [1, 4]], [[1.4443708881001727, -1.7148437371225604], [1, -2]], [[0.6880483279057596, -2.808191919841791], [1, -2]], [[-0.5211416231478153, 9.285110267056506], [-1, 8]], [[0.7098241573934354, 4.34167918128063], [1, 4]], [[-1.2777680232364443, 8.461132602503412], [-1, 8]], [[-0.02443889429935453, 5.043987928848655], [1, 4]], [[0.7662601072297599, -1.0015946717246682], [1, -2]], [[1.5780354224740414, -0.8947350001456307], [1, -2]], [[1.9265666290365135, -0.8294852208694197], [1, -2]], [[-2.1699633145920583, 6.995232968432775], [-1, 8]], [[0.8666540746525375, 5.093726923550166], [1, 4]], [[1.869020841844958, 5.37534974068673], [1, 4]], [[0.18720635205297897, -1.9629717513113043], [1, -2]], [[-1.0919911749344535, 6.845800818368367], [-1, 8]], [[-0.7937316332996763, 8.146258474584332], [-1, 8]], [[0.6410397645531696, -2.001035865707892], [1, -2]], [[-0.008204414797922, 2.7371700398442043], [1, 4]], [[-0.3262315407053247, -2.0911728174526263], [1, -2]], [[-1.4275569055625452, 7.532842846050163], [-1, 8]], [[1.6592957226784264, -2.0316619132830382], [1, -2]], [[1.7811284159717973, 3.474095431828587], [1, 4]], [[-0.12629922017345074, 7.420802910147112], [-1, 8]], [[0.2306808863063845, 7.246530077379812], [-1, 8]], [[-1.918423489778002, 6.683239829500736], [-1, 8]], [[1.0161888099365732, 3.555362963072106], [1, 4]], [[0.7232501529988155, -1.1591783192046015], [1, -2]], [[1.869058519095824, -1.9862761909693356], [1, -2]], [[0.9094712426332024, -1.8397444764885509], [1, -2]], [[-0.1329625674870365, -1.5192469809350797], [1, -2]], [[-0.5441973304481458, 3.39372396982348], [1, 4]], [[2.0050481274277843, 3.3797337030373344], [1, 4]], [[-1.242530975496715, 7.111964935228001], [-1, 8]], [[2.067671468330462, 5.183458451837449], [1, 4]], [[1.0345556648164471, 4.288943931334117], [1, 4]], [[0.859960107291973, -2.243645656069427], [1, -2]], [[-0.08614934596002843, 6.450992159112386], [-1, 8]], [[1.9467401633844168, 5.219562369354433], [1, 4]], [[-1.1572778304889686, 7.331941791627012], [-1, 8]], [[1.552412063053545, -1.2051841607699751], [1, -2]], [[-1.6625091945028456, 7.6610996875639845], [-1, 8]], [[-1.6539221824188568, 6.333301844436148], [-1, 8]], [[1.6578156603070702, 5.400573059368062], [1, 4]], [[-1.3816591957716515, 7.909423782257198], [-1, 8]], [[1.0859305949951867, -2.210507910576755], [1, -2]], [[0.5229119822009292, 4.110067716054307], [1, 4]], [[-0.9353868451765841, 7.3558687204351205], [-1, 8]], [[-1.9689260027460704, 7.786491388276765], [-1, 8]], [[-1.96138742923371, 7.9004480913303325], [-1, 8]], [[-1.20340892931556, 7.4784635351380855], [-1, 8]], [[0.8199363156809637, 3.2921109768875767], [1, 4]], [[-0.4170777287152374, 7.799392488563392], [-1, 8]], [[0.3216933094835417, 4.36995527608672], [1, 4]], [[0.22559673446034156, -2.310880808157333], [1, -2]], [[0.34900822205552284, -1.351925364002285], [1, -2]], [[1.440109115363598, 3.220801056182642], [1, 4]], [[2.3196774080129208, -1.1241207136633422], [1, -2]], [[1.1728969111259513, -2.414356027247113], [1, -2]], [[-1.9152536096302808, 7.839870843789568], [-1, 8]], [[1.0963711845453872, -0.4671215806096405], [1, -2]], [[-0.417607592188723, 7.034192088952391], [-1, 8]], [[-0.3367814870314725, -0.1993357453583382], [1, -2]], [[-0.9155687200373095, 7.027163908552366], [-1, 8]], [[0.2787942439568991, -2.0837163633023525], [1, -2]], [[0.20155225912815222, -0.283246421764789], [1, -2]], [[0.5810746018409498, 4.315496654186343], [1, 4]], [[-0.09825530569714558, 5.444192228738587], [1, 4]], [[-0.1320740168341088, 4.659492641597212], [1, 4]], [[0.9064562725869633, -0.8999403945741697], [1, -2]], [[-0.8598377320537265, 7.4804133129741714], [-1, 8]], [[2.42478521421524, -0.9781204643855076], [1, -2]], [[0.48610726160376233, -1.2766743553059523], [1, -2]], [[-1.0392389631902903, 6.987962842538956], [-1, 8]], [[0.6997316215099085, -0.2532573407094578], [1, -2]], [[1.6318433652448179, 4.721377511132708], [1, 4]], [[2.526698063087794, 4.480100376192935], [1, 4]], [[0.5602989571804537, -3.3277266471803593], [1, -2]], [[1.4972375552203778, 3.399390167846607], [1, 4]], [[-0.4175996174449601, 3.449007824163789], [1, 4]], [[-1.2617991612355772, 7.196531333631542], [-1, 8]], [[0.8744425187043177, 3.6310001187526915], [1, 4]], [[-1.5424622346949548, 6.799717159076703], [-1, 8]], [[0.4473866930938154, 3.3596345149476567], [1, 4]], [[-0.2782775920314374, 8.011619465276837], [-1, 8]], [[2.1570619445323125, 4.821211405159419], [1, 4]], [[1.1964287310075512, 3.5351836380613593], [1, 4]], [[0.3556601958472335, 5.100356406366036], [1, 4]], [[1.6708487423765273, -1.6340178008948978], [1, -2]], [[0.34429917016219336, 3.9271156269663425], [1, 4]], [[-1.4240829234611942, 8.011245561294194], [-1, 8]], [[1.4266378574603222, -1.0272980300384498], [1, -2]], [[1.6971260372925534, -1.494769454809494], [1, -2]], [[1.303227443672775, -1.412358202225589], [1, -2]], [[-1.0114026357604988, 7.217871072557882], [-1, 8]], [[2.2042933818418415, 4.756939357871844], [1, 4]], [[-0.32819863917214565, 8.422957441312628], [-1, 8]], [[1.2069049979220867, -1.846386285632303], [1, -2]], [[1.8143383484807463, 3.9646703405677894], [1, 4]], [[1.9315316301034302, -2.2779135389162914], [1, -2]], [[0.3464870977596153, 6.697930272642323], [-1, 8]], [[-2.074558878233736, 9.118902177544005], [-1, 8]], [[-0.024663745794645586, -0.7740793644341545], [1, -2]], [[0.698866890092454, -1.910490353779711], [1, -2]], [[0.4760344563817318, 7.363116188210966], [-1, 8]], [[-0.9538018309557146, 7.866711678175708], [-1, 8]], [[-0.3038308403722363, 9.69106713019442], [-1, 8]], [[0.8197196281094574, -1.015805214592981], [1, -2]], [[1.0681531821821124, 3.835135181512634], [1, 4]], [[1.2951386600127726, 3.4612478234907247], [1, 4]], [[1.4820312098748598, 3.8640626067445316], [1, 4]], [[0.429022676933691, 5.313645076414035], [1, 4]], [[1.0548194312146948, 5.028179289999999], [1, 4]], [[1.0136113675664609, -1.2420995375783355], [1, -2]], [[0.8072109355579797, -1.774578224534596], [1, -2]], [[-0.5505819162821863, -0.3022425750185036], [1, -2]], [[0.4179630851837949, 4.213626008631289], [1, 4]], [[0.7913207108825151, 3.0155925594358317], [1, 4]], [[1.3509732026289476, -2.9347657889903136], [1, -2]], [[1.1316353938164319, 3.5297894088572987], [1, 4]], [[2.9783669977950162, -1.7706931978898317], [1, -2]], [[0.4677150455059245, -1.2770360971042123], [1, -2]], [[1.5854599109632994, -1.2338795851061337], [1, -2]], [[-1.2857594189361448, 7.24088482400111], [-1, 8]], [[0.7668020862411989, -2.0284879397068156], [1, -2]], [[-1.0743779501193984, 8.538165764049035], [-1, 8]], [[2.0168270957484546, 5.038349588557128], [1, 4]], [[-1.525617500329083, 7.285407861933159], [-1, 8]], [[1.3158000456091468, 5.175234563532081], [1, 4]], [[1.1540779999374617, 4.65193370149749], [1, 4]], [[-0.23574204149424327, 3.588849877558725], [1, 4]], [[0.8070433063853133, -0.4561455733874349], [1, -2]], [[1.5857932460927104, -1.5610986714434862], [1, -2]], [[-0.7597417338009258, 8.388830752457812], [-1, 8]], [[-0.5032005409776299, 6.374563391109282], [-1, 8]], [[0.823745295176382, 4.662697349440821], [1, 4]], [[2.2365816429163115, 0.05340941417318801], [1, -2]], [[1.105861690693549, 4.73181798140779], [1, 4]], [[1.2065441830999273, -1.898920050812151], [1, -2]], [[-1.9905480746746247, 8.344801226937866], [-1, 8]], [[1.529202111521422, 2.7791175611076824], [1, 4]], [[1.4982727814933483, -1.3972093831150716], [1, -2]], [[1.8409196089908515, 4.691237050744922], [1, 4]], [[-1.4694240050917187, 8.110856958876909], [-1, 8]], [[0.6780716171361714, -0.42939486973233953], [1, -2]], [[-2.6755397581693696, 8.649167353824566], [-1, 8]], [[1.3328005797167626, -2.4106532129013147], [1, -2]], [[1.0137936477620348, 3.477992898063664], [1, 4]], [[-1.1633792231592093, 7.5103001447705635], [-1, 8]], [[3.3435231268401195, -1.2664719886868678], [1, -2]], [[-0.17162689983316226, -1.8002418347688744], [1, -2]], [[-1.1381631178340532, 8.602877348749317], [-1, 8]], [[0.5109316808765845, 3.873520164969731], [1, 4]], [[-0.07602178041688801, -1.3993149769472963], [1, -2]], [[0.6566178953042904, -1.6045901251559354], [1, -2]], [[-0.14224885797780717, 8.247378141908884], [-1, 8]], [[1.2843650578402266, -0.7295124420004858], [1, -2]], [[-0.930340886682758, 8.306798630043373], [-1, 8]], [[-1.6242214705026445, 7.973217056763864], [-1, 8]], [[0.7082532471469709, 2.930210099550793], [1, 4]], [[2.365904667453809, -2.1988558992869507], [1, -2]], [[-1.8576237280694352, 8.29534190502988], [-1, 8]], [[-0.8084795295083531, 7.949301924247084], [-1, 8]], [[0.8574485741411189, 3.0441216099916657], [1, 4]], [[-0.023508856443487214, -1.7534527138311446], [1, -2]], [[0.11364767648002261, 5.420165143693241], [1, 4]], [[0.8089671846547944, 4.787445148912457], [1, 4]], [[2.1956515287591003, 5.794647581678797], [1, 4]], [[1.1159477907957918, -3.092654571979163], [1, -2]], [[-1.1085230103108314, 8.747073006539976], [-1, 8]], [[0.43299340636021455, 7.339326817985301], [-1, 8]], [[0.6099321422233728, 4.64410204622411], [1, 4]], [[0.7701390710370739, 4.344083900399969], [1, 4]], [[0.2885425946942327, 0.05320625903271292], [1, -2]], [[1.7377772254833799, -1.5525595229935159], [1, -2]], [[0.12755739320976145, 4.347366407166066], [1, 4]], [[1.413709681429144, -2.5686927833951416], [1, -2]], [[1.4651530464390623, 3.60189667001484], [1, 4]], [[-3.339933260077503, 8.219544644425852], [-1, 8]], [[0.7901866605268996, -2.132703750440836], [1, -2]], [[-0.31587008328905875, 8.024081043713366], [-1, 8]], [[-1.4018428860181886, 8.174154102272833], [-1, 8]], [[-0.6338624407904083, -1.4683155578955418], [1, -2]], [[0.9781087969104666, -0.32637860278979924], [1, -2]], [[-2.797140086276777, 9.114022844872633], [-1, 8]], [[0.47255655127528495, 3.9259806041086147], [1, 4]], [[-1.3070627670959059, 7.198750909566152], [-1, 8]], [[-1.2995747361105257, 7.612468651919027], [-1, 8]], [[0.4840894173681989, -2.055571007648415], [1, -2]], [[0.972431231912164, -2.822617089689575], [1, -2]], [[1.8623698210064399, 4.4447783293012915], [1, 4]], [[2.2797170165254066, -1.4868582112313236], [1, -2]], [[2.513347642835434, 3.935962908491806], [1, 4]], [[-1.1561762334569796, 8.086932578293984], [-1, 8]], [[1.0629497175570384, 4.513122108958306], [1, 4]], [[-0.052850198792736225, -1.6464354390137834], [1, -2]], [[-0.850438997279259, 7.033762823001453], [-1, 8]], [[0.7289078166186485, -2.3067896507645536], [1, -2]], [[0.7013762735365884, 4.249432501985962], [1, 4]], [[-0.028242835798801047, -2.014037620925806], [1, -2]], [[2.1825708110009803, 3.565113970450944], [1, 4]], [[-0.5143934766001649, 8.278735663711233], [-1, 8]], [[0.6702811078149182, 4.85711686214425], [1, 4]], [[-1.7407090526504523, 6.1965503124070676], [-1, 8]], [[0.7106457613739312, 4.066907005125555], [1, 4]], [[1.4832280459778127, -1.9680633573817667], [1, -2]], [[0.9339230509139009, 4.570191920973222], [1, 4]], [[-1.6221368008034893, 8.288390237387791], [-1, 8]], [[-3.581363696966386, 8.180790951107895], [-1, 8]], [[-0.6520709028718464, 6.430377373172173], [-1, 8]], [[0.5940120523653718, -1.641482600483908], [1, -2]], [[1.3670112525085858, 3.6331225550227018], [1, 4]], [[1.6908911647176772, 4.613196259204905], [1, 4]], [[0.9326982035214916, 2.854764294713953], [1, 4]], [[-0.04356675106594521, 8.24639246932093], [-1, 8]], [[0.14581931294513228, -1.081828687339322], [1, -2]], [[-2.4119747431468266, 9.04717350326204], [-1, 8]], [[-0.6890192930038422, 8.204583283945635], [-1, 8]], [[-0.8159687436771532, -0.5896910004685476], [1, -2]], [[1.3589939824124284, 4.377177448852661], [1, 4]], [[0.5455746240163175, -2.250994327582786], [1, -2]], [[-0.19009397148205798, -3.237317892707967], [1, -2]], [[1.759989640799149, -1.5445241054703192], [1, -2]], [[-0.02144795925309273, -0.12659148499349193], [1, -2]], [[-0.567480238560704, 7.71927325051277], [-1, 8]], [[0.37286831603084847, -0.5332012172167392], [1, -2]], [[1.7932315897776938, -2.3017676964847325], [1, -2]], [[1.003021221353398, 4.848241122932486], [1, 4]], [[0.8728166226511604, 3.5849557972146626], [1, 4]], [[0.7545296707512766, -1.6897122985624542], [1, -2]], [[0.654490224831682, 3.0773749174481706], [1, 4]], [[1.547649134850235, 6.131254011024666], [1, 4]], [[0.05483162568185962, 4.427933404173401], [1, 4]], [[-1.0333524827323424, 7.378014843212196], [-1, 8]], [[-1.5331364287194622, 7.387620564560894], [-1, 8]], [[2.2448016264701085, -0.5010060783439161], [1, -2]], [[1.4631375709510066, -0.8928177854394357], [1, -2]], [[1.7635639130287055, 3.376422267630119], [1, 4]], [[-0.018181593447338606, -1.5688709773199871], [1, -2]], [[-1.2379578963095321, 7.3106615343934624], [-1, 8]], [[-0.13819340674181713, -3.3677493353717765], [1, -2]], [[0.4362526132965733, 4.197559922552359], [1, 4]], [[1.1541373976149683, 4.1400701386300085], [1, 4]], [[0.6949823316860362, 4.775626638475286], [1, 4]], [[-3.0842091631432664, 9.559025729917341], [-1, 8]], [[-1.0231180350263362, 8.281387112547982], [-1, 8]], [[0.8693184681299054, -1.7758328121256008], [1, -2]], [[-3.6175760379677167, 9.52369988591964], [-1, 8]], [[1.9260867785780937, 3.5508096454220834], [1, 4]], [[-0.8101884362737362, 7.630582886435614], [-1, 8]], [[-2.186838314966277, 7.056675361403977], [-1, 8]], [[0.6527837886664924, -0.8053513594367503], [1, -2]], [[2.451223302568862, 5.524193118378442], [1, 4]], [[0.23215808266950133, 3.1085285126018833], [1, 4]], [[1.9891649024327178, 3.8990860956399804], [1, 4]], [[-1.1219101901462125, 6.621397915262721], [-1, 8]], [[1.3073900598605412, 5.261644911962598], [1, 4]], [[0.4155047317607259, -1.8305243069816584], [1, -2]], [[0.45265407284341674, 8.542269421665692], [-1, 8]], [[1.5648305150683064, -2.0408317070356747], [1, -2]], [[-2.254764906570637, 6.626802821498907], [-1, 8]], [[-1.2239933905211253, 8.076523135088813], [-1, 8]], [[0.7021415899515809, -1.3813175460405556], [1, -2]], [[0.017720708044782874, 4.917202340709679], [1, 4]], [[0.9260178776493238, -1.9092248897618502], [1, -2]], [[0.9665743000952631, -2.9166919549747794], [1, -2]], [[1.0842787362551576, -1.3103561261472352], [1, -2]], [[-1.4086520640772617, 7.315252950243827], [-1, 8]], [[-1.5407180697466312, 7.537676528013859], [-1, 8]], [[2.4185047704207356, -2.225558192289835], [1, -2]], [[0.8822102441597668, 4.60228345603981], [1, 4]], [[-2.084640403138992, 7.190208184551742], [-1, 8]], [[-0.893915058235105, 7.265944565638097], [-1, 8]], [[-2.6398163160011854, 7.859134463311216], [-1, 8]], [[0.5193884102337802, 2.729444766142103], [1, 4]], [[-1.2159824232808991, 9.17230950080987], [-1, 8]], [[-0.13747657507635003, 8.454920097734446], [-1, 8]], [[-1.8362494381231418, 7.60676847137227], [-1, 8]], [[-1.329726849796578, 7.89896989399193], [-1, 8]], [[0.3512940702769468, -2.0494052178182973], [1, -2]], [[1.4998685787332495, 4.6728521647163], [1, 4]], [[0.9705113925853776, -0.8673949423218698], [1, -2]], [[0.2042320053366573, -1.9798565527066407], [1, -2]], [[0.4838145789485672, -1.4823704430511537], [1, -2]], [[0.8310040203615383, 5.4319510323533615], [1, 4]], [[1.8276698248986407, 5.224851195134763], [1, 4]], [[0.9255204679625757, -1.526552201707404], [1, -2]], [[1.31778689481628, 4.293507814067002], [1, 4]], [[-0.8427100492504642, 7.793329525399015], [-1, 8]], [[-1.6573674461861314, 9.48497895398321], [-1, 8]], [[1.0095830572844422, -2.6042890521778626], [1, -2]], [[0.5927342375755831, 4.552878130069822], [1, 4]], [[-0.6008536261846462, -2.331906431224224], [1, -2]], [[0.929369282413884, 5.3090444476790335], [1, 4]], [[1.053999840545834, -0.33619766354551706], [1, -2]], [[-1.2347989069779208, 7.629695025361233], [-1, 8]], [[-1.1294832237901948, 8.644433581633443], [-1, 8]], [[1.3066391406693185, -2.7095602236217013], [1, -2]], [[-0.13938270327293045, 7.5999199284172665], [-1, 8]], [[0.9716549550258294, 3.517627583194273], [1, 4]], [[-1.0779548074340608, -2.446203017419354], [1, -2]], [[0.8813771845963234, 3.65729448325564], [1, 4]], [[0.5877291403049529, 4.262429537772739], [1, 4]], [[-2.0861756188561182, 7.743418129660288], [-1, 8]], [[1.0773130811354021, 4.268884047003459], [1, 4]], [[1.797468502117896, -1.4372553802485633], [1, -2]], [[1.729737549086058, 4.078079214165255], [1, 4]], [[-1.7272570023049658, 8.400194099432587], [-1, 8]], [[-1.1452724996770767, 6.255048021417942], [-1, 8]], [[0.9120144240895117, -3.3552879427612057], [1, -2]], [[1.8865315710508557, 4.168461526534857], [1, 4]], [[-0.8089135402313776, 7.902571050170839], [-1, 8]], [[-1.0273809590114766, 8.042789837820264], [-1, 8]], [[1.059418808369179, 3.6401303781390606], [1, 4]], [[-1.8675658659975574, 6.734333799407525], [-1, 8]], [[1.2687912351139854, 4.244648554930427], [1, 4]], [[-1.5036344820391372, 7.59705193268452], [-1, 8]], [[0.09451320901397608, 5.166650608619312], [1, 4]], [[1.0724799665528928, -0.4750927183153357], [1, -2]], [[1.3539892765597639, 4.959721161889957], [1, 4]], [[1.1402805487216865, 5.272878133256546], [1, 4]], [[-0.8538418622195776, 3.862608027294261], [1, 4]], [[0.7590460829924183, -0.6624230130530323], [1, -2]], [[1.359050339235095, -2.283648276526224], [1, -2]], [[-0.4276219151632241, 8.265438865755431], [-1, 8]], [[-1.106581298875982, 8.6804520004582], [-1, 8]], [[-1.8817897831190846, 7.659532130562763], [-1, 8]], [[-2.782322459850377, 7.93145391399167], [-1, 8]], [[0.23559538982831807, -1.9867672474632196], [1, -2]], [[1.1419305377901814, 4.722557749199815], [1, 4]], [[0.8712340496458573, -0.5658871308258969], [1, -2]], [[1.2573537497597422, -2.6301443680167287], [1, -2]], [[1.6478832449792267, 5.295004110653538], [1, 4]], [[0.4332481669826703, 4.020885042263685], [1, 4]], [[1.267895422482223, -1.6413108696891423], [1, -2]], [[-1.0271634425018843, 7.8296654948572115], [-1, 8]], [[1.0759073942535728, 4.469027205966], [1, 4]], [[-0.40403849869815556, 4.591186998362094], [1, 4]], [[1.3158644971584426, -1.3236589529819196], [1, -2]], [[1.801986061178988, 4.735749273181784], [1, 4]], [[1.8305369387635744, 4.52106392008836], [1, 4]], [[-0.6748200253647519, 7.885177404665019], [-1, 8]], [[1.175094580490248, 4.278791059109229], [1, 4]], [[-2.086069410128297, 8.631549601262348], [-1, 8]], [[1.191292091217526, -1.2606100611436841], [1, -2]], [[2.4291471632803403, -1.1423525769787637], [1, -2]], [[2.1321386465609686, 4.458076018016017], [1, 4]], [[0.9500923077823766, -1.1985277808720087], [1, -2]], [[-1.2107492759992304, 8.54377638885523], [-1, 8]], [[1.6464458906624373, 3.11169819755637], [1, 4]], [[1.5162607240179877, -0.31724605302082165], [1, -2]], [[0.18354745282042817, 5.118091367222218], [1, 4]], [[-1.4948247252168492, 7.509105195294584], [-1, 8]], [[2.6438234312250675, 5.514568200095462], [1, 4]], [[-0.3080450432898949, 3.7377748574349656], [1, 4]], [[0.27199200635632925, 7.612394359059379], [-1, 8]], [[-1.7995521913011294, 7.408205238006773], [-1, 8]], [[-0.7953806242849895, 8.272864930396452], [-1, 8]], [[1.8111737495874296, 3.695029491167336], [1, 4]], [[-2.0361431997752506, 7.500480537156445], [-1, 8]], [[-1.7518883231628601, 8.735528718788672], [-1, 8]], [[1.1804957452232854, -0.702630228082382], [1, -2]], [[0.7466461422770232, -3.1180837629706932], [1, -2]], [[-0.763630421317149, 5.777292687540123], [-1, 8]], [[0.4888568425802143, -3.104193425079746], [1, -2]], [[1.5342285848799064, -1.8009716366834503], [1, -2]], [[0.7669324249526159, 4.160283573141777], [1, 4]], [[1.7337300634153634, -2.8648469204913827], [1, -2]], [[-0.9529950525811441, 7.685834991645726], [-1, 8]], [[0.5206562674339008, 4.44409655358376], [1, 4]], [[0.5215458668704334, -0.919045040765523], [1, -2]], [[-1.113964162496049, 7.093932705910655], [-1, 8]], [[-0.8199290595941279, 7.4353882636033575], [-1, 8]], [[0.7303782302408889, 4.010568174685905], [1, 4]], [[0.5174349413256412, 3.996845578772826], [1, 4]], [[-1.0664311077378583, -1.1290533963606193], [1, -2]], [[1.8172161584456585, -2.6535654478182273], [1, -2]], [[-0.1848962930615643, -1.5500604358498997], [1, -2]], [[1.707234724480018, 3.7655594998974835], [1, 4]], [[-2.3650601020926256, 8.439299627634256], [-1, 8]], [[0.507611778819012, 5.053834401237788], [1, 4]], [[1.8351795935230673, -1.5356519183159254], [1, -2]], [[-1.4899772325593301, 8.374461484535296], [-1, 8]], [[-0.05863734472873783, 4.845408776672269], [1, 4]], [[0.8867616525866137, -1.747857619037946], [1, -2]], [[1.3352451842326996, 2.4785363890478624], [1, 4]], [[-1.4530600376664693, 8.269626770552733], [-1, 8]], [[-0.011244769884265149, -3.19260781241585], [1, -2]], [[1.0297282094770597, -1.0495537902435719], [1, -2]]] 500\n"
     ]
    }
   ],
   "source": [
    "import math\n",
    "#K=[[-2,0],[0,0],[2,0],[-2,4],[0,4],[2,4],[-2,8],[0,8],[2,8]]\n",
    "K=[[-1,8],[1,4],[1,-2]]\n",
    "G=[]\n",
    "for i in range (0,len(Z)):                   \n",
    "    L=[]\n",
    "    for j in range (0,len(K)):\n",
    "        d=math.dist(Z[i],K[j])\n",
    "        L.append(d)\n",
    "        s=L.index(min(L))\n",
    "    G.append([Z[i],K[s]])\n",
    "print(G,len(G))"
   ]
  },
  {
   "cell_type": "markdown",
   "id": "2d70bab3",
   "metadata": {},
   "source": [
    "# This^ is our 2-dimensional data tagged with its nearest initial center."
   ]
  },
  {
   "cell_type": "code",
   "execution_count": 56,
   "id": "98686578",
   "metadata": {},
   "outputs": [
    {
     "name": "stdout",
     "output_type": "stream",
     "text": [
      "166 [-1, 8]\n",
      "167 [1, 4]\n",
      "167 [1, -2]\n",
      "165 [-1.1978999361280809, 7.81260773663216]\n",
      "168 [1.0607093805993433, 4.268872943994808]\n",
      "167 [0.8928043879228512, -1.60355314260854]\n",
      "165 [-1.208157342199779, 7.821441722625231]\n",
      "168 [1.057339515629717, 4.2812903672315965]\n",
      "167 [0.8928043879228512, -1.60355314260854]\n",
      "[[-1.208157342199779, 7.821441722625231], [1.057339515629717, 4.2812903672315965], [0.8928043879228512, -1.60355314260854]] 3\n"
     ]
    }
   ],
   "source": [
    "import math\n",
    "#K=[[-2,0],[0,0],[2,0],[-2,4],[0,4],[2,4],[-2,8],[0,8],[2,8]]\n",
    "K=[[-1,8],[1,4],[1,-2]]\n",
    "for a in range (1,4):\n",
    "    G=[]\n",
    "    for i in range (0,500):                   \n",
    "        L=[]\n",
    "        for j in range (0,len(K)):\n",
    "            d=math.dist(Z[i],K[j])\n",
    "            L.append(d)\n",
    "            s=L.index(min(L))\n",
    "        G.append([Z[i],K[s]])   # s here is too big\n",
    "#    print(G,len(G))\n",
    "    K2=[]\n",
    "    for k in range(0,len(K)):\n",
    "        cx=0\n",
    "        cy=0\n",
    "        n=0\n",
    "        for i in range (0,len(G)):\n",
    "#            if G[i][1][0]==K[k][0] and G[i][1][1]==K[k][1]:\n",
    "            if G[i][1]==K[k]:\n",
    "                cx+=G[i][0][0]\n",
    "                cy+=G[i][0][1]\n",
    "                n=n+1\n",
    "        if n>0:\n",
    "            cx=cx/n\n",
    "            cy=cy/n\n",
    "            K2.append([cx,cy])\n",
    "            print(n,K[k])\n",
    "    K=K2\n",
    "print(K2,len(K2))"
   ]
  },
  {
   "cell_type": "markdown",
   "id": "928dbb40",
   "metadata": {},
   "source": [
    "# These are the centroids of each cluster and the number of points in each cluster."
   ]
  },
  {
   "cell_type": "code",
   "execution_count": null,
   "id": "04c5dc6b",
   "metadata": {},
   "outputs": [],
   "source": [
    "# 2c)"
   ]
  },
  {
   "cell_type": "markdown",
   "id": "ed426468",
   "metadata": {},
   "source": [
    "# I Googled this and this was the best (in my opinion) result that I came across:\n",
    "\n",
    "# We calculate the \"Silhouette Coefficient\" s of each point, which is defined by\n",
    "\n",
    "# s=(b-a)/max(b,a)\n",
    "\n",
    "# where a is the mean distance between a point and all other points in the same cluster, and b is the mean distance between a point and all other points in the next nearest cluster.\n",
    "\n",
    "# Then, the silhouette coefficient of a set of data is defined as the mean of the silhouette coeffients of its points. Good silhouette coefficients are close to 1."
   ]
  },
  {
   "cell_type": "code",
   "execution_count": null,
   "id": "fa9e263e",
   "metadata": {},
   "outputs": [],
   "source": [
    "# 2d)\n",
    "import math\n",
    "K=[[-1,8],[1,4],[1,-2]]\n",
    "for a in range (1,2):\n",
    "    G=[]\n",
    "    for i in range (0,500):                   \n",
    "        L=[]\n",
    "        for j in range (0,len(K)):\n",
    "            d=math.dist(Z[i],K[j])\n",
    "            L.append(d)\n",
    "            s=L.index(min(L))\n",
    "        G.append([Z[i],K[s]])\n",
    "#    print(G,len(G))\n",
    "    F=[0,0,0]\n",
    "    for k in range(0,len(K)):\n",
    "        K2=[]\n",
    "        for i in range (0,len(G)):\n",
    "            if G[i][1]==K[k]:\n",
    "                K2.append(G[i][0])\n",
    "        for j in range (0,len(K2)):\n",
    "            s=0\n",
    "            for l in range(0,len(K2)):\n",
    "                s=s+math.dist(K2[j],K2[l])\n",
    "            print(K2[j],s/len(K2))\n",
    "        F[k]=K2\n",
    "        print('end cluster')\n",
    "#        print(K2,len(K2))"
   ]
  },
  {
   "cell_type": "code",
   "execution_count": null,
   "id": "16fced45",
   "metadata": {},
   "outputs": [],
   "source": [
    "F[0],F[1],F[2]"
   ]
  },
  {
   "cell_type": "code",
   "execution_count": null,
   "id": "e33d8d98",
   "metadata": {},
   "outputs": [],
   "source": [
    "K01=[]\n",
    "for i in range (0,len(F[0])):\n",
    "    s=0\n",
    "    for j in range (0,len(F[1])):\n",
    "        s=s+math.dist(F[0][i],F[1][j])\n",
    "    print(F[0][i],s/len(F[1]))\n",
    "    K01.append(s/len(F[1]))\n",
    "print('end cluster 0/cluster 1 comparison')\n",
    "    \n",
    "K10=[]\n",
    "for i in range (0,len(F[1])):\n",
    "    s=0\n",
    "    for j in range (0,len(F[0])):\n",
    "        s=s+math.dist(F[1][i],F[0][j])\n",
    "    print(F[1][i],s/len(F[0]))\n",
    "    K10.append(s/len(F[0]))\n",
    "print('end cluster 1/cluster 0 comparison')\n",
    "\n",
    "K21=[]\n",
    "for i in range (0,len(F[2])):\n",
    "    s=0\n",
    "    for j in range (0,len(F[1])):\n",
    "        s=s+math.dist(F[2][i],F[1][j])\n",
    "    print(F[2][i],s/len(F[1]))\n",
    "    K21.append(s/len(F[1]))\n",
    "print('end cluster 2/cluster 1 comparison')\n",
    "\n",
    "K00=[]\n",
    "for i in range (0,len(F[0])):\n",
    "    s=0\n",
    "    for j in range (0,len(F[0])):\n",
    "        s=s+math.dist(F[0][i],F[0][j])\n",
    "    print(F[0][i],s/len(F[0]))\n",
    "    K00.append(s/len(F[0]))\n",
    "print('end cluster 0 self-comparison')\n",
    "\n",
    "K11=[]\n",
    "for i in range (0,len(F[1])):\n",
    "    s=0\n",
    "    for j in range (0,len(F[1])):\n",
    "        s=s+math.dist(F[1][i],F[1][j])\n",
    "    print(F[1][i],s/len(F[1]))\n",
    "    K11.append(s/len(F[1]))\n",
    "print('end cluster 1 self-comparison')\n",
    "\n",
    "K22=[]\n",
    "for i in range (0,len(F[2])):\n",
    "    s=0\n",
    "    for j in range (0,len(F[2])):\n",
    "        s=s+math.dist(F[2][i],F[2][j])\n",
    "    print(F[2][i],s/len(F[2]))\n",
    "    K22.append(s/len(F[2]))\n",
    "print('end cluster 2 self-comparison')"
   ]
  },
  {
   "cell_type": "code",
   "execution_count": null,
   "id": "2ec86a5e",
   "metadata": {},
   "outputs": [],
   "source": [
    "F0=[]\n",
    "for i in range(0,len(F[0])):\n",
    "    s=0\n",
    "    s=(K01[i]-K00[i])/max(K01[i],K00[i])\n",
    "    F0.append([F[0][i],s])\n",
    "print(F0)\n",
    "\n",
    "F1=[]\n",
    "for i in range(0,len(F[1])):\n",
    "    s=0\n",
    "    s=(K10[i]-K11[i])/max(K10[i],K11[i])\n",
    "    F1.append([F[1][i],s])\n",
    "print(F1)\n",
    "\n",
    "F2=[]\n",
    "for i in range(0,len(F[2])):\n",
    "    s=0\n",
    "    s=(K21[i]-K22[i])/max(K21[i],K22[i])\n",
    "    F2.append([F[2][i],s])\n",
    "print(F2)\n",
    "\n",
    "t=0\n",
    "for j in range(0,len(F0)):\n",
    "    t=t+F0[j][1]\n",
    "for j in range(0,len(F1)):\n",
    "    t=t+F1[j][1]\n",
    "for j in range(0,len(F2)):\n",
    "    t=t+F2[j][1]\n",
    "print(t/(len(F0)+len(F1)+len(F2)))"
   ]
  },
  {
   "cell_type": "markdown",
   "id": "6d619081",
   "metadata": {},
   "source": [
    "# The silhouette coefficient for k=3 clusters is s~.705226."
   ]
  },
  {
   "cell_type": "markdown",
   "id": "ac8d2248",
   "metadata": {},
   "source": [
    "# Let's try with k=2 clusters."
   ]
  },
  {
   "cell_type": "code",
   "execution_count": null,
   "id": "485aa877",
   "metadata": {},
   "outputs": [],
   "source": [
    "import math\n",
    "#K=[[-2,0],[0,0],[2,0],[-2,4],[0,4],[2,4],[-2,8],[0,8],[2,8]]\n",
    "K=[[0,6],[1,-2]]\n",
    "G=[]\n",
    "for i in range (0,len(Z)):                   \n",
    "    L=[]\n",
    "    for j in range (0,len(K)):\n",
    "        d=math.dist(Z[i],K[j])\n",
    "        L.append(d)\n",
    "        s=L.index(min(L))\n",
    "    G.append([Z[i],K[s]])\n",
    "print(G,len(G))"
   ]
  },
  {
   "cell_type": "code",
   "execution_count": 134,
   "id": "8c8dc5f2",
   "metadata": {},
   "outputs": [
    {
     "name": "stdout",
     "output_type": "stream",
     "text": [
      "333 [0, 6]\n",
      "167 [1, -2]\n",
      "333 [-0.0652039724839971, 6.035419417201408]\n",
      "167 [0.8928043879228512, -1.60355314260854]\n",
      "333 [-0.0652039724839971, 6.035419417201408]\n",
      "167 [0.8928043879228512, -1.60355314260854]\n",
      "[[-0.0652039724839971, 6.035419417201408], [0.8928043879228512, -1.60355314260854]] 2\n"
     ]
    }
   ],
   "source": [
    "import math\n",
    "#K=[[-2,0],[0,0],[2,0],[-2,4],[0,4],[2,4],[-2,8],[0,8],[2,8]]\n",
    "K=[[0,6],[1,-2]]\n",
    "for a in range (1,4):\n",
    "    G=[]\n",
    "    for i in range (0,500):                   \n",
    "        L=[]\n",
    "        for j in range (0,len(K)):\n",
    "            d=math.dist(Z[i],K[j])\n",
    "            L.append(d)\n",
    "            s=L.index(min(L))\n",
    "        G.append([Z[i],K[s]])   # s here is too big\n",
    "#    print(G,len(G))\n",
    "    K2=[]\n",
    "    for k in range(0,len(K)):\n",
    "        cx=0\n",
    "        cy=0\n",
    "        n=0\n",
    "        for i in range (0,len(G)):\n",
    "#            if G[i][1][0]==K[k][0] and G[i][1][1]==K[k][1]:\n",
    "            if G[i][1]==K[k]:\n",
    "                cx+=G[i][0][0]\n",
    "                cy+=G[i][0][1]\n",
    "                n=n+1\n",
    "        if n>0:\n",
    "            cx=cx/n\n",
    "            cy=cy/n\n",
    "            K2.append([cx,cy])\n",
    "            print(n,K[k])\n",
    "    K=K2\n",
    "print(K2,len(K2))"
   ]
  },
  {
   "cell_type": "code",
   "execution_count": null,
   "id": "e077e42c",
   "metadata": {},
   "outputs": [],
   "source": [
    "import math\n",
    "K=[[0,6],[1,-2]]\n",
    "for a in range (1,2):\n",
    "    G=[]\n",
    "    for i in range (0,500):                   \n",
    "        L=[]\n",
    "        for j in range (0,len(K)):\n",
    "            d=math.dist(Z[i],K[j])\n",
    "            L.append(d)\n",
    "            s=L.index(min(L))\n",
    "        G.append([Z[i],K[s]])\n",
    "#    print(G,len(G))\n",
    "    F=[0,0,0]\n",
    "    for k in range(0,len(K)):\n",
    "        K2=[]\n",
    "        for i in range (0,len(G)):\n",
    "            if G[i][1]==K[k]:\n",
    "                K2.append(G[i][0])\n",
    "        for j in range (0,len(K2)):\n",
    "            s=0\n",
    "            for l in range(0,len(K2)):\n",
    "                s=s+math.dist(K2[j],K2[l])\n",
    "            print(K2[j],s/len(K2))\n",
    "        F[k]=K2\n",
    "        print('end cluster')\n",
    "#        print(K2,len(K2))"
   ]
  },
  {
   "cell_type": "code",
   "execution_count": null,
   "id": "645c9a6b",
   "metadata": {},
   "outputs": [],
   "source": [
    "F[0],F[1]"
   ]
  },
  {
   "cell_type": "code",
   "execution_count": null,
   "id": "ff11c5c2",
   "metadata": {},
   "outputs": [],
   "source": [
    "K01=[]\n",
    "for i in range (0,len(F[0])):\n",
    "    s=0\n",
    "    for j in range (0,len(F[1])):\n",
    "        s=s+math.dist(F[0][i],F[1][j])\n",
    "    print(F[0][i],s/len(F[1]))\n",
    "    K01.append(s/len(F[1]))\n",
    "print('end cluster 0/cluster 1 comparison')\n",
    "    \n",
    "K10=[]\n",
    "for i in range (0,len(F[1])):\n",
    "    s=0\n",
    "    for j in range (0,len(F[0])):\n",
    "        s=s+math.dist(F[1][i],F[0][j])\n",
    "    print(F[1][i],s/len(F[0]))\n",
    "    K10.append(s/len(F[0]))\n",
    "print('end cluster 1/cluster 0 comparison')\n",
    "\n",
    "K00=[]\n",
    "for i in range (0,len(F[0])):\n",
    "    s=0\n",
    "    for j in range (0,len(F[0])):\n",
    "        s=s+math.dist(F[0][i],F[0][j])\n",
    "    print(F[0][i],s/len(F[0]))\n",
    "    K00.append(s/len(F[0]))\n",
    "print('end cluster 0 self-comparison')\n",
    "\n",
    "K11=[]\n",
    "for i in range (0,len(F[1])):\n",
    "    s=0\n",
    "    for j in range (0,len(F[1])):\n",
    "        s=s+math.dist(F[1][i],F[1][j])\n",
    "    print(F[1][i],s/len(F[1]))\n",
    "    K11.append(s/len(F[1]))\n",
    "print('end cluster 1 self-comparison')"
   ]
  },
  {
   "cell_type": "code",
   "execution_count": null,
   "id": "500c5a2a",
   "metadata": {},
   "outputs": [],
   "source": [
    "F0=[]\n",
    "for i in range(0,len(F[0])):\n",
    "    s=0\n",
    "    s=(K01[i]-K00[i])/max(K01[i],K00[i])\n",
    "    F0.append([F[0][i],s])\n",
    "print(F0)\n",
    "\n",
    "F1=[]\n",
    "for i in range(0,len(F[1])):\n",
    "    s=0\n",
    "    s=(K10[i]-K11[i])/max(K10[i],K11[i])\n",
    "    F1.append([F[1][i],s])\n",
    "print(F1)\n",
    "\n",
    "t=0\n",
    "for j in range(0,len(F0)):\n",
    "    t=t+F0[j][1]\n",
    "for j in range(0,len(F1)):\n",
    "    t=t+F1[j][1]\n",
    "print(t/(len(F0)+len(F1)))"
   ]
  },
  {
   "cell_type": "markdown",
   "id": "6e37c8af",
   "metadata": {},
   "source": [
    "# The silhouette coefficient for k=2 clusters is s~.679291."
   ]
  },
  {
   "cell_type": "markdown",
   "id": "1bab8bd8",
   "metadata": {},
   "source": [
    "# Lastly, let's try with k=4 clusters."
   ]
  },
  {
   "cell_type": "code",
   "execution_count": null,
   "id": "53c39f9f",
   "metadata": {},
   "outputs": [],
   "source": [
    "import math\n",
    "#K=[[-2,0],[0,0],[2,0],[-2,4],[0,4],[2,4],[-2,8],[0,8],[2,8]]\n",
    "K=[[-2,8],[0,6],[1,4],[1,-2]]\n",
    "G=[]\n",
    "for i in range (0,len(Z)):                   \n",
    "    L=[]\n",
    "    for j in range (0,len(K)):\n",
    "        d=math.dist(Z[i],K[j])\n",
    "        L.append(d)\n",
    "        s=L.index(min(L))\n",
    "    G.append([Z[i],K[s]])\n",
    "print(G,len(G))"
   ]
  },
  {
   "cell_type": "code",
   "execution_count": null,
   "id": "1eb6bf42",
   "metadata": {},
   "outputs": [],
   "source": [
    "import math\n",
    "#K=[[-2,0],[0,0],[2,0],[-2,4],[0,4],[2,4],[-2,8],[0,8],[2,8]]\n",
    "K=[[-2,8],[0,6],[1,4],[1,-2]]\n",
    "for a in range (1,40):\n",
    "    G=[]\n",
    "    for i in range (0,500):                   \n",
    "        L=[]\n",
    "        for j in range (0,len(K)):\n",
    "            d=math.dist(Z[i],K[j])\n",
    "            L.append(d)\n",
    "            s=L.index(min(L))\n",
    "        G.append([Z[i],K[s]])   # s here is too big\n",
    "#    print(G,len(G))\n",
    "    K2=[]\n",
    "    for k in range(0,len(K)):\n",
    "        cx=0\n",
    "        cy=0\n",
    "        n=0\n",
    "        for i in range (0,len(G)):\n",
    "#            if G[i][1][0]==K[k][0] and G[i][1][1]==K[k][1]:\n",
    "            if G[i][1]==K[k]:\n",
    "                cx+=G[i][0][0]\n",
    "                cy+=G[i][0][1]\n",
    "                n=n+1\n",
    "        if n>0:\n",
    "            cx=cx/n\n",
    "            cy=cy/n\n",
    "            K2.append([cx,cy])\n",
    "            print(n,K[k])\n",
    "    K=K2\n",
    "print(K2,len(K2))"
   ]
  },
  {
   "cell_type": "code",
   "execution_count": null,
   "id": "7b1c370b",
   "metadata": {},
   "outputs": [],
   "source": [
    "import math\n",
    "K=[[-2,8],[0,6],[1,4],[1,-2]]\n",
    "for a in range (1,2):\n",
    "    G=[]\n",
    "    for i in range (0,500):                   \n",
    "        L=[]\n",
    "        for j in range (0,len(K)):\n",
    "            d=math.dist(Z[i],K[j])\n",
    "            L.append(d)\n",
    "            s=L.index(min(L))\n",
    "        G.append([Z[i],K[s]])\n",
    "#    print(G,len(G))\n",
    "    F=[0,0,0,0]\n",
    "    for k in range(0,len(K)):\n",
    "        K2=[]\n",
    "        for i in range (0,len(G)):\n",
    "            if G[i][1]==K[k]:\n",
    "                K2.append(G[i][0])\n",
    "        for j in range (0,len(K2)):\n",
    "            s=0\n",
    "            for l in range(0,len(K2)):\n",
    "                s=s+math.dist(K2[j],K2[l])\n",
    "            print(K2[j],s/len(K2))\n",
    "        F[k]=K2\n",
    "        print('end cluster')\n",
    "#        print(K2,len(K2))"
   ]
  },
  {
   "cell_type": "code",
   "execution_count": null,
   "id": "6d90640b",
   "metadata": {},
   "outputs": [],
   "source": [
    "F[0],F[1],F[2],F[3]"
   ]
  },
  {
   "cell_type": "code",
   "execution_count": null,
   "id": "23dee7b7",
   "metadata": {},
   "outputs": [],
   "source": [
    "K01=[]\n",
    "for i in range (0,len(F[0])):\n",
    "    s=0\n",
    "    for j in range (0,len(F[1])):\n",
    "        s=s+math.dist(F[0][i],F[1][j])\n",
    "    print(F[0][i],s/len(F[1]))\n",
    "    K01.append(s/len(F[1]))\n",
    "print('end cluster 0/cluster 1 comparison')\n",
    "    \n",
    "K10=[]\n",
    "for i in range (0,len(F[1])):\n",
    "    s=0\n",
    "    for j in range (0,len(F[0])):\n",
    "        s=s+math.dist(F[1][i],F[0][j])\n",
    "    print(F[1][i],s/len(F[0]))\n",
    "    K10.append(s/len(F[0]))\n",
    "print('end cluster 1/cluster 0 comparison')\n",
    "\n",
    "K21=[]\n",
    "for i in range (0,len(F[2])):\n",
    "    s=0\n",
    "    for j in range (0,len(F[1])):\n",
    "        s=s+math.dist(F[2][i],F[1][j])\n",
    "    print(F[2][i],s/len(F[1]))\n",
    "    K21.append(s/len(F[1]))\n",
    "print('end cluster 2/cluster 1 comparison')\n",
    "\n",
    "K32=[]\n",
    "for i in range (0,len(F[3])):\n",
    "    s=0\n",
    "    for j in range (0,len(F[2])):\n",
    "        s=s+math.dist(F[3][i],F[2][j])\n",
    "    print(F[3][i],s/len(F[2]))\n",
    "    K32.append(s/len(F[2]))\n",
    "print('end cluster 3/cluster 2 comparison')\n",
    "\n",
    "K00=[]\n",
    "for i in range (0,len(F[0])):\n",
    "    s=0\n",
    "    for j in range (0,len(F[0])):\n",
    "        s=s+math.dist(F[0][i],F[0][j])\n",
    "    print(F[0][i],s/len(F[0]))\n",
    "    K00.append(s/len(F[0]))\n",
    "print('end cluster 0 self-comparison')\n",
    "\n",
    "K11=[]\n",
    "for i in range (0,len(F[1])):\n",
    "    s=0\n",
    "    for j in range (0,len(F[1])):\n",
    "        s=s+math.dist(F[1][i],F[1][j])\n",
    "    print(F[1][i],s/len(F[1]))\n",
    "    K11.append(s/len(F[1]))\n",
    "print('end cluster 1 self-comparison')\n",
    "\n",
    "K22=[]\n",
    "for i in range (0,len(F[2])):\n",
    "    s=0\n",
    "    for j in range (0,len(F[2])):\n",
    "        s=s+math.dist(F[2][i],F[2][j])\n",
    "    print(F[2][i],s/len(F[2]))\n",
    "    K22.append(s/len(F[2]))\n",
    "print('end cluster 2 self-comparison')\n",
    "\n",
    "K33=[]\n",
    "for i in range (0,len(F[3])):\n",
    "    s=0\n",
    "    for j in range (0,len(F[3])):\n",
    "        s=s+math.dist(F[3][i],F[3][j])\n",
    "    print(F[3][i],s/len(F[3]))\n",
    "    K33.append(s/len(F[3]))\n",
    "print('end cluster 3 self-comparison')"
   ]
  },
  {
   "cell_type": "code",
   "execution_count": null,
   "id": "73f004b2",
   "metadata": {},
   "outputs": [],
   "source": [
    "F0=[]\n",
    "for i in range(0,len(F[0])):\n",
    "    s=0\n",
    "    s=(K01[i]-K00[i])/max(K01[i],K00[i])\n",
    "    F0.append([F[0][i],s])\n",
    "print(F0)\n",
    "\n",
    "F1=[]\n",
    "for i in range(0,len(F[1])):\n",
    "    s=0\n",
    "    s=(K10[i]-K11[i])/max(K10[i],K11[i])\n",
    "    F1.append([F[1][i],s])\n",
    "print(F1)\n",
    "\n",
    "F2=[]\n",
    "for i in range(0,len(F[2])):\n",
    "    s=0\n",
    "    s=(K21[i]-K22[i])/max(K21[i],K22[i])\n",
    "    F2.append([F[2][i],s])\n",
    "print(F2)\n",
    "\n",
    "F3=[]\n",
    "for i in range(0,len(F[3])):\n",
    "    s=0\n",
    "    s=(K32[i]-K33[i])/max(K32[i],K33[i])\n",
    "    F3.append([F[3][i],s])\n",
    "print(F3)\n",
    "\n",
    "t=0\n",
    "for j in range(0,len(F0)):\n",
    "    t=t+F0[j][1]\n",
    "for j in range(0,len(F1)):\n",
    "    t=t+F1[j][1]\n",
    "for j in range(0,len(F2)):\n",
    "    t=t+F2[j][1]\n",
    "for j in range(0,len(F3)):\n",
    "    t=t+F3[j][1]\n",
    "print(t/(len(F0)+len(F1)+len(F2)+len(F3)))"
   ]
  },
  {
   "cell_type": "markdown",
   "id": "7f60fabb",
   "metadata": {},
   "source": [
    "# The silhouette coefficient for k=4 clusters is s~.573423."
   ]
  },
  {
   "cell_type": "markdown",
   "id": "0dd9ef40",
   "metadata": {},
   "source": [
    "# The silhouette coefficient is likely to decrease for k<2 or k>4 clusters, so this shows that k=3 is the optimal amount."
   ]
  }
 ],
 "metadata": {
  "kernelspec": {
   "display_name": "Python 3 (ipykernel)",
   "language": "python",
   "name": "python3"
  },
  "language_info": {
   "codemirror_mode": {
    "name": "ipython",
    "version": 3
   },
   "file_extension": ".py",
   "mimetype": "text/x-python",
   "name": "python",
   "nbconvert_exporter": "python",
   "pygments_lexer": "ipython3",
   "version": "3.11.1"
  }
 },
 "nbformat": 4,
 "nbformat_minor": 5
}
