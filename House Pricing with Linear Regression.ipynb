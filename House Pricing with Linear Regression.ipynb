{
 "cells": [
  {
   "cell_type": "markdown",
   "id": "f0de6274",
   "metadata": {},
   "source": [
    "# Kenny Courser Spring 2023"
   ]
  },
  {
   "cell_type": "code",
   "execution_count": 6,
   "id": "ab4396a1",
   "metadata": {},
   "outputs": [],
   "source": [
    "import sklearn\n",
    "import scipy"
   ]
  },
  {
   "cell_type": "code",
   "execution_count": 7,
   "id": "b2d9d565",
   "metadata": {},
   "outputs": [],
   "source": [
    "import matplotlib\n",
    "import matplotlib.pyplot as plt\n",
    "import numpy as np\n",
    "from sklearn import datasets, linear_model\n",
    "import pandas as pd"
   ]
  },
  {
   "cell_type": "code",
   "execution_count": 8,
   "id": "8fbef82b",
   "metadata": {},
   "outputs": [],
   "source": [
    "# Load CSV and columns\n",
    "df = pd.read_csv(\"Housing.csv\")"
   ]
  },
  {
   "cell_type": "code",
   "execution_count": 9,
   "id": "debe0770",
   "metadata": {},
   "outputs": [],
   "source": [
    "Y = df['price']\n",
    "X = df['lotsize']\n",
    "X = X.values\n",
    "# Split the data into training/testing sets\n",
    "X_train = X[:-250]\n",
    "X_test = X[-250:]\n",
    "# Split the targets into training/testing sets\n",
    "Y_train = Y[:-250]\n",
    "Y_test = Y[-250:]"
   ]
  },
  {
   "cell_type": "code",
   "execution_count": 10,
   "id": "59a812c9",
   "metadata": {},
   "outputs": [
    {
     "data": {
      "image/png": "[encoded data removed]",
      "text/plain": [
       "<Figure size 640x480 with 1 Axes>"
      ]
     },
     "metadata": {},
     "output_type": "display_data"
    }
   ],
   "source": [
    "# Plot outputs\n",
    "plt.scatter(X_test, Y_test, color='black')\n",
    "plt.title('Test Data')\n",
    "plt.xlabel('Size')\n",
    "plt.ylabel('Price')\n",
    "plt.xticks(())\n",
    "plt.yticks(())\n",
    "plt.show()"
   ]
  },
  {
   "cell_type": "code",
   "execution_count": 11,
   "id": "c9aa8dac",
   "metadata": {},
   "outputs": [
    {
     "data": {
      "text/plain": [
       "296     50000.0\n",
       "297     50000.0\n",
       "298     52900.0\n",
       "299     53000.0\n",
       "300     55000.0\n",
       "         ...   \n",
       "541     91500.0\n",
       "542     94000.0\n",
       "543    103000.0\n",
       "544    105000.0\n",
       "545    105000.0\n",
       "Name: price, Length: 250, dtype: float64"
      ]
     },
     "execution_count": 11,
     "metadata": {},
     "output_type": "execute_result"
    }
   ],
   "source": [
    "Y_test"
   ]
  },
  {
   "cell_type": "code",
   "execution_count": 12,
   "id": "16605a91",
   "metadata": {},
   "outputs": [
    {
     "data": {
      "text/plain": [
       "array([ 5900,  3120,  5450,  4040,  4080,  8080,  4040,  4080,  5800,\n",
       "        5885,  9667,  3420,  5800,  7600,  5400,  4995,  3000,  5500,\n",
       "        6450,  6210,  5000,  5000,  5828,  5200,  5500,  6350,  8250,\n",
       "        6000,  7700,  8880,  8880,  6480,  7000,  8875,  7155,  8960,\n",
       "        7350,  3850,  7000,  7770,  7440,  7500,  8100,  3900,  2970,\n",
       "        3000, 10500,  5500,  4500,  3850,  4130,  4046,  4079,  4000,\n",
       "        9860,  7000,  7980,  6800,  4300, 10269,  6100,  6420, 12090,\n",
       "        6600,  6600,  8580,  9960, 10700, 15600, 13200,  9000,  7950,\n",
       "       16200,  6100,  6360,  6420,  6360,  6540,  6420,  6550,  5750,\n",
       "        7420,  7160,  4000,  9000,  6550, 13200,  7085,  6600,  6900,\n",
       "       11460,  7020,  6540,  8000,  9620, 10500,  5020,  7440,  6600,\n",
       "        7200,  6710,  6660,  7000,  7231,  7410,  7800,  6825,  6360,\n",
       "        6600,  6900,  6600,  6420,  6600,  6600,  9000,  6500,  6360,\n",
       "        5300,  2850,  6400, 11175,  6750,  7500,  6000, 10240,  5136,\n",
       "        3400,  2880,  3840,  2870,  5320,  3512,  3480,  3600,  3520,\n",
       "        5320,  6040, 11410,  8400,  5300,  7800,  3520,  5360,  6862,\n",
       "        3520,  4050,  3520,  4400,  5720, 11440,  7482,  5500,  4320,\n",
       "        5400,  4320,  4815,  6100,  7980,  6050,  3800,  5400,  6000,\n",
       "        2398,  2145,  2145,  2145,  2610,  1950,  2145,  2275,  2856,\n",
       "        2015,  2176,  2145,  2145,  2787,  9500,  4990,  6670,  6254,\n",
       "       10360,  5500,  5450,  5500,  6000,  5700,  6600,  4000,  4880,\n",
       "        4880,  8050,  8100,  5880,  5880, 12944,  6020,  4050,  8400,\n",
       "        5600,  5985,  4500,  4920,  8250,  8400,  6440,  8100,  6720,\n",
       "        5948,  8150,  4800,  9800,  8520,  8372,  4040,  4646,  4775,\n",
       "        4950,  5010,  6060,  3584,  6000,  6000,  6240,  6000,  7680,\n",
       "        6000,  6000,  6000,  6000,  7475,  5150,  6325,  6000,  6000,\n",
       "        6000,  7000, 12900,  7686,  5000,  5800,  6000,  4800,  6500,\n",
       "        7320,  6525,  4800,  6000,  6000,  6000,  6000], dtype=int64)"
      ]
     },
     "execution_count": 12,
     "metadata": {},
     "output_type": "execute_result"
    }
   ],
   "source": [
    "X_test"
   ]
  },
  {
   "cell_type": "code",
   "execution_count": 13,
   "id": "d7291301",
   "metadata": {},
   "outputs": [],
   "source": [
    "X_matrix=np.array([X_test,np.ones(250)])"
   ]
  },
  {
   "cell_type": "code",
   "execution_count": 14,
   "id": "5125793f",
   "metadata": {},
   "outputs": [
    {
     "data": {
      "text/plain": [
       "array([[5.9000e+03, 3.1200e+03, 5.4500e+03, 4.0400e+03, 4.0800e+03,\n",
       "        8.0800e+03, 4.0400e+03, 4.0800e+03, 5.8000e+03, 5.8850e+03,\n",
       "        9.6670e+03, 3.4200e+03, 5.8000e+03, 7.6000e+03, 5.4000e+03,\n",
       "        4.9950e+03, 3.0000e+03, 5.5000e+03, 6.4500e+03, 6.2100e+03,\n",
       "        5.0000e+03, 5.0000e+03, 5.8280e+03, 5.2000e+03, 5.5000e+03,\n",
       "        6.3500e+03, 8.2500e+03, 6.0000e+03, 7.7000e+03, 8.8800e+03,\n",
       "        8.8800e+03, 6.4800e+03, 7.0000e+03, 8.8750e+03, 7.1550e+03,\n",
       "        8.9600e+03, 7.3500e+03, 3.8500e+03, 7.0000e+03, 7.7700e+03,\n",
       "        7.4400e+03, 7.5000e+03, 8.1000e+03, 3.9000e+03, 2.9700e+03,\n",
       "        3.0000e+03, 1.0500e+04, 5.5000e+03, 4.5000e+03, 3.8500e+03,\n",
       "        4.1300e+03, 4.0460e+03, 4.0790e+03, 4.0000e+03, 9.8600e+03,\n",
       "        7.0000e+03, 7.9800e+03, 6.8000e+03, 4.3000e+03, 1.0269e+04,\n",
       "        6.1000e+03, 6.4200e+03, 1.2090e+04, 6.6000e+03, 6.6000e+03,\n",
       "        8.5800e+03, 9.9600e+03, 1.0700e+04, 1.5600e+04, 1.3200e+04,\n",
       "        9.0000e+03, 7.9500e+03, 1.6200e+04, 6.1000e+03, 6.3600e+03,\n",
       "        6.4200e+03, 6.3600e+03, 6.5400e+03, 6.4200e+03, 6.5500e+03,\n",
       "        5.7500e+03, 7.4200e+03, 7.1600e+03, 4.0000e+03, 9.0000e+03,\n",
       "        6.5500e+03, 1.3200e+04, 7.0850e+03, 6.6000e+03, 6.9000e+03,\n",
       "        1.1460e+04, 7.0200e+03, 6.5400e+03, 8.0000e+03, 9.6200e+03,\n",
       "        1.0500e+04, 5.0200e+03, 7.4400e+03, 6.6000e+03, 7.2000e+03,\n",
       "        6.7100e+03, 6.6600e+03, 7.0000e+03, 7.2310e+03, 7.4100e+03,\n",
       "        7.8000e+03, 6.8250e+03, 6.3600e+03, 6.6000e+03, 6.9000e+03,\n",
       "        6.6000e+03, 6.4200e+03, 6.6000e+03, 6.6000e+03, 9.0000e+03,\n",
       "        6.5000e+03, 6.3600e+03, 5.3000e+03, 2.8500e+03, 6.4000e+03,\n",
       "        1.1175e+04, 6.7500e+03, 7.5000e+03, 6.0000e+03, 1.0240e+04,\n",
       "        5.1360e+03, 3.4000e+03, 2.8800e+03, 3.8400e+03, 2.8700e+03,\n",
       "        5.3200e+03, 3.5120e+03, 3.4800e+03, 3.6000e+03, 3.5200e+03,\n",
       "        5.3200e+03, 6.0400e+03, 1.1410e+04, 8.4000e+03, 5.3000e+03,\n",
       "        7.8000e+03, 3.5200e+03, 5.3600e+03, 6.8620e+03, 3.5200e+03,\n",
       "        4.0500e+03, 3.5200e+03, 4.4000e+03, 5.7200e+03, 1.1440e+04,\n",
       "        7.4820e+03, 5.5000e+03, 4.3200e+03, 5.4000e+03, 4.3200e+03,\n",
       "        4.8150e+03, 6.1000e+03, 7.9800e+03, 6.0500e+03, 3.8000e+03,\n",
       "        5.4000e+03, 6.0000e+03, 2.3980e+03, 2.1450e+03, 2.1450e+03,\n",
       "        2.1450e+03, 2.6100e+03, 1.9500e+03, 2.1450e+03, 2.2750e+03,\n",
       "        2.8560e+03, 2.0150e+03, 2.1760e+03, 2.1450e+03, 2.1450e+03,\n",
       "        2.7870e+03, 9.5000e+03, 4.9900e+03, 6.6700e+03, 6.2540e+03,\n",
       "        1.0360e+04, 5.5000e+03, 5.4500e+03, 5.5000e+03, 6.0000e+03,\n",
       "        5.7000e+03, 6.6000e+03, 4.0000e+03, 4.8800e+03, 4.8800e+03,\n",
       "        8.0500e+03, 8.1000e+03, 5.8800e+03, 5.8800e+03, 1.2944e+04,\n",
       "        6.0200e+03, 4.0500e+03, 8.4000e+03, 5.6000e+03, 5.9850e+03,\n",
       "        4.5000e+03, 4.9200e+03, 8.2500e+03, 8.4000e+03, 6.4400e+03,\n",
       "        8.1000e+03, 6.7200e+03, 5.9480e+03, 8.1500e+03, 4.8000e+03,\n",
       "        9.8000e+03, 8.5200e+03, 8.3720e+03, 4.0400e+03, 4.6460e+03,\n",
       "        4.7750e+03, 4.9500e+03, 5.0100e+03, 6.0600e+03, 3.5840e+03,\n",
       "        6.0000e+03, 6.0000e+03, 6.2400e+03, 6.0000e+03, 7.6800e+03,\n",
       "        6.0000e+03, 6.0000e+03, 6.0000e+03, 6.0000e+03, 7.4750e+03,\n",
       "        5.1500e+03, 6.3250e+03, 6.0000e+03, 6.0000e+03, 6.0000e+03,\n",
       "        7.0000e+03, 1.2900e+04, 7.6860e+03, 5.0000e+03, 5.8000e+03,\n",
       "        6.0000e+03, 4.8000e+03, 6.5000e+03, 7.3200e+03, 6.5250e+03,\n",
       "        4.8000e+03, 6.0000e+03, 6.0000e+03, 6.0000e+03, 6.0000e+03],\n",
       "       [1.0000e+00, 1.0000e+00, 1.0000e+00, 1.0000e+00, 1.0000e+00,\n",
       "        1.0000e+00, 1.0000e+00, 1.0000e+00, 1.0000e+00, 1.0000e+00,\n",
       "        1.0000e+00, 1.0000e+00, 1.0000e+00, 1.0000e+00, 1.0000e+00,\n",
       "        1.0000e+00, 1.0000e+00, 1.0000e+00, 1.0000e+00, 1.0000e+00,\n",
       "        1.0000e+00, 1.0000e+00, 1.0000e+00, 1.0000e+00, 1.0000e+00,\n",
       "        1.0000e+00, 1.0000e+00, 1.0000e+00, 1.0000e+00, 1.0000e+00,\n",
       "        1.0000e+00, 1.0000e+00, 1.0000e+00, 1.0000e+00, 1.0000e+00,\n",
       "        1.0000e+00, 1.0000e+00, 1.0000e+00, 1.0000e+00, 1.0000e+00,\n",
       "        1.0000e+00, 1.0000e+00, 1.0000e+00, 1.0000e+00, 1.0000e+00,\n",
       "        1.0000e+00, 1.0000e+00, 1.0000e+00, 1.0000e+00, 1.0000e+00,\n",
       "        1.0000e+00, 1.0000e+00, 1.0000e+00, 1.0000e+00, 1.0000e+00,\n",
       "        1.0000e+00, 1.0000e+00, 1.0000e+00, 1.0000e+00, 1.0000e+00,\n",
       "        1.0000e+00, 1.0000e+00, 1.0000e+00, 1.0000e+00, 1.0000e+00,\n",
       "        1.0000e+00, 1.0000e+00, 1.0000e+00, 1.0000e+00, 1.0000e+00,\n",
       "        1.0000e+00, 1.0000e+00, 1.0000e+00, 1.0000e+00, 1.0000e+00,\n",
       "        1.0000e+00, 1.0000e+00, 1.0000e+00, 1.0000e+00, 1.0000e+00,\n",
       "        1.0000e+00, 1.0000e+00, 1.0000e+00, 1.0000e+00, 1.0000e+00,\n",
       "        1.0000e+00, 1.0000e+00, 1.0000e+00, 1.0000e+00, 1.0000e+00,\n",
       "        1.0000e+00, 1.0000e+00, 1.0000e+00, 1.0000e+00, 1.0000e+00,\n",
       "        1.0000e+00, 1.0000e+00, 1.0000e+00, 1.0000e+00, 1.0000e+00,\n",
       "        1.0000e+00, 1.0000e+00, 1.0000e+00, 1.0000e+00, 1.0000e+00,\n",
       "        1.0000e+00, 1.0000e+00, 1.0000e+00, 1.0000e+00, 1.0000e+00,\n",
       "        1.0000e+00, 1.0000e+00, 1.0000e+00, 1.0000e+00, 1.0000e+00,\n",
       "        1.0000e+00, 1.0000e+00, 1.0000e+00, 1.0000e+00, 1.0000e+00,\n",
       "        1.0000e+00, 1.0000e+00, 1.0000e+00, 1.0000e+00, 1.0000e+00,\n",
       "        1.0000e+00, 1.0000e+00, 1.0000e+00, 1.0000e+00, 1.0000e+00,\n",
       "        1.0000e+00, 1.0000e+00, 1.0000e+00, 1.0000e+00, 1.0000e+00,\n",
       "        1.0000e+00, 1.0000e+00, 1.0000e+00, 1.0000e+00, 1.0000e+00,\n",
       "        1.0000e+00, 1.0000e+00, 1.0000e+00, 1.0000e+00, 1.0000e+00,\n",
       "        1.0000e+00, 1.0000e+00, 1.0000e+00, 1.0000e+00, 1.0000e+00,\n",
       "        1.0000e+00, 1.0000e+00, 1.0000e+00, 1.0000e+00, 1.0000e+00,\n",
       "        1.0000e+00, 1.0000e+00, 1.0000e+00, 1.0000e+00, 1.0000e+00,\n",
       "        1.0000e+00, 1.0000e+00, 1.0000e+00, 1.0000e+00, 1.0000e+00,\n",
       "        1.0000e+00, 1.0000e+00, 1.0000e+00, 1.0000e+00, 1.0000e+00,\n",
       "        1.0000e+00, 1.0000e+00, 1.0000e+00, 1.0000e+00, 1.0000e+00,\n",
       "        1.0000e+00, 1.0000e+00, 1.0000e+00, 1.0000e+00, 1.0000e+00,\n",
       "        1.0000e+00, 1.0000e+00, 1.0000e+00, 1.0000e+00, 1.0000e+00,\n",
       "        1.0000e+00, 1.0000e+00, 1.0000e+00, 1.0000e+00, 1.0000e+00,\n",
       "        1.0000e+00, 1.0000e+00, 1.0000e+00, 1.0000e+00, 1.0000e+00,\n",
       "        1.0000e+00, 1.0000e+00, 1.0000e+00, 1.0000e+00, 1.0000e+00,\n",
       "        1.0000e+00, 1.0000e+00, 1.0000e+00, 1.0000e+00, 1.0000e+00,\n",
       "        1.0000e+00, 1.0000e+00, 1.0000e+00, 1.0000e+00, 1.0000e+00,\n",
       "        1.0000e+00, 1.0000e+00, 1.0000e+00, 1.0000e+00, 1.0000e+00,\n",
       "        1.0000e+00, 1.0000e+00, 1.0000e+00, 1.0000e+00, 1.0000e+00,\n",
       "        1.0000e+00, 1.0000e+00, 1.0000e+00, 1.0000e+00, 1.0000e+00,\n",
       "        1.0000e+00, 1.0000e+00, 1.0000e+00, 1.0000e+00, 1.0000e+00,\n",
       "        1.0000e+00, 1.0000e+00, 1.0000e+00, 1.0000e+00, 1.0000e+00,\n",
       "        1.0000e+00, 1.0000e+00, 1.0000e+00, 1.0000e+00, 1.0000e+00,\n",
       "        1.0000e+00, 1.0000e+00, 1.0000e+00, 1.0000e+00, 1.0000e+00,\n",
       "        1.0000e+00, 1.0000e+00, 1.0000e+00, 1.0000e+00, 1.0000e+00]])"
      ]
     },
     "execution_count": 14,
     "metadata": {},
     "output_type": "execute_result"
    }
   ],
   "source": [
    "X_matrix"
   ]
  },
  {
   "cell_type": "code",
   "execution_count": 15,
   "id": "dd5d566c",
   "metadata": {},
   "outputs": [
    {
     "data": {
      "text/plain": [
       "(2, 250)"
      ]
     },
     "execution_count": 15,
     "metadata": {},
     "output_type": "execute_result"
    }
   ],
   "source": [
    "np.shape(X_matrix)"
   ]
  },
  {
   "cell_type": "code",
   "execution_count": 16,
   "id": "210f5cdf",
   "metadata": {},
   "outputs": [
    {
     "data": {
      "text/plain": [
       "array([[5.9000e+03, 1.0000e+00],\n",
       "       [3.1200e+03, 1.0000e+00],\n",
       "       [5.4500e+03, 1.0000e+00],\n",
       "       [4.0400e+03, 1.0000e+00],\n",
       "       [4.0800e+03, 1.0000e+00],\n",
       "       [8.0800e+03, 1.0000e+00],\n",
       "       [4.0400e+03, 1.0000e+00],\n",
       "       [4.0800e+03, 1.0000e+00],\n",
       "       [5.8000e+03, 1.0000e+00],\n",
       "       [5.8850e+03, 1.0000e+00],\n",
       "       [9.6670e+03, 1.0000e+00],\n",
       "       [3.4200e+03, 1.0000e+00],\n",
       "       [5.8000e+03, 1.0000e+00],\n",
       "       [7.6000e+03, 1.0000e+00],\n",
       "       [5.4000e+03, 1.0000e+00],\n",
       "       [4.9950e+03, 1.0000e+00],\n",
       "       [3.0000e+03, 1.0000e+00],\n",
       "       [5.5000e+03, 1.0000e+00],\n",
       "       [6.4500e+03, 1.0000e+00],\n",
       "       [6.2100e+03, 1.0000e+00],\n",
       "       [5.0000e+03, 1.0000e+00],\n",
       "       [5.0000e+03, 1.0000e+00],\n",
       "       [5.8280e+03, 1.0000e+00],\n",
       "       [5.2000e+03, 1.0000e+00],\n",
       "       [5.5000e+03, 1.0000e+00],\n",
       "       [6.3500e+03, 1.0000e+00],\n",
       "       [8.2500e+03, 1.0000e+00],\n",
       "       [6.0000e+03, 1.0000e+00],\n",
       "       [7.7000e+03, 1.0000e+00],\n",
       "       [8.8800e+03, 1.0000e+00],\n",
       "       [8.8800e+03, 1.0000e+00],\n",
       "       [6.4800e+03, 1.0000e+00],\n",
       "       [7.0000e+03, 1.0000e+00],\n",
       "       [8.8750e+03, 1.0000e+00],\n",
       "       [7.1550e+03, 1.0000e+00],\n",
       "       [8.9600e+03, 1.0000e+00],\n",
       "       [7.3500e+03, 1.0000e+00],\n",
       "       [3.8500e+03, 1.0000e+00],\n",
       "       [7.0000e+03, 1.0000e+00],\n",
       "       [7.7700e+03, 1.0000e+00],\n",
       "       [7.4400e+03, 1.0000e+00],\n",
       "       [7.5000e+03, 1.0000e+00],\n",
       "       [8.1000e+03, 1.0000e+00],\n",
       "       [3.9000e+03, 1.0000e+00],\n",
       "       [2.9700e+03, 1.0000e+00],\n",
       "       [3.0000e+03, 1.0000e+00],\n",
       "       [1.0500e+04, 1.0000e+00],\n",
       "       [5.5000e+03, 1.0000e+00],\n",
       "       [4.5000e+03, 1.0000e+00],\n",
       "       [3.8500e+03, 1.0000e+00],\n",
       "       [4.1300e+03, 1.0000e+00],\n",
       "       [4.0460e+03, 1.0000e+00],\n",
       "       [4.0790e+03, 1.0000e+00],\n",
       "       [4.0000e+03, 1.0000e+00],\n",
       "       [9.8600e+03, 1.0000e+00],\n",
       "       [7.0000e+03, 1.0000e+00],\n",
       "       [7.9800e+03, 1.0000e+00],\n",
       "       [6.8000e+03, 1.0000e+00],\n",
       "       [4.3000e+03, 1.0000e+00],\n",
       "       [1.0269e+04, 1.0000e+00],\n",
       "       [6.1000e+03, 1.0000e+00],\n",
       "       [6.4200e+03, 1.0000e+00],\n",
       "       [1.2090e+04, 1.0000e+00],\n",
       "       [6.6000e+03, 1.0000e+00],\n",
       "       [6.6000e+03, 1.0000e+00],\n",
       "       [8.5800e+03, 1.0000e+00],\n",
       "       [9.9600e+03, 1.0000e+00],\n",
       "       [1.0700e+04, 1.0000e+00],\n",
       "       [1.5600e+04, 1.0000e+00],\n",
       "       [1.3200e+04, 1.0000e+00],\n",
       "       [9.0000e+03, 1.0000e+00],\n",
       "       [7.9500e+03, 1.0000e+00],\n",
       "       [1.6200e+04, 1.0000e+00],\n",
       "       [6.1000e+03, 1.0000e+00],\n",
       "       [6.3600e+03, 1.0000e+00],\n",
       "       [6.4200e+03, 1.0000e+00],\n",
       "       [6.3600e+03, 1.0000e+00],\n",
       "       [6.5400e+03, 1.0000e+00],\n",
       "       [6.4200e+03, 1.0000e+00],\n",
       "       [6.5500e+03, 1.0000e+00],\n",
       "       [5.7500e+03, 1.0000e+00],\n",
       "       [7.4200e+03, 1.0000e+00],\n",
       "       [7.1600e+03, 1.0000e+00],\n",
       "       [4.0000e+03, 1.0000e+00],\n",
       "       [9.0000e+03, 1.0000e+00],\n",
       "       [6.5500e+03, 1.0000e+00],\n",
       "       [1.3200e+04, 1.0000e+00],\n",
       "       [7.0850e+03, 1.0000e+00],\n",
       "       [6.6000e+03, 1.0000e+00],\n",
       "       [6.9000e+03, 1.0000e+00],\n",
       "       [1.1460e+04, 1.0000e+00],\n",
       "       [7.0200e+03, 1.0000e+00],\n",
       "       [6.5400e+03, 1.0000e+00],\n",
       "       [8.0000e+03, 1.0000e+00],\n",
       "       [9.6200e+03, 1.0000e+00],\n",
       "       [1.0500e+04, 1.0000e+00],\n",
       "       [5.0200e+03, 1.0000e+00],\n",
       "       [7.4400e+03, 1.0000e+00],\n",
       "       [6.6000e+03, 1.0000e+00],\n",
       "       [7.2000e+03, 1.0000e+00],\n",
       "       [6.7100e+03, 1.0000e+00],\n",
       "       [6.6600e+03, 1.0000e+00],\n",
       "       [7.0000e+03, 1.0000e+00],\n",
       "       [7.2310e+03, 1.0000e+00],\n",
       "       [7.4100e+03, 1.0000e+00],\n",
       "       [7.8000e+03, 1.0000e+00],\n",
       "       [6.8250e+03, 1.0000e+00],\n",
       "       [6.3600e+03, 1.0000e+00],\n",
       "       [6.6000e+03, 1.0000e+00],\n",
       "       [6.9000e+03, 1.0000e+00],\n",
       "       [6.6000e+03, 1.0000e+00],\n",
       "       [6.4200e+03, 1.0000e+00],\n",
       "       [6.6000e+03, 1.0000e+00],\n",
       "       [6.6000e+03, 1.0000e+00],\n",
       "       [9.0000e+03, 1.0000e+00],\n",
       "       [6.5000e+03, 1.0000e+00],\n",
       "       [6.3600e+03, 1.0000e+00],\n",
       "       [5.3000e+03, 1.0000e+00],\n",
       "       [2.8500e+03, 1.0000e+00],\n",
       "       [6.4000e+03, 1.0000e+00],\n",
       "       [1.1175e+04, 1.0000e+00],\n",
       "       [6.7500e+03, 1.0000e+00],\n",
       "       [7.5000e+03, 1.0000e+00],\n",
       "       [6.0000e+03, 1.0000e+00],\n",
       "       [1.0240e+04, 1.0000e+00],\n",
       "       [5.1360e+03, 1.0000e+00],\n",
       "       [3.4000e+03, 1.0000e+00],\n",
       "       [2.8800e+03, 1.0000e+00],\n",
       "       [3.8400e+03, 1.0000e+00],\n",
       "       [2.8700e+03, 1.0000e+00],\n",
       "       [5.3200e+03, 1.0000e+00],\n",
       "       [3.5120e+03, 1.0000e+00],\n",
       "       [3.4800e+03, 1.0000e+00],\n",
       "       [3.6000e+03, 1.0000e+00],\n",
       "       [3.5200e+03, 1.0000e+00],\n",
       "       [5.3200e+03, 1.0000e+00],\n",
       "       [6.0400e+03, 1.0000e+00],\n",
       "       [1.1410e+04, 1.0000e+00],\n",
       "       [8.4000e+03, 1.0000e+00],\n",
       "       [5.3000e+03, 1.0000e+00],\n",
       "       [7.8000e+03, 1.0000e+00],\n",
       "       [3.5200e+03, 1.0000e+00],\n",
       "       [5.3600e+03, 1.0000e+00],\n",
       "       [6.8620e+03, 1.0000e+00],\n",
       "       [3.5200e+03, 1.0000e+00],\n",
       "       [4.0500e+03, 1.0000e+00],\n",
       "       [3.5200e+03, 1.0000e+00],\n",
       "       [4.4000e+03, 1.0000e+00],\n",
       "       [5.7200e+03, 1.0000e+00],\n",
       "       [1.1440e+04, 1.0000e+00],\n",
       "       [7.4820e+03, 1.0000e+00],\n",
       "       [5.5000e+03, 1.0000e+00],\n",
       "       [4.3200e+03, 1.0000e+00],\n",
       "       [5.4000e+03, 1.0000e+00],\n",
       "       [4.3200e+03, 1.0000e+00],\n",
       "       [4.8150e+03, 1.0000e+00],\n",
       "       [6.1000e+03, 1.0000e+00],\n",
       "       [7.9800e+03, 1.0000e+00],\n",
       "       [6.0500e+03, 1.0000e+00],\n",
       "       [3.8000e+03, 1.0000e+00],\n",
       "       [5.4000e+03, 1.0000e+00],\n",
       "       [6.0000e+03, 1.0000e+00],\n",
       "       [2.3980e+03, 1.0000e+00],\n",
       "       [2.1450e+03, 1.0000e+00],\n",
       "       [2.1450e+03, 1.0000e+00],\n",
       "       [2.1450e+03, 1.0000e+00],\n",
       "       [2.6100e+03, 1.0000e+00],\n",
       "       [1.9500e+03, 1.0000e+00],\n",
       "       [2.1450e+03, 1.0000e+00],\n",
       "       [2.2750e+03, 1.0000e+00],\n",
       "       [2.8560e+03, 1.0000e+00],\n",
       "       [2.0150e+03, 1.0000e+00],\n",
       "       [2.1760e+03, 1.0000e+00],\n",
       "       [2.1450e+03, 1.0000e+00],\n",
       "       [2.1450e+03, 1.0000e+00],\n",
       "       [2.7870e+03, 1.0000e+00],\n",
       "       [9.5000e+03, 1.0000e+00],\n",
       "       [4.9900e+03, 1.0000e+00],\n",
       "       [6.6700e+03, 1.0000e+00],\n",
       "       [6.2540e+03, 1.0000e+00],\n",
       "       [1.0360e+04, 1.0000e+00],\n",
       "       [5.5000e+03, 1.0000e+00],\n",
       "       [5.4500e+03, 1.0000e+00],\n",
       "       [5.5000e+03, 1.0000e+00],\n",
       "       [6.0000e+03, 1.0000e+00],\n",
       "       [5.7000e+03, 1.0000e+00],\n",
       "       [6.6000e+03, 1.0000e+00],\n",
       "       [4.0000e+03, 1.0000e+00],\n",
       "       [4.8800e+03, 1.0000e+00],\n",
       "       [4.8800e+03, 1.0000e+00],\n",
       "       [8.0500e+03, 1.0000e+00],\n",
       "       [8.1000e+03, 1.0000e+00],\n",
       "       [5.8800e+03, 1.0000e+00],\n",
       "       [5.8800e+03, 1.0000e+00],\n",
       "       [1.2944e+04, 1.0000e+00],\n",
       "       [6.0200e+03, 1.0000e+00],\n",
       "       [4.0500e+03, 1.0000e+00],\n",
       "       [8.4000e+03, 1.0000e+00],\n",
       "       [5.6000e+03, 1.0000e+00],\n",
       "       [5.9850e+03, 1.0000e+00],\n",
       "       [4.5000e+03, 1.0000e+00],\n",
       "       [4.9200e+03, 1.0000e+00],\n",
       "       [8.2500e+03, 1.0000e+00],\n",
       "       [8.4000e+03, 1.0000e+00],\n",
       "       [6.4400e+03, 1.0000e+00],\n",
       "       [8.1000e+03, 1.0000e+00],\n",
       "       [6.7200e+03, 1.0000e+00],\n",
       "       [5.9480e+03, 1.0000e+00],\n",
       "       [8.1500e+03, 1.0000e+00],\n",
       "       [4.8000e+03, 1.0000e+00],\n",
       "       [9.8000e+03, 1.0000e+00],\n",
       "       [8.5200e+03, 1.0000e+00],\n",
       "       [8.3720e+03, 1.0000e+00],\n",
       "       [4.0400e+03, 1.0000e+00],\n",
       "       [4.6460e+03, 1.0000e+00],\n",
       "       [4.7750e+03, 1.0000e+00],\n",
       "       [4.9500e+03, 1.0000e+00],\n",
       "       [5.0100e+03, 1.0000e+00],\n",
       "       [6.0600e+03, 1.0000e+00],\n",
       "       [3.5840e+03, 1.0000e+00],\n",
       "       [6.0000e+03, 1.0000e+00],\n",
       "       [6.0000e+03, 1.0000e+00],\n",
       "       [6.2400e+03, 1.0000e+00],\n",
       "       [6.0000e+03, 1.0000e+00],\n",
       "       [7.6800e+03, 1.0000e+00],\n",
       "       [6.0000e+03, 1.0000e+00],\n",
       "       [6.0000e+03, 1.0000e+00],\n",
       "       [6.0000e+03, 1.0000e+00],\n",
       "       [6.0000e+03, 1.0000e+00],\n",
       "       [7.4750e+03, 1.0000e+00],\n",
       "       [5.1500e+03, 1.0000e+00],\n",
       "       [6.3250e+03, 1.0000e+00],\n",
       "       [6.0000e+03, 1.0000e+00],\n",
       "       [6.0000e+03, 1.0000e+00],\n",
       "       [6.0000e+03, 1.0000e+00],\n",
       "       [7.0000e+03, 1.0000e+00],\n",
       "       [1.2900e+04, 1.0000e+00],\n",
       "       [7.6860e+03, 1.0000e+00],\n",
       "       [5.0000e+03, 1.0000e+00],\n",
       "       [5.8000e+03, 1.0000e+00],\n",
       "       [6.0000e+03, 1.0000e+00],\n",
       "       [4.8000e+03, 1.0000e+00],\n",
       "       [6.5000e+03, 1.0000e+00],\n",
       "       [7.3200e+03, 1.0000e+00],\n",
       "       [6.5250e+03, 1.0000e+00],\n",
       "       [4.8000e+03, 1.0000e+00],\n",
       "       [6.0000e+03, 1.0000e+00],\n",
       "       [6.0000e+03, 1.0000e+00],\n",
       "       [6.0000e+03, 1.0000e+00],\n",
       "       [6.0000e+03, 1.0000e+00]])"
      ]
     },
     "execution_count": 16,
     "metadata": {},
     "output_type": "execute_result"
    }
   ],
   "source": [
    "X_matrix_transpose=np.transpose(X_matrix)\n",
    "np.transpose(X_matrix)"
   ]
  },
  {
   "cell_type": "code",
   "execution_count": 17,
   "id": "bee04374",
   "metadata": {},
   "outputs": [
    {
     "data": {
      "text/plain": [
       "(250, 2)"
      ]
     },
     "execution_count": 17,
     "metadata": {},
     "output_type": "execute_result"
    }
   ],
   "source": [
    "np.shape(X_matrix_transpose)"
   ]
  },
  {
   "cell_type": "code",
   "execution_count": 18,
   "id": "f3d1f875",
   "metadata": {},
   "outputs": [
    {
     "data": {
      "text/plain": [
       "array([[1.12404395e+10, 1.56957800e+06],\n",
       "       [1.56957800e+06, 2.50000000e+02]])"
      ]
     },
     "execution_count": 18,
     "metadata": {},
     "output_type": "execute_result"
    }
   ],
   "source": [
    "Xmat=np.dot(X_matrix,X_matrix_transpose)\n",
    "Xmat"
   ]
  },
  {
   "cell_type": "code",
   "execution_count": 19,
   "id": "dff677ee",
   "metadata": {},
   "outputs": [
    {
     "data": {
      "text/plain": [
       "array([[ 7.21428326e-10, -4.52935212e-06],\n",
       "       [-4.52935212e-06,  3.24366857e-02]])"
      ]
     },
     "execution_count": 19,
     "metadata": {},
     "output_type": "execute_result"
    }
   ],
   "source": [
    "Xmatinv=np.linalg.inv(Xmat)\n",
    "Xmatinv"
   ]
  },
  {
   "cell_type": "code",
   "execution_count": 20,
   "id": "1be334b2",
   "metadata": {},
   "outputs": [
    {
     "data": {
      "text/plain": [
       "(250,)"
      ]
     },
     "execution_count": 20,
     "metadata": {},
     "output_type": "execute_result"
    }
   ],
   "source": [
    "np.shape(Y_test)"
   ]
  },
  {
   "cell_type": "code",
   "execution_count": 21,
   "id": "6c919f13",
   "metadata": {},
   "outputs": [
    {
     "data": {
      "text/plain": [
       "array([1.34404871e+11, 2.04106470e+07])"
      ]
     },
     "execution_count": 21,
     "metadata": {},
     "output_type": "execute_result"
    }
   ],
   "source": [
    "Ymat=np.dot(X_matrix,Y_test)\n",
    "np.dot(X_matrix,Y_test)"
   ]
  },
  {
   "cell_type": "code",
   "execution_count": 22,
   "id": "3932b019",
   "metadata": {},
   "outputs": [
    {
     "data": {
      "text/plain": [
       "array([4.51647368e+00, 5.32867571e+04])"
      ]
     },
     "execution_count": 22,
     "metadata": {},
     "output_type": "execute_result"
    }
   ],
   "source": [
    "Slope_int=np.dot(Xmatinv,Ymat)\n",
    "np.dot(Xmatinv,Ymat)"
   ]
  },
  {
   "cell_type": "code",
   "execution_count": 23,
   "id": "416d6191",
   "metadata": {},
   "outputs": [],
   "source": [
    "w=Slope_int[0]\n",
    "b=Slope_int[1]"
   ]
  },
  {
   "cell_type": "code",
   "execution_count": 24,
   "id": "aa0f196b",
   "metadata": {},
   "outputs": [
    {
     "data": {
      "text/plain": [
       "(4.51647368354601, 53286.75707490882)"
      ]
     },
     "execution_count": 24,
     "metadata": {},
     "output_type": "execute_result"
    }
   ],
   "source": [
    "w,b"
   ]
  },
  {
   "cell_type": "code",
   "execution_count": 25,
   "id": "88aad1e3",
   "metadata": {},
   "outputs": [],
   "source": [
    "# Prediction on the test data\n",
    "Y_predict = np.dot(X_test,w) + b"
   ]
  },
  {
   "cell_type": "code",
   "execution_count": 26,
   "id": "1352b39f",
   "metadata": {},
   "outputs": [
    {
     "data": {
      "text/plain": [
       "[<matplotlib.lines.Line2D at 0x2639a41c790>]"
      ]
     },
     "execution_count": 26,
     "metadata": {},
     "output_type": "execute_result"
    },
    {
     "data": {
      "image/png": "[encoded data removed]",
      "text/plain": [
       "<Figure size 640x480 with 1 Axes>"
      ]
     },
     "metadata": {},
     "output_type": "display_data"
    }
   ],
   "source": [
    "# Plot outputs\n",
    "plt.plot(X_test, Y_predict, color='red',linewidth=3)"
   ]
  },
  {
   "cell_type": "code",
   "execution_count": 27,
   "id": "e492365b",
   "metadata": {},
   "outputs": [
    {
     "data": {
      "image/png": "[encoded data removed]",
      "text/plain": [
       "<Figure size 640x480 with 1 Axes>"
      ]
     },
     "metadata": {},
     "output_type": "display_data"
    }
   ],
   "source": [
    "plt.scatter(X_test, Y_test, color='black')\n",
    "plt.plot(X_test, Y_predict, color='red',linewidth=3)\n",
    "plt.title('Test Data')\n",
    "plt.xlabel('Size')\n",
    "plt.ylabel('Price')\n",
    "plt.xticks(())\n",
    "plt.yticks(())\n",
    "plt.show()"
   ]
  },
  {
   "cell_type": "markdown",
   "id": "463ab7ad",
   "metadata": {},
   "source": [
    "# 5b) "
   ]
  },
  {
   "cell_type": "code",
   "execution_count": 28,
   "id": "a534e77b",
   "metadata": {},
   "outputs": [],
   "source": [
    "# Select regression variables\n",
    "X = df[['lotsize','bedrooms','bathrms']]\n",
    "X = X.values"
   ]
  },
  {
   "cell_type": "code",
   "execution_count": 29,
   "id": "6b6314ce",
   "metadata": {},
   "outputs": [
    {
     "data": {
      "text/plain": [
       "(546, 3)"
      ]
     },
     "execution_count": 29,
     "metadata": {},
     "output_type": "execute_result"
    }
   ],
   "source": [
    "np.shape(X)"
   ]
  },
  {
   "cell_type": "code",
   "execution_count": 30,
   "id": "7271f496",
   "metadata": {},
   "outputs": [],
   "source": [
    "# Split the data into training/testing sets\n",
    "X_train = X[:-250]\n",
    "X_test = X[-250:]\n",
    "# Split the targets into training/testing sets\n",
    "Y_train = Y[:-250]\n",
    "Y_test = Y[-250:]"
   ]
  },
  {
   "cell_type": "code",
   "execution_count": 31,
   "id": "e16bba30",
   "metadata": {},
   "outputs": [
    {
     "data": {
      "text/plain": [
       "296     50000.0\n",
       "297     50000.0\n",
       "298     52900.0\n",
       "299     53000.0\n",
       "300     55000.0\n",
       "         ...   \n",
       "541     91500.0\n",
       "542     94000.0\n",
       "543    103000.0\n",
       "544    105000.0\n",
       "545    105000.0\n",
       "Name: price, Length: 250, dtype: float64"
      ]
     },
     "execution_count": 31,
     "metadata": {},
     "output_type": "execute_result"
    }
   ],
   "source": [
    "Y_test"
   ]
  },
  {
   "cell_type": "code",
   "execution_count": 32,
   "id": "0294d878",
   "metadata": {},
   "outputs": [
    {
     "data": {
      "text/plain": [
       "array([[ 5900,     2,     1],\n",
       "       [ 3120,     3,     1],\n",
       "       [ 5450,     2,     1],\n",
       "       [ 4040,     2,     1],\n",
       "       [ 4080,     2,     1],\n",
       "       [ 8080,     3,     1],\n",
       "       [ 4040,     2,     1],\n",
       "       [ 4080,     3,     1],\n",
       "       [ 5800,     3,     1],\n",
       "       [ 5885,     2,     1],\n",
       "       [ 9667,     4,     2],\n",
       "       [ 3420,     4,     2],\n",
       "       [ 5800,     2,     1],\n",
       "       [ 7600,     4,     1],\n",
       "       [ 5400,     3,     1],\n",
       "       [ 4995,     4,     2],\n",
       "       [ 3000,     3,     1],\n",
       "       [ 5500,     3,     2],\n",
       "       [ 6450,     3,     2],\n",
       "       [ 6210,     4,     1],\n",
       "       [ 5000,     3,     1],\n",
       "       [ 5000,     3,     1],\n",
       "       [ 5828,     4,     1],\n",
       "       [ 5200,     3,     1],\n",
       "       [ 5500,     3,     1],\n",
       "       [ 6350,     3,     2],\n",
       "       [ 8250,     3,     2],\n",
       "       [ 6000,     3,     1],\n",
       "       [ 7700,     3,     2],\n",
       "       [ 8880,     3,     2],\n",
       "       [ 8880,     2,     1],\n",
       "       [ 6480,     3,     2],\n",
       "       [ 7000,     3,     2],\n",
       "       [ 8875,     3,     1],\n",
       "       [ 7155,     3,     2],\n",
       "       [ 8960,     4,     4],\n",
       "       [ 7350,     2,     1],\n",
       "       [ 3850,     2,     1],\n",
       "       [ 7000,     3,     1],\n",
       "       [ 7770,     2,     1],\n",
       "       [ 7440,     3,     2],\n",
       "       [ 7500,     3,     3],\n",
       "       [ 8100,     4,     1],\n",
       "       [ 3900,     3,     1],\n",
       "       [ 2970,     3,     1],\n",
       "       [ 3000,     3,     1],\n",
       "       [10500,     2,     1],\n",
       "       [ 5500,     3,     2],\n",
       "       [ 4500,     3,     1],\n",
       "       [ 3850,     3,     1],\n",
       "       [ 4130,     3,     2],\n",
       "       [ 4046,     3,     1],\n",
       "       [ 4079,     3,     1],\n",
       "       [ 4000,     3,     1],\n",
       "       [ 9860,     3,     1],\n",
       "       [ 7000,     3,     1],\n",
       "       [ 7980,     3,     1],\n",
       "       [ 6800,     2,     1],\n",
       "       [ 4300,     6,     2],\n",
       "       [10269,     3,     1],\n",
       "       [ 6100,     3,     1],\n",
       "       [ 6420,     3,     2],\n",
       "       [12090,     4,     2],\n",
       "       [ 6600,     3,     1],\n",
       "       [ 6600,     4,     2],\n",
       "       [ 8580,     4,     3],\n",
       "       [ 9960,     3,     2],\n",
       "       [10700,     3,     1],\n",
       "       [15600,     3,     1],\n",
       "       [13200,     2,     1],\n",
       "       [ 9000,     4,     2],\n",
       "       [ 7950,     5,     2],\n",
       "       [16200,     5,     3],\n",
       "       [ 6100,     3,     2],\n",
       "       [ 6360,     3,     1],\n",
       "       [ 6420,     3,     1],\n",
       "       [ 6360,     4,     2],\n",
       "       [ 6540,     4,     2],\n",
       "       [ 6420,     3,     2],\n",
       "       [ 6550,     4,     2],\n",
       "       [ 5750,     3,     2],\n",
       "       [ 7420,     4,     2],\n",
       "       [ 7160,     3,     1],\n",
       "       [ 4000,     3,     2],\n",
       "       [ 9000,     4,     2],\n",
       "       [ 6550,     3,     1],\n",
       "       [13200,     3,     1],\n",
       "       [ 7085,     3,     1],\n",
       "       [ 6600,     4,     2],\n",
       "       [ 6900,     3,     1],\n",
       "       [11460,     3,     1],\n",
       "       [ 7020,     3,     1],\n",
       "       [ 6540,     3,     1],\n",
       "       [ 8000,     3,     1],\n",
       "       [ 9620,     3,     1],\n",
       "       [10500,     3,     2],\n",
       "       [ 5020,     3,     1],\n",
       "       [ 7440,     3,     2],\n",
       "       [ 6600,     3,     1],\n",
       "       [ 7200,     3,     1],\n",
       "       [ 6710,     3,     2],\n",
       "       [ 6660,     4,     2],\n",
       "       [ 7000,     3,     1],\n",
       "       [ 7231,     3,     1],\n",
       "       [ 7410,     3,     1],\n",
       "       [ 7800,     3,     1],\n",
       "       [ 6825,     3,     1],\n",
       "       [ 6360,     3,     1],\n",
       "       [ 6600,     4,     2],\n",
       "       [ 6900,     3,     2],\n",
       "       [ 6600,     3,     1],\n",
       "       [ 6420,     3,     1],\n",
       "       [ 6600,     3,     2],\n",
       "       [ 6600,     3,     2],\n",
       "       [ 9000,     3,     1],\n",
       "       [ 6500,     3,     2],\n",
       "       [ 6360,     3,     2],\n",
       "       [ 5300,     3,     1],\n",
       "       [ 2850,     3,     2],\n",
       "       [ 6400,     3,     1],\n",
       "       [11175,     3,     1],\n",
       "       [ 6750,     2,     1],\n",
       "       [ 7500,     4,     2],\n",
       "       [ 6000,     3,     1],\n",
       "       [10240,     2,     1],\n",
       "       [ 5136,     3,     1],\n",
       "       [ 3400,     3,     1],\n",
       "       [ 2880,     3,     1],\n",
       "       [ 3840,     3,     1],\n",
       "       [ 2870,     2,     1],\n",
       "       [ 5320,     2,     1],\n",
       "       [ 3512,     2,     1],\n",
       "       [ 3480,     2,     1],\n",
       "       [ 3600,     3,     1],\n",
       "       [ 3520,     2,     1],\n",
       "       [ 5320,     3,     1],\n",
       "       [ 6040,     3,     1],\n",
       "       [11410,     2,     1],\n",
       "       [ 8400,     3,     1],\n",
       "       [ 5300,     4,     2],\n",
       "       [ 7800,     3,     2],\n",
       "       [ 3520,     3,     1],\n",
       "       [ 5360,     3,     1],\n",
       "       [ 6862,     3,     1],\n",
       "       [ 3520,     3,     1],\n",
       "       [ 4050,     2,     1],\n",
       "       [ 3520,     3,     1],\n",
       "       [ 4400,     4,     1],\n",
       "       [ 5720,     2,     1],\n",
       "       [11440,     4,     1],\n",
       "       [ 7482,     3,     2],\n",
       "       [ 5500,     4,     2],\n",
       "       [ 4320,     3,     1],\n",
       "       [ 5400,     2,     1],\n",
       "       [ 4320,     3,     1],\n",
       "       [ 4815,     2,     1],\n",
       "       [ 6100,     3,     1],\n",
       "       [ 7980,     3,     1],\n",
       "       [ 6050,     3,     1],\n",
       "       [ 3800,     3,     1],\n",
       "       [ 5400,     5,     1],\n",
       "       [ 6000,     3,     2],\n",
       "       [ 2398,     3,     1],\n",
       "       [ 2145,     3,     1],\n",
       "       [ 2145,     3,     1],\n",
       "       [ 2145,     3,     1],\n",
       "       [ 2610,     3,     1],\n",
       "       [ 1950,     3,     2],\n",
       "       [ 2145,     3,     1],\n",
       "       [ 2275,     3,     1],\n",
       "       [ 2856,     3,     1],\n",
       "       [ 2015,     3,     1],\n",
       "       [ 2176,     2,     1],\n",
       "       [ 2145,     4,     2],\n",
       "       [ 2145,     3,     1],\n",
       "       [ 2787,     3,     1],\n",
       "       [ 9500,     3,     1],\n",
       "       [ 4990,     4,     2],\n",
       "       [ 6670,     3,     1],\n",
       "       [ 6254,     4,     2],\n",
       "       [10360,     2,     1],\n",
       "       [ 5500,     3,     2],\n",
       "       [ 5450,     4,     2],\n",
       "       [ 5500,     3,     1],\n",
       "       [ 6000,     4,     1],\n",
       "       [ 5700,     3,     1],\n",
       "       [ 6600,     2,     2],\n",
       "       [ 4000,     2,     1],\n",
       "       [ 4880,     3,     1],\n",
       "       [ 4880,     4,     2],\n",
       "       [ 8050,     2,     1],\n",
       "       [ 8100,     2,     1],\n",
       "       [ 5880,     3,     1],\n",
       "       [ 5880,     2,     1],\n",
       "       [12944,     3,     1],\n",
       "       [ 6020,     3,     1],\n",
       "       [ 4050,     2,     1],\n",
       "       [ 8400,     2,     1],\n",
       "       [ 5600,     2,     1],\n",
       "       [ 5985,     3,     1],\n",
       "       [ 4500,     3,     1],\n",
       "       [ 4920,     3,     1],\n",
       "       [ 8250,     3,     1],\n",
       "       [ 8400,     4,     1],\n",
       "       [ 6440,     2,     1],\n",
       "       [ 8100,     4,     1],\n",
       "       [ 6720,     3,     1],\n",
       "       [ 5948,     3,     1],\n",
       "       [ 8150,     3,     2],\n",
       "       [ 4800,     2,     1],\n",
       "       [ 9800,     4,     2],\n",
       "       [ 8520,     3,     1],\n",
       "       [ 8372,     3,     1],\n",
       "       [ 4040,     3,     1],\n",
       "       [ 4646,     3,     1],\n",
       "       [ 4775,     4,     1],\n",
       "       [ 4950,     4,     1],\n",
       "       [ 5010,     3,     1],\n",
       "       [ 6060,     2,     1],\n",
       "       [ 3584,     2,     1],\n",
       "       [ 6000,     3,     2],\n",
       "       [ 6000,     4,     2],\n",
       "       [ 6240,     4,     2],\n",
       "       [ 6000,     3,     2],\n",
       "       [ 7680,     4,     2],\n",
       "       [ 6000,     4,     2],\n",
       "       [ 6000,     4,     2],\n",
       "       [ 6000,     4,     2],\n",
       "       [ 6000,     4,     2],\n",
       "       [ 7475,     3,     2],\n",
       "       [ 5150,     3,     2],\n",
       "       [ 6325,     3,     1],\n",
       "       [ 6000,     3,     2],\n",
       "       [ 6000,     3,     2],\n",
       "       [ 6000,     3,     1],\n",
       "       [ 7000,     3,     1],\n",
       "       [12900,     3,     1],\n",
       "       [ 7686,     3,     1],\n",
       "       [ 5000,     3,     1],\n",
       "       [ 5800,     3,     2],\n",
       "       [ 6000,     3,     2],\n",
       "       [ 4800,     3,     1],\n",
       "       [ 6500,     3,     2],\n",
       "       [ 7320,     4,     2],\n",
       "       [ 6525,     3,     2],\n",
       "       [ 4800,     3,     2],\n",
       "       [ 6000,     3,     2],\n",
       "       [ 6000,     3,     2],\n",
       "       [ 6000,     3,     2],\n",
       "       [ 6000,     3,     1]], dtype=int64)"
      ]
     },
     "execution_count": 32,
     "metadata": {},
     "output_type": "execute_result"
    }
   ],
   "source": [
    "X_test"
   ]
  },
  {
   "cell_type": "code",
   "execution_count": 33,
   "id": "86879ec9",
   "metadata": {},
   "outputs": [
    {
     "data": {
      "text/plain": [
       "(250, 3)"
      ]
     },
     "execution_count": 33,
     "metadata": {},
     "output_type": "execute_result"
    }
   ],
   "source": [
    "np.shape(X_test)"
   ]
  },
  {
   "cell_type": "code",
   "execution_count": 34,
   "id": "0e93c354",
   "metadata": {},
   "outputs": [],
   "source": [
    "# add a column of 1s to the matrix\n",
    "ones_column = np.ones((250, 1))\n",
    "X_test = np.concatenate((X_test, ones_column), axis=1)\n",
    "\n"
   ]
  },
  {
   "cell_type": "code",
   "execution_count": 35,
   "id": "3ca62658",
   "metadata": {},
   "outputs": [
    {
     "data": {
      "text/plain": [
       "array([[5.9000e+03, 2.0000e+00, 1.0000e+00, 1.0000e+00],\n",
       "       [3.1200e+03, 3.0000e+00, 1.0000e+00, 1.0000e+00],\n",
       "       [5.4500e+03, 2.0000e+00, 1.0000e+00, 1.0000e+00],\n",
       "       [4.0400e+03, 2.0000e+00, 1.0000e+00, 1.0000e+00],\n",
       "       [4.0800e+03, 2.0000e+00, 1.0000e+00, 1.0000e+00],\n",
       "       [8.0800e+03, 3.0000e+00, 1.0000e+00, 1.0000e+00],\n",
       "       [4.0400e+03, 2.0000e+00, 1.0000e+00, 1.0000e+00],\n",
       "       [4.0800e+03, 3.0000e+00, 1.0000e+00, 1.0000e+00],\n",
       "       [5.8000e+03, 3.0000e+00, 1.0000e+00, 1.0000e+00],\n",
       "       [5.8850e+03, 2.0000e+00, 1.0000e+00, 1.0000e+00],\n",
       "       [9.6670e+03, 4.0000e+00, 2.0000e+00, 1.0000e+00],\n",
       "       [3.4200e+03, 4.0000e+00, 2.0000e+00, 1.0000e+00],\n",
       "       [5.8000e+03, 2.0000e+00, 1.0000e+00, 1.0000e+00],\n",
       "       [7.6000e+03, 4.0000e+00, 1.0000e+00, 1.0000e+00],\n",
       "       [5.4000e+03, 3.0000e+00, 1.0000e+00, 1.0000e+00],\n",
       "       [4.9950e+03, 4.0000e+00, 2.0000e+00, 1.0000e+00],\n",
       "       [3.0000e+03, 3.0000e+00, 1.0000e+00, 1.0000e+00],\n",
       "       [5.5000e+03, 3.0000e+00, 2.0000e+00, 1.0000e+00],\n",
       "       [6.4500e+03, 3.0000e+00, 2.0000e+00, 1.0000e+00],\n",
       "       [6.2100e+03, 4.0000e+00, 1.0000e+00, 1.0000e+00],\n",
       "       [5.0000e+03, 3.0000e+00, 1.0000e+00, 1.0000e+00],\n",
       "       [5.0000e+03, 3.0000e+00, 1.0000e+00, 1.0000e+00],\n",
       "       [5.8280e+03, 4.0000e+00, 1.0000e+00, 1.0000e+00],\n",
       "       [5.2000e+03, 3.0000e+00, 1.0000e+00, 1.0000e+00],\n",
       "       [5.5000e+03, 3.0000e+00, 1.0000e+00, 1.0000e+00],\n",
       "       [6.3500e+03, 3.0000e+00, 2.0000e+00, 1.0000e+00],\n",
       "       [8.2500e+03, 3.0000e+00, 2.0000e+00, 1.0000e+00],\n",
       "       [6.0000e+03, 3.0000e+00, 1.0000e+00, 1.0000e+00],\n",
       "       [7.7000e+03, 3.0000e+00, 2.0000e+00, 1.0000e+00],\n",
       "       [8.8800e+03, 3.0000e+00, 2.0000e+00, 1.0000e+00],\n",
       "       [8.8800e+03, 2.0000e+00, 1.0000e+00, 1.0000e+00],\n",
       "       [6.4800e+03, 3.0000e+00, 2.0000e+00, 1.0000e+00],\n",
       "       [7.0000e+03, 3.0000e+00, 2.0000e+00, 1.0000e+00],\n",
       "       [8.8750e+03, 3.0000e+00, 1.0000e+00, 1.0000e+00],\n",
       "       [7.1550e+03, 3.0000e+00, 2.0000e+00, 1.0000e+00],\n",
       "       [8.9600e+03, 4.0000e+00, 4.0000e+00, 1.0000e+00],\n",
       "       [7.3500e+03, 2.0000e+00, 1.0000e+00, 1.0000e+00],\n",
       "       [3.8500e+03, 2.0000e+00, 1.0000e+00, 1.0000e+00],\n",
       "       [7.0000e+03, 3.0000e+00, 1.0000e+00, 1.0000e+00],\n",
       "       [7.7700e+03, 2.0000e+00, 1.0000e+00, 1.0000e+00],\n",
       "       [7.4400e+03, 3.0000e+00, 2.0000e+00, 1.0000e+00],\n",
       "       [7.5000e+03, 3.0000e+00, 3.0000e+00, 1.0000e+00],\n",
       "       [8.1000e+03, 4.0000e+00, 1.0000e+00, 1.0000e+00],\n",
       "       [3.9000e+03, 3.0000e+00, 1.0000e+00, 1.0000e+00],\n",
       "       [2.9700e+03, 3.0000e+00, 1.0000e+00, 1.0000e+00],\n",
       "       [3.0000e+03, 3.0000e+00, 1.0000e+00, 1.0000e+00],\n",
       "       [1.0500e+04, 2.0000e+00, 1.0000e+00, 1.0000e+00],\n",
       "       [5.5000e+03, 3.0000e+00, 2.0000e+00, 1.0000e+00],\n",
       "       [4.5000e+03, 3.0000e+00, 1.0000e+00, 1.0000e+00],\n",
       "       [3.8500e+03, 3.0000e+00, 1.0000e+00, 1.0000e+00],\n",
       "       [4.1300e+03, 3.0000e+00, 2.0000e+00, 1.0000e+00],\n",
       "       [4.0460e+03, 3.0000e+00, 1.0000e+00, 1.0000e+00],\n",
       "       [4.0790e+03, 3.0000e+00, 1.0000e+00, 1.0000e+00],\n",
       "       [4.0000e+03, 3.0000e+00, 1.0000e+00, 1.0000e+00],\n",
       "       [9.8600e+03, 3.0000e+00, 1.0000e+00, 1.0000e+00],\n",
       "       [7.0000e+03, 3.0000e+00, 1.0000e+00, 1.0000e+00],\n",
       "       [7.9800e+03, 3.0000e+00, 1.0000e+00, 1.0000e+00],\n",
       "       [6.8000e+03, 2.0000e+00, 1.0000e+00, 1.0000e+00],\n",
       "       [4.3000e+03, 6.0000e+00, 2.0000e+00, 1.0000e+00],\n",
       "       [1.0269e+04, 3.0000e+00, 1.0000e+00, 1.0000e+00],\n",
       "       [6.1000e+03, 3.0000e+00, 1.0000e+00, 1.0000e+00],\n",
       "       [6.4200e+03, 3.0000e+00, 2.0000e+00, 1.0000e+00],\n",
       "       [1.2090e+04, 4.0000e+00, 2.0000e+00, 1.0000e+00],\n",
       "       [6.6000e+03, 3.0000e+00, 1.0000e+00, 1.0000e+00],\n",
       "       [6.6000e+03, 4.0000e+00, 2.0000e+00, 1.0000e+00],\n",
       "       [8.5800e+03, 4.0000e+00, 3.0000e+00, 1.0000e+00],\n",
       "       [9.9600e+03, 3.0000e+00, 2.0000e+00, 1.0000e+00],\n",
       "       [1.0700e+04, 3.0000e+00, 1.0000e+00, 1.0000e+00],\n",
       "       [1.5600e+04, 3.0000e+00, 1.0000e+00, 1.0000e+00],\n",
       "       [1.3200e+04, 2.0000e+00, 1.0000e+00, 1.0000e+00],\n",
       "       [9.0000e+03, 4.0000e+00, 2.0000e+00, 1.0000e+00],\n",
       "       [7.9500e+03, 5.0000e+00, 2.0000e+00, 1.0000e+00],\n",
       "       [1.6200e+04, 5.0000e+00, 3.0000e+00, 1.0000e+00],\n",
       "       [6.1000e+03, 3.0000e+00, 2.0000e+00, 1.0000e+00],\n",
       "       [6.3600e+03, 3.0000e+00, 1.0000e+00, 1.0000e+00],\n",
       "       [6.4200e+03, 3.0000e+00, 1.0000e+00, 1.0000e+00],\n",
       "       [6.3600e+03, 4.0000e+00, 2.0000e+00, 1.0000e+00],\n",
       "       [6.5400e+03, 4.0000e+00, 2.0000e+00, 1.0000e+00],\n",
       "       [6.4200e+03, 3.0000e+00, 2.0000e+00, 1.0000e+00],\n",
       "       [6.5500e+03, 4.0000e+00, 2.0000e+00, 1.0000e+00],\n",
       "       [5.7500e+03, 3.0000e+00, 2.0000e+00, 1.0000e+00],\n",
       "       [7.4200e+03, 4.0000e+00, 2.0000e+00, 1.0000e+00],\n",
       "       [7.1600e+03, 3.0000e+00, 1.0000e+00, 1.0000e+00],\n",
       "       [4.0000e+03, 3.0000e+00, 2.0000e+00, 1.0000e+00],\n",
       "       [9.0000e+03, 4.0000e+00, 2.0000e+00, 1.0000e+00],\n",
       "       [6.5500e+03, 3.0000e+00, 1.0000e+00, 1.0000e+00],\n",
       "       [1.3200e+04, 3.0000e+00, 1.0000e+00, 1.0000e+00],\n",
       "       [7.0850e+03, 3.0000e+00, 1.0000e+00, 1.0000e+00],\n",
       "       [6.6000e+03, 4.0000e+00, 2.0000e+00, 1.0000e+00],\n",
       "       [6.9000e+03, 3.0000e+00, 1.0000e+00, 1.0000e+00],\n",
       "       [1.1460e+04, 3.0000e+00, 1.0000e+00, 1.0000e+00],\n",
       "       [7.0200e+03, 3.0000e+00, 1.0000e+00, 1.0000e+00],\n",
       "       [6.5400e+03, 3.0000e+00, 1.0000e+00, 1.0000e+00],\n",
       "       [8.0000e+03, 3.0000e+00, 1.0000e+00, 1.0000e+00],\n",
       "       [9.6200e+03, 3.0000e+00, 1.0000e+00, 1.0000e+00],\n",
       "       [1.0500e+04, 3.0000e+00, 2.0000e+00, 1.0000e+00],\n",
       "       [5.0200e+03, 3.0000e+00, 1.0000e+00, 1.0000e+00],\n",
       "       [7.4400e+03, 3.0000e+00, 2.0000e+00, 1.0000e+00],\n",
       "       [6.6000e+03, 3.0000e+00, 1.0000e+00, 1.0000e+00],\n",
       "       [7.2000e+03, 3.0000e+00, 1.0000e+00, 1.0000e+00],\n",
       "       [6.7100e+03, 3.0000e+00, 2.0000e+00, 1.0000e+00],\n",
       "       [6.6600e+03, 4.0000e+00, 2.0000e+00, 1.0000e+00],\n",
       "       [7.0000e+03, 3.0000e+00, 1.0000e+00, 1.0000e+00],\n",
       "       [7.2310e+03, 3.0000e+00, 1.0000e+00, 1.0000e+00],\n",
       "       [7.4100e+03, 3.0000e+00, 1.0000e+00, 1.0000e+00],\n",
       "       [7.8000e+03, 3.0000e+00, 1.0000e+00, 1.0000e+00],\n",
       "       [6.8250e+03, 3.0000e+00, 1.0000e+00, 1.0000e+00],\n",
       "       [6.3600e+03, 3.0000e+00, 1.0000e+00, 1.0000e+00],\n",
       "       [6.6000e+03, 4.0000e+00, 2.0000e+00, 1.0000e+00],\n",
       "       [6.9000e+03, 3.0000e+00, 2.0000e+00, 1.0000e+00],\n",
       "       [6.6000e+03, 3.0000e+00, 1.0000e+00, 1.0000e+00],\n",
       "       [6.4200e+03, 3.0000e+00, 1.0000e+00, 1.0000e+00],\n",
       "       [6.6000e+03, 3.0000e+00, 2.0000e+00, 1.0000e+00],\n",
       "       [6.6000e+03, 3.0000e+00, 2.0000e+00, 1.0000e+00],\n",
       "       [9.0000e+03, 3.0000e+00, 1.0000e+00, 1.0000e+00],\n",
       "       [6.5000e+03, 3.0000e+00, 2.0000e+00, 1.0000e+00],\n",
       "       [6.3600e+03, 3.0000e+00, 2.0000e+00, 1.0000e+00],\n",
       "       [5.3000e+03, 3.0000e+00, 1.0000e+00, 1.0000e+00],\n",
       "       [2.8500e+03, 3.0000e+00, 2.0000e+00, 1.0000e+00],\n",
       "       [6.4000e+03, 3.0000e+00, 1.0000e+00, 1.0000e+00],\n",
       "       [1.1175e+04, 3.0000e+00, 1.0000e+00, 1.0000e+00],\n",
       "       [6.7500e+03, 2.0000e+00, 1.0000e+00, 1.0000e+00],\n",
       "       [7.5000e+03, 4.0000e+00, 2.0000e+00, 1.0000e+00],\n",
       "       [6.0000e+03, 3.0000e+00, 1.0000e+00, 1.0000e+00],\n",
       "       [1.0240e+04, 2.0000e+00, 1.0000e+00, 1.0000e+00],\n",
       "       [5.1360e+03, 3.0000e+00, 1.0000e+00, 1.0000e+00],\n",
       "       [3.4000e+03, 3.0000e+00, 1.0000e+00, 1.0000e+00],\n",
       "       [2.8800e+03, 3.0000e+00, 1.0000e+00, 1.0000e+00],\n",
       "       [3.8400e+03, 3.0000e+00, 1.0000e+00, 1.0000e+00],\n",
       "       [2.8700e+03, 2.0000e+00, 1.0000e+00, 1.0000e+00],\n",
       "       [5.3200e+03, 2.0000e+00, 1.0000e+00, 1.0000e+00],\n",
       "       [3.5120e+03, 2.0000e+00, 1.0000e+00, 1.0000e+00],\n",
       "       [3.4800e+03, 2.0000e+00, 1.0000e+00, 1.0000e+00],\n",
       "       [3.6000e+03, 3.0000e+00, 1.0000e+00, 1.0000e+00],\n",
       "       [3.5200e+03, 2.0000e+00, 1.0000e+00, 1.0000e+00],\n",
       "       [5.3200e+03, 3.0000e+00, 1.0000e+00, 1.0000e+00],\n",
       "       [6.0400e+03, 3.0000e+00, 1.0000e+00, 1.0000e+00],\n",
       "       [1.1410e+04, 2.0000e+00, 1.0000e+00, 1.0000e+00],\n",
       "       [8.4000e+03, 3.0000e+00, 1.0000e+00, 1.0000e+00],\n",
       "       [5.3000e+03, 4.0000e+00, 2.0000e+00, 1.0000e+00],\n",
       "       [7.8000e+03, 3.0000e+00, 2.0000e+00, 1.0000e+00],\n",
       "       [3.5200e+03, 3.0000e+00, 1.0000e+00, 1.0000e+00],\n",
       "       [5.3600e+03, 3.0000e+00, 1.0000e+00, 1.0000e+00],\n",
       "       [6.8620e+03, 3.0000e+00, 1.0000e+00, 1.0000e+00],\n",
       "       [3.5200e+03, 3.0000e+00, 1.0000e+00, 1.0000e+00],\n",
       "       [4.0500e+03, 2.0000e+00, 1.0000e+00, 1.0000e+00],\n",
       "       [3.5200e+03, 3.0000e+00, 1.0000e+00, 1.0000e+00],\n",
       "       [4.4000e+03, 4.0000e+00, 1.0000e+00, 1.0000e+00],\n",
       "       [5.7200e+03, 2.0000e+00, 1.0000e+00, 1.0000e+00],\n",
       "       [1.1440e+04, 4.0000e+00, 1.0000e+00, 1.0000e+00],\n",
       "       [7.4820e+03, 3.0000e+00, 2.0000e+00, 1.0000e+00],\n",
       "       [5.5000e+03, 4.0000e+00, 2.0000e+00, 1.0000e+00],\n",
       "       [4.3200e+03, 3.0000e+00, 1.0000e+00, 1.0000e+00],\n",
       "       [5.4000e+03, 2.0000e+00, 1.0000e+00, 1.0000e+00],\n",
       "       [4.3200e+03, 3.0000e+00, 1.0000e+00, 1.0000e+00],\n",
       "       [4.8150e+03, 2.0000e+00, 1.0000e+00, 1.0000e+00],\n",
       "       [6.1000e+03, 3.0000e+00, 1.0000e+00, 1.0000e+00],\n",
       "       [7.9800e+03, 3.0000e+00, 1.0000e+00, 1.0000e+00],\n",
       "       [6.0500e+03, 3.0000e+00, 1.0000e+00, 1.0000e+00],\n",
       "       [3.8000e+03, 3.0000e+00, 1.0000e+00, 1.0000e+00],\n",
       "       [5.4000e+03, 5.0000e+00, 1.0000e+00, 1.0000e+00],\n",
       "       [6.0000e+03, 3.0000e+00, 2.0000e+00, 1.0000e+00],\n",
       "       [2.3980e+03, 3.0000e+00, 1.0000e+00, 1.0000e+00],\n",
       "       [2.1450e+03, 3.0000e+00, 1.0000e+00, 1.0000e+00],\n",
       "       [2.1450e+03, 3.0000e+00, 1.0000e+00, 1.0000e+00],\n",
       "       [2.1450e+03, 3.0000e+00, 1.0000e+00, 1.0000e+00],\n",
       "       [2.6100e+03, 3.0000e+00, 1.0000e+00, 1.0000e+00],\n",
       "       [1.9500e+03, 3.0000e+00, 2.0000e+00, 1.0000e+00],\n",
       "       [2.1450e+03, 3.0000e+00, 1.0000e+00, 1.0000e+00],\n",
       "       [2.2750e+03, 3.0000e+00, 1.0000e+00, 1.0000e+00],\n",
       "       [2.8560e+03, 3.0000e+00, 1.0000e+00, 1.0000e+00],\n",
       "       [2.0150e+03, 3.0000e+00, 1.0000e+00, 1.0000e+00],\n",
       "       [2.1760e+03, 2.0000e+00, 1.0000e+00, 1.0000e+00],\n",
       "       [2.1450e+03, 4.0000e+00, 2.0000e+00, 1.0000e+00],\n",
       "       [2.1450e+03, 3.0000e+00, 1.0000e+00, 1.0000e+00],\n",
       "       [2.7870e+03, 3.0000e+00, 1.0000e+00, 1.0000e+00],\n",
       "       [9.5000e+03, 3.0000e+00, 1.0000e+00, 1.0000e+00],\n",
       "       [4.9900e+03, 4.0000e+00, 2.0000e+00, 1.0000e+00],\n",
       "       [6.6700e+03, 3.0000e+00, 1.0000e+00, 1.0000e+00],\n",
       "       [6.2540e+03, 4.0000e+00, 2.0000e+00, 1.0000e+00],\n",
       "       [1.0360e+04, 2.0000e+00, 1.0000e+00, 1.0000e+00],\n",
       "       [5.5000e+03, 3.0000e+00, 2.0000e+00, 1.0000e+00],\n",
       "       [5.4500e+03, 4.0000e+00, 2.0000e+00, 1.0000e+00],\n",
       "       [5.5000e+03, 3.0000e+00, 1.0000e+00, 1.0000e+00],\n",
       "       [6.0000e+03, 4.0000e+00, 1.0000e+00, 1.0000e+00],\n",
       "       [5.7000e+03, 3.0000e+00, 1.0000e+00, 1.0000e+00],\n",
       "       [6.6000e+03, 2.0000e+00, 2.0000e+00, 1.0000e+00],\n",
       "       [4.0000e+03, 2.0000e+00, 1.0000e+00, 1.0000e+00],\n",
       "       [4.8800e+03, 3.0000e+00, 1.0000e+00, 1.0000e+00],\n",
       "       [4.8800e+03, 4.0000e+00, 2.0000e+00, 1.0000e+00],\n",
       "       [8.0500e+03, 2.0000e+00, 1.0000e+00, 1.0000e+00],\n",
       "       [8.1000e+03, 2.0000e+00, 1.0000e+00, 1.0000e+00],\n",
       "       [5.8800e+03, 3.0000e+00, 1.0000e+00, 1.0000e+00],\n",
       "       [5.8800e+03, 2.0000e+00, 1.0000e+00, 1.0000e+00],\n",
       "       [1.2944e+04, 3.0000e+00, 1.0000e+00, 1.0000e+00],\n",
       "       [6.0200e+03, 3.0000e+00, 1.0000e+00, 1.0000e+00],\n",
       "       [4.0500e+03, 2.0000e+00, 1.0000e+00, 1.0000e+00],\n",
       "       [8.4000e+03, 2.0000e+00, 1.0000e+00, 1.0000e+00],\n",
       "       [5.6000e+03, 2.0000e+00, 1.0000e+00, 1.0000e+00],\n",
       "       [5.9850e+03, 3.0000e+00, 1.0000e+00, 1.0000e+00],\n",
       "       [4.5000e+03, 3.0000e+00, 1.0000e+00, 1.0000e+00],\n",
       "       [4.9200e+03, 3.0000e+00, 1.0000e+00, 1.0000e+00],\n",
       "       [8.2500e+03, 3.0000e+00, 1.0000e+00, 1.0000e+00],\n",
       "       [8.4000e+03, 4.0000e+00, 1.0000e+00, 1.0000e+00],\n",
       "       [6.4400e+03, 2.0000e+00, 1.0000e+00, 1.0000e+00],\n",
       "       [8.1000e+03, 4.0000e+00, 1.0000e+00, 1.0000e+00],\n",
       "       [6.7200e+03, 3.0000e+00, 1.0000e+00, 1.0000e+00],\n",
       "       [5.9480e+03, 3.0000e+00, 1.0000e+00, 1.0000e+00],\n",
       "       [8.1500e+03, 3.0000e+00, 2.0000e+00, 1.0000e+00],\n",
       "       [4.8000e+03, 2.0000e+00, 1.0000e+00, 1.0000e+00],\n",
       "       [9.8000e+03, 4.0000e+00, 2.0000e+00, 1.0000e+00],\n",
       "       [8.5200e+03, 3.0000e+00, 1.0000e+00, 1.0000e+00],\n",
       "       [8.3720e+03, 3.0000e+00, 1.0000e+00, 1.0000e+00],\n",
       "       [4.0400e+03, 3.0000e+00, 1.0000e+00, 1.0000e+00],\n",
       "       [4.6460e+03, 3.0000e+00, 1.0000e+00, 1.0000e+00],\n",
       "       [4.7750e+03, 4.0000e+00, 1.0000e+00, 1.0000e+00],\n",
       "       [4.9500e+03, 4.0000e+00, 1.0000e+00, 1.0000e+00],\n",
       "       [5.0100e+03, 3.0000e+00, 1.0000e+00, 1.0000e+00],\n",
       "       [6.0600e+03, 2.0000e+00, 1.0000e+00, 1.0000e+00],\n",
       "       [3.5840e+03, 2.0000e+00, 1.0000e+00, 1.0000e+00],\n",
       "       [6.0000e+03, 3.0000e+00, 2.0000e+00, 1.0000e+00],\n",
       "       [6.0000e+03, 4.0000e+00, 2.0000e+00, 1.0000e+00],\n",
       "       [6.2400e+03, 4.0000e+00, 2.0000e+00, 1.0000e+00],\n",
       "       [6.0000e+03, 3.0000e+00, 2.0000e+00, 1.0000e+00],\n",
       "       [7.6800e+03, 4.0000e+00, 2.0000e+00, 1.0000e+00],\n",
       "       [6.0000e+03, 4.0000e+00, 2.0000e+00, 1.0000e+00],\n",
       "       [6.0000e+03, 4.0000e+00, 2.0000e+00, 1.0000e+00],\n",
       "       [6.0000e+03, 4.0000e+00, 2.0000e+00, 1.0000e+00],\n",
       "       [6.0000e+03, 4.0000e+00, 2.0000e+00, 1.0000e+00],\n",
       "       [7.4750e+03, 3.0000e+00, 2.0000e+00, 1.0000e+00],\n",
       "       [5.1500e+03, 3.0000e+00, 2.0000e+00, 1.0000e+00],\n",
       "       [6.3250e+03, 3.0000e+00, 1.0000e+00, 1.0000e+00],\n",
       "       [6.0000e+03, 3.0000e+00, 2.0000e+00, 1.0000e+00],\n",
       "       [6.0000e+03, 3.0000e+00, 2.0000e+00, 1.0000e+00],\n",
       "       [6.0000e+03, 3.0000e+00, 1.0000e+00, 1.0000e+00],\n",
       "       [7.0000e+03, 3.0000e+00, 1.0000e+00, 1.0000e+00],\n",
       "       [1.2900e+04, 3.0000e+00, 1.0000e+00, 1.0000e+00],\n",
       "       [7.6860e+03, 3.0000e+00, 1.0000e+00, 1.0000e+00],\n",
       "       [5.0000e+03, 3.0000e+00, 1.0000e+00, 1.0000e+00],\n",
       "       [5.8000e+03, 3.0000e+00, 2.0000e+00, 1.0000e+00],\n",
       "       [6.0000e+03, 3.0000e+00, 2.0000e+00, 1.0000e+00],\n",
       "       [4.8000e+03, 3.0000e+00, 1.0000e+00, 1.0000e+00],\n",
       "       [6.5000e+03, 3.0000e+00, 2.0000e+00, 1.0000e+00],\n",
       "       [7.3200e+03, 4.0000e+00, 2.0000e+00, 1.0000e+00],\n",
       "       [6.5250e+03, 3.0000e+00, 2.0000e+00, 1.0000e+00],\n",
       "       [4.8000e+03, 3.0000e+00, 2.0000e+00, 1.0000e+00],\n",
       "       [6.0000e+03, 3.0000e+00, 2.0000e+00, 1.0000e+00],\n",
       "       [6.0000e+03, 3.0000e+00, 2.0000e+00, 1.0000e+00],\n",
       "       [6.0000e+03, 3.0000e+00, 2.0000e+00, 1.0000e+00],\n",
       "       [6.0000e+03, 3.0000e+00, 1.0000e+00, 1.0000e+00]])"
      ]
     },
     "execution_count": 35,
     "metadata": {},
     "output_type": "execute_result"
    }
   ],
   "source": [
    "X_test"
   ]
  },
  {
   "cell_type": "code",
   "execution_count": 36,
   "id": "cbaf38b4",
   "metadata": {},
   "outputs": [
    {
     "data": {
      "text/plain": [
       "(250, 4)"
      ]
     },
     "execution_count": 36,
     "metadata": {},
     "output_type": "execute_result"
    }
   ],
   "source": [
    "np.shape(X_test)"
   ]
  },
  {
   "cell_type": "code",
   "execution_count": 37,
   "id": "a79cbf91",
   "metadata": {},
   "outputs": [
    {
     "data": {
      "text/plain": [
       "array([[1.12404395e+10, 4.83390600e+06, 2.18550600e+06, 1.56957800e+06],\n",
       "       [4.83390600e+06, 2.43300000e+03, 1.07700000e+03, 7.63000000e+02],\n",
       "       [2.18550600e+06, 1.07700000e+03, 5.32000000e+02, 3.40000000e+02],\n",
       "       [1.56957800e+06, 7.63000000e+02, 3.40000000e+02, 2.50000000e+02]])"
      ]
     },
     "execution_count": 37,
     "metadata": {},
     "output_type": "execute_result"
    }
   ],
   "source": [
    "Xmat=np.dot(np.transpose(X_test),X_test)\n",
    "Xmat"
   ]
  },
  {
   "cell_type": "code",
   "execution_count": 38,
   "id": "d6a9d0c2",
   "metadata": {},
   "outputs": [
    {
     "data": {
      "text/plain": [
       "(4, 4)"
      ]
     },
     "execution_count": 38,
     "metadata": {},
     "output_type": "execute_result"
    }
   ],
   "source": [
    "np.shape(Xmat)"
   ]
  },
  {
   "cell_type": "code",
   "execution_count": 39,
   "id": "b429c203",
   "metadata": {},
   "outputs": [
    {
     "data": {
      "text/plain": [
       "array([[ 7.42791373e-10, -1.33972302e-07, -4.67318603e-07,\n",
       "        -3.61903923e-06],\n",
       "       [-1.33972302e-07,  1.22028800e-02, -6.79598769e-03,\n",
       "        -2.71595267e-02],\n",
       "       [-4.67318603e-07, -6.79598769e-03,  1.85487840e-02,\n",
       "        -1.55101986e-03],\n",
       "       [-3.61903923e-06, -2.71595267e-02, -1.55101986e-03,\n",
       "         1.11721720e-01]])"
      ]
     },
     "execution_count": 39,
     "metadata": {},
     "output_type": "execute_result"
    }
   ],
   "source": [
    "Xmatinv=np.linalg.inv(Xmat)\n",
    "Xmatinv"
   ]
  },
  {
   "cell_type": "code",
   "execution_count": 40,
   "id": "77cf4cee",
   "metadata": {},
   "outputs": [
    {
     "data": {
      "text/plain": [
       "array([1.34404871e+11, 6.39704910e+07, 2.98137390e+07, 2.04106470e+07])"
      ]
     },
     "execution_count": 40,
     "metadata": {},
     "output_type": "execute_result"
    }
   ],
   "source": [
    "Ymat=np.dot(np.transpose(X_test),Y_test)\n",
    "Ymat"
   ]
  },
  {
   "cell_type": "code",
   "execution_count": 41,
   "id": "562b0b40",
   "metadata": {},
   "outputs": [
    {
     "data": {
      "text/plain": [
       "array([3.46505755e+00, 5.66038220e+03, 2.37987213e+04, 1.02461282e+04])"
      ]
     },
     "execution_count": 41,
     "metadata": {},
     "output_type": "execute_result"
    }
   ],
   "source": [
    "PlaneCoefficients=np.dot(Xmatinv,Ymat)\n",
    "PlaneCoefficients"
   ]
  },
  {
   "cell_type": "code",
   "execution_count": 42,
   "id": "c0659705",
   "metadata": {},
   "outputs": [],
   "source": [
    "A=PlaneCoefficients[0]\n",
    "B=PlaneCoefficients[1]\n",
    "C=PlaneCoefficients[2]\n",
    "D=PlaneCoefficients[3]\n",
    "\n",
    "w=[A,B,C]\n",
    "b=D"
   ]
  },
  {
   "cell_type": "code",
   "execution_count": 43,
   "id": "6ba2ae92",
   "metadata": {},
   "outputs": [
    {
     "data": {
      "text/plain": [
       "(250, 3)"
      ]
     },
     "execution_count": 43,
     "metadata": {},
     "output_type": "execute_result"
    }
   ],
   "source": [
    "X = df[['lotsize','bedrooms','bathrms']]\n",
    "X = X.values\n",
    "X_test = X[-250:]\n",
    "np.shape(X_test)"
   ]
  },
  {
   "cell_type": "code",
   "execution_count": 44,
   "id": "c04a6bd4",
   "metadata": {},
   "outputs": [],
   "source": [
    "Y_predict = np.dot(X_test,w) + b"
   ]
  },
  {
   "cell_type": "markdown",
   "id": "172b059c",
   "metadata": {},
   "source": [
    "# This figure is of the form $y=Ax_1+Bx_2+Cx_3+D$, which is a 3-dimensional region in a 4-dimensional space."
   ]
  },
  {
   "cell_type": "code",
   "execution_count": null,
   "id": "252bf5da-830a-48cd-b992-cfd7b8a49f87",
   "metadata": {},
   "outputs": [],
   "source": []
  }
 ],
 "metadata": {
  "kernelspec": {
   "display_name": "Python 3 (ipykernel)",
   "language": "python",
   "name": "python3"
  },
  "language_info": {
   "codemirror_mode": {
    "name": "ipython",
    "version": 3
   },
   "file_extension": ".py",
   "mimetype": "text/x-python",
   "name": "python",
   "nbconvert_exporter": "python",
   "pygments_lexer": "ipython3",
   "version": "3.11.1"
  }
 },
 "nbformat": 4,
 "nbformat_minor": 5
}
