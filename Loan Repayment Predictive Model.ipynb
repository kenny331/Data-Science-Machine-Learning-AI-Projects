{
 "cells": [
  {
   "cell_type": "markdown",
   "id": "c12f2ef2",
   "metadata": {},
   "source": [
    "### Kenny Courser Fall 2022"
   ]
  },
  {
   "cell_type": "code",
   "execution_count": null,
   "id": "9097bc60",
   "metadata": {},
   "outputs": [],
   "source": [
    "# 1a)\n",
    "\n",
    "import pandas as pd\n",
    "data=pd.read_csv('LendingClub.csv')\n",
    "data.head()\n",
    "\n",
    "dictionary={'A':1,'B':2,'C':3,'D':4,'E':5,'F':6,'G':7,\n",
    "           'A1':1.0,'A2':1.2,'A3':1.4,'A4':1.6,'A5':1.8,\n",
    "           'B1':2.0,'B2':2.2,'B3':2.4,'B4':2.6,'B5':2.8,\n",
    "           'C1':3.0,'C2':3.2,'C3':3.4,'C4':3.6,'C5':3.8,\n",
    "           'D1':4.0,'D2':4.2,'D3':4.4,'D4':4.6,'D5':4.8,\n",
    "           'E1':5.0,'E2':5.2,'E3':5.4,'E4':5.6,'E5':5.8,\n",
    "           'F1':6.0,'F2':6.2,'F3':6.4,'F4':6.6,'F5':6.8,\n",
    "           'G1':7.0,'G2':7.2,'G3':7.4,'G4':7.6,'G5':7.8,\n",
    "           'RENT':1,'MORTGAGE':2,'OWN':3, 'OTHER':4, 'ANY':5, 'NONE':6,\n",
    "           'Not Verified':1,'Source Verified':2,'Verified':3,\n",
    "            'vacation':1,'debt_consolidation':2,'credit_card':3,'home_improvement':4,'small_business':5,'major_purchase':6,\n",
    "            'other':7,'medical':8,'wedding':9,'car':10,'moving':11,'house':12,'educational':13,'renewable_energy':14,\n",
    "            'w':1,'f':2,\n",
    "            'INDIVIDUAL':1,'JOINT':2,'DIRECT_PAY':3,\n",
    "            'Fully Paid':1, 'Charged Off':0\n",
    "           }\n",
    "\n",
    "\n",
    "x_data=data\n",
    "x_data['term']=x_data['term'].str[:2]\n",
    "x_data['term']=x_data['term'].astype(int)\n",
    "x_data['grade']=x_data['grade'].map(dictionary)\n",
    "x_data['grade']=x_data['grade'].astype(int)\n",
    "x_data['sub_grade']=x_data['sub_grade'].map(dictionary)\n",
    "x_data['sub_grade']=x_data['sub_grade'].astype(float)\n",
    "x_data['home_ownership']=x_data['home_ownership'].map(dictionary)\n",
    "x_data['home_ownership']=x_data['home_ownership'].astype(int)\n",
    "x_data['verification_status']=x_data['verification_status'].map(dictionary)\n",
    "x_data['verification_status']=x_data['verification_status'].astype(int)\n",
    "x_data['loan_status']=x_data['loan_status'].map(dictionary)\n",
    "x_data['loan_status']=x_data['loan_status'].astype(int)\n",
    "x_data['purpose']=x_data['purpose'].map(dictionary)\n",
    "x_data['purpose']=x_data['purpose'].astype(int)\n",
    "x_data['earliest_cr_line']=pd.to_datetime(x_data['earliest_cr_line'])\n",
    "x_data['earliest_cr_line']=x_data['earliest_cr_line'].dt.strftime('%Y%m')\n",
    "x_data['earliest_cr_line']=x_data['earliest_cr_line'].astype(int)\n",
    "x_data['initial_list_status']=x_data['initial_list_status'].map(dictionary)\n",
    "x_data['initial_list_status']=x_data['initial_list_status'].astype(int)\n",
    "x_data['application_type']=x_data['application_type'].map(dictionary)\n",
    "x_data['application_type']=x_data['application_type'].astype(int)\n",
    "x_data['address']=x_data['address'].str[-5:]\n",
    "x_data['address']=x_data['address'].astype(int)\n",
    "#x_data=data.drop(['loan_status'],axis=1)\n",
    "x_data\n",
    "\n"
   ]
  },
  {
   "cell_type": "code",
   "execution_count": 16,
   "id": "76839760",
   "metadata": {},
   "outputs": [],
   "source": [
    "# 1b)\n",
    "\n",
    "# The .csv file has 395219 rows of data"
   ]
  },
  {
   "cell_type": "code",
   "execution_count": 223,
   "id": "518c6f86",
   "metadata": {},
   "outputs": [
    {
     "name": "stdout",
     "output_type": "stream",
     "text": [
      "276653.3\n",
      "118565.7\n"
     ]
    }
   ],
   "source": [
    "print(395219*.7)\n",
    "print(395219*.3)"
   ]
  },
  {
   "cell_type": "markdown",
   "id": "a8cb78f4",
   "metadata": {},
   "source": [
    "### We will use the first 276654 rows as training data and the remaining 118565 rows as test data."
   ]
  },
  {
   "cell_type": "code",
   "execution_count": 6,
   "id": "df5a12e5",
   "metadata": {},
   "outputs": [
    {
     "data": {
      "text/plain": [
       "118565"
      ]
     },
     "execution_count": 6,
     "metadata": {},
     "output_type": "execute_result"
    }
   ],
   "source": [
    "end=int(.3*x_data.shape[0])\n",
    "end"
   ]
  },
  {
   "cell_type": "code",
   "execution_count": 193,
   "id": "09938400",
   "metadata": {},
   "outputs": [],
   "source": [
    "x_data=data.drop(['loan_status'],axis=1)\n",
    "x_data_train=x_data[end:]\n",
    "x_data_test=x_data[:end]\n",
    "y_data=data['loan_status']\n",
    "y_data_train=y_data[end:]\n",
    "y_data_test=y_data[:end]\n",
    "y_data_train=pd.DataFrame(y_data_train)\n",
    "y_data_test=pd.DataFrame(y_data_test)"
   ]
  },
  {
   "cell_type": "code",
   "execution_count": 115,
   "id": "6af614f3",
   "metadata": {},
   "outputs": [
    {
     "data": {
      "text/plain": [
       "(276654, 22)"
      ]
     },
     "execution_count": 115,
     "metadata": {},
     "output_type": "execute_result"
    }
   ],
   "source": [
    "x_data_train.shape"
   ]
  },
  {
   "cell_type": "code",
   "execution_count": 116,
   "id": "807903d6",
   "metadata": {},
   "outputs": [
    {
     "data": {
      "text/plain": [
       "(118565, 22)"
      ]
     },
     "execution_count": 116,
     "metadata": {},
     "output_type": "execute_result"
    }
   ],
   "source": [
    "x_data_test.shape"
   ]
  },
  {
   "cell_type": "code",
   "execution_count": 117,
   "id": "83c49c1c",
   "metadata": {},
   "outputs": [
    {
     "data": {
      "text/plain": [
       "(276654, 1)"
      ]
     },
     "execution_count": 117,
     "metadata": {},
     "output_type": "execute_result"
    }
   ],
   "source": [
    "y_data_train.shape"
   ]
  },
  {
   "cell_type": "code",
   "execution_count": 118,
   "id": "cc34eff0",
   "metadata": {},
   "outputs": [
    {
     "data": {
      "text/plain": [
       "(118565, 1)"
      ]
     },
     "execution_count": 118,
     "metadata": {},
     "output_type": "execute_result"
    }
   ],
   "source": [
    "y_data_test.shape"
   ]
  },
  {
   "cell_type": "code",
   "execution_count": 194,
   "id": "f7bd8235",
   "metadata": {},
   "outputs": [],
   "source": [
    "# 1c)\n",
    "import sklearn.preprocessing\n",
    "from sklearn.preprocessing import MinMaxScaler\n",
    "scaler=MinMaxScaler()\n",
    "\n",
    "#x_data_train=pd.DataFrame(x_data_train)\n",
    "#x_data_test=pd.DataFrame([])\n",
    "\n",
    "x_data_train=scaler.fit_transform(x_data_train)\n",
    "x_data_test=scaler.transform(x_data_test)"
   ]
  },
  {
   "cell_type": "code",
   "execution_count": 87,
   "id": "9f9d73be",
   "metadata": {},
   "outputs": [],
   "source": [
    "# 1d)\n",
    "\n",
    "import tensorflow as tf\n",
    "from tensorflow import keras\n",
    "#x_data_train=x_data_train.drop(['loan_status'],axis=1)\n",
    "#x_data_test=x_data_test.drop(['loan_status'],axis=1)"
   ]
  },
  {
   "cell_type": "code",
   "execution_count": 195,
   "id": "65ae4c39",
   "metadata": {},
   "outputs": [],
   "source": [
    "#x_data_train,x_data_test=x_data_train/255,x_data_test/255\n",
    "x_data_train,x_data_test=x_data_train/.4,x_data_test/.4"
   ]
  },
  {
   "cell_type": "code",
   "execution_count": 196,
   "id": "688baa6a",
   "metadata": {},
   "outputs": [],
   "source": [
    "model=tf.keras.models.Sequential([\n",
    "#    tf.keras.layers.Flatten(input_shape=(28,28)),\n",
    "#    tf.keras.layers.Dense(64,activation='relu'),\n",
    "    tf.keras.layers.Dense(128,activation='relu'),\n",
    "#    tf.keras.layers.Dense(256,activation='relu'),\n",
    "#    tf.keras.layers.Dropout(0.2),\n",
    "    tf.keras.layers.Dropout(0.05),\n",
    "#    tf.keras.layers.Dense(10,activation='softmax')\n",
    "    tf.keras.layers.Dense(40,activation='softmax')\n",
    "])"
   ]
  },
  {
   "cell_type": "code",
   "execution_count": 197,
   "id": "2f136cf2",
   "metadata": {},
   "outputs": [],
   "source": [
    "model.compile(optimizer='adam',loss='sparse_categorical_crossentropy',metrics=['accuracy'])"
   ]
  },
  {
   "cell_type": "code",
   "execution_count": 198,
   "id": "5a2548da",
   "metadata": {},
   "outputs": [
    {
     "name": "stdout",
     "output_type": "stream",
     "text": [
      "Epoch 1/5\n",
      "8646/8646 [==============================] - 21s 2ms/step - loss: 0.3929 - accuracy: 0.8457\n",
      "Epoch 2/5\n",
      "8646/8646 [==============================] - 20s 2ms/step - loss: 0.3050 - accuracy: 0.8762\n",
      "Epoch 3/5\n",
      "8646/8646 [==============================] - 20s 2ms/step - loss: 0.2817 - accuracy: 0.8875\n",
      "Epoch 4/5\n",
      "8646/8646 [==============================] - 19s 2ms/step - loss: 0.2793 - accuracy: 0.8879\n",
      "Epoch 5/5\n",
      "8646/8646 [==============================] - 21s 2ms/step - loss: 0.2781 - accuracy: 0.8878\n"
     ]
    },
    {
     "data": {
      "text/plain": [
       "<keras.callbacks.History at 0x25c9de883d0>"
      ]
     },
     "execution_count": 198,
     "metadata": {},
     "output_type": "execute_result"
    }
   ],
   "source": [
    "model.fit(x_data_train, y_data_train, epochs=5)"
   ]
  },
  {
   "cell_type": "code",
   "execution_count": 200,
   "id": "a84915c0",
   "metadata": {},
   "outputs": [
    {
     "name": "stdout",
     "output_type": "stream",
     "text": [
      "3706/3706 [==============================] - 6s 2ms/step - loss: 0.2771 - accuracy: 0.8877\n"
     ]
    },
    {
     "data": {
      "text/plain": [
       "[0.2771492600440979, 0.8876903057098389]"
      ]
     },
     "execution_count": 200,
     "metadata": {},
     "output_type": "execute_result"
    }
   ],
   "source": [
    "# 1e)\n",
    "\n",
    "model.evaluate(x_data_test,y_data_test)"
   ]
  },
  {
   "cell_type": "markdown",
   "id": "7d8030e2",
   "metadata": {},
   "source": [
    "# 88.77% accuracy"
   ]
  },
  {
   "cell_type": "code",
   "execution_count": null,
   "id": "8dae5784",
   "metadata": {},
   "outputs": [],
   "source": []
  }
 ],
 "metadata": {
  "kernelspec": {
   "display_name": "Python 3 (ipykernel)",
   "language": "python",
   "name": "python3"
  },
  "language_info": {
   "codemirror_mode": {
    "name": "ipython",
    "version": 3
   },
   "file_extension": ".py",
   "mimetype": "text/x-python",
   "name": "python",
   "nbconvert_exporter": "python",
   "pygments_lexer": "ipython3",
   "version": "3.11.1"
  }
 },
 "nbformat": 4,
 "nbformat_minor": 5
}
